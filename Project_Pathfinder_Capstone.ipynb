{
 "cells": [
  {
   "cell_type": "markdown",
   "metadata": {},
   "source": [
    "<h1 style=\"color:blue;\">d'Labs </h1>"
   ]
  },
  {
   "cell_type": "markdown",
   "metadata": {},
   "source": [
    "<h2> Capstone Project - Market Analysis Of Retail Malls </h2>"
   ]
  },
  {
   "cell_type": "markdown",
   "metadata": {},
   "source": [
    "<h2> Importing the Packages </h2>"
   ]
  },
  {
   "cell_type": "code",
   "execution_count": 1,
   "metadata": {},
   "outputs": [],
   "source": [
    "import pandas as pd\n",
    "from matplotlib import pyplot as plt\n",
    "import seaborn as sns\n",
    "import numpy as np"
   ]
  },
  {
   "cell_type": "markdown",
   "metadata": {},
   "source": [
    "<h3> Data Wrangling Of Customer Dataset </h3>"
   ]
  },
  {
   "cell_type": "markdown",
   "metadata": {},
   "source": [
    "<h3> Importing Customer Dataset</h3>"
   ]
  },
  {
   "cell_type": "code",
   "execution_count": 2,
   "metadata": {
    "scrolled": true
   },
   "outputs": [],
   "source": [
    "Customer_details_Original=pd.read_csv(\"C:\\\\Users\\\\Kailash\\\\Desktop\\\\Python_Files\\\\Capstone_project\\\\customer-tier-details - tobeshared.csv\")\n",
    "CD_Copy=Customer_details_Original.copy()\n",
    "CD_Copy.rename(columns={\"customer_id\":\"customer_mobile\"},inplace=True)"
   ]
  },
  {
   "cell_type": "markdown",
   "metadata": {},
   "source": [
    "<h3>Summary of Customer Dataset </h3>"
   ]
  },
  {
   "cell_type": "code",
   "execution_count": 3,
   "metadata": {},
   "outputs": [
    {
     "name": "stdout",
     "output_type": "stream",
     "text": [
      "<class 'pandas.core.frame.DataFrame'>\n",
      "RangeIndex: 50018 entries, 0 to 50017\n",
      "Data columns (total 6 columns):\n",
      "customer_mobile                                                      50018 non-null int64\n",
      "new_customer_name (populate distinct names from any open dataset)    0 non-null float64\n",
      "created_at                                                           50018 non-null object\n",
      "gender                                                               24717 non-null object\n",
      "state                                                                42834 non-null object\n",
      "tier                                                                 50018 non-null object\n",
      "dtypes: float64(1), int64(1), object(4)\n",
      "memory usage: 2.3+ MB\n"
     ]
    }
   ],
   "source": [
    "CD_Copy.info()"
   ]
  },
  {
   "cell_type": "markdown",
   "metadata": {},
   "source": [
    "<h3> Droping Duplicated Customer ID Column </h3> "
   ]
  },
  {
   "cell_type": "code",
   "execution_count": 4,
   "metadata": {},
   "outputs": [],
   "source": [
    "CD_Copy.drop('new_customer_name (populate distinct names from any open dataset)',axis=1,inplace=True)"
   ]
  },
  {
   "cell_type": "markdown",
   "metadata": {},
   "source": [
    "<h3>Descriptive Statistics of Customer dataset</h3> "
   ]
  },
  {
   "cell_type": "code",
   "execution_count": 5,
   "metadata": {},
   "outputs": [
    {
     "data": {
      "text/html": [
       "<div>\n",
       "<style scoped>\n",
       "    .dataframe tbody tr th:only-of-type {\n",
       "        vertical-align: middle;\n",
       "    }\n",
       "\n",
       "    .dataframe tbody tr th {\n",
       "        vertical-align: top;\n",
       "    }\n",
       "\n",
       "    .dataframe thead th {\n",
       "        text-align: right;\n",
       "    }\n",
       "</style>\n",
       "<table border=\"1\" class=\"dataframe\">\n",
       "  <thead>\n",
       "    <tr style=\"text-align: right;\">\n",
       "      <th></th>\n",
       "      <th>customer_mobile</th>\n",
       "      <th>created_at</th>\n",
       "      <th>gender</th>\n",
       "      <th>state</th>\n",
       "      <th>tier</th>\n",
       "    </tr>\n",
       "  </thead>\n",
       "  <tbody>\n",
       "    <tr>\n",
       "      <th>count</th>\n",
       "      <td>5.001800e+04</td>\n",
       "      <td>50018</td>\n",
       "      <td>24717</td>\n",
       "      <td>42834</td>\n",
       "      <td>50018</td>\n",
       "    </tr>\n",
       "    <tr>\n",
       "      <th>unique</th>\n",
       "      <td>NaN</td>\n",
       "      <td>4159</td>\n",
       "      <td>3</td>\n",
       "      <td>23</td>\n",
       "      <td>4</td>\n",
       "    </tr>\n",
       "    <tr>\n",
       "      <th>top</th>\n",
       "      <td>NaN</td>\n",
       "      <td>2019-03-19 15:37:38 +0530</td>\n",
       "      <td>Male</td>\n",
       "      <td>Maharashtra</td>\n",
       "      <td>Blue Member</td>\n",
       "    </tr>\n",
       "    <tr>\n",
       "      <th>freq</th>\n",
       "      <td>NaN</td>\n",
       "      <td>26</td>\n",
       "      <td>13649</td>\n",
       "      <td>41792</td>\n",
       "      <td>49235</td>\n",
       "    </tr>\n",
       "    <tr>\n",
       "      <th>mean</th>\n",
       "      <td>2.435104e+11</td>\n",
       "      <td>NaN</td>\n",
       "      <td>NaN</td>\n",
       "      <td>NaN</td>\n",
       "      <td>NaN</td>\n",
       "    </tr>\n",
       "    <tr>\n",
       "      <th>std</th>\n",
       "      <td>2.083109e+10</td>\n",
       "      <td>NaN</td>\n",
       "      <td>NaN</td>\n",
       "      <td>NaN</td>\n",
       "      <td>NaN</td>\n",
       "    </tr>\n",
       "    <tr>\n",
       "      <th>min</th>\n",
       "      <td>1.574049e+11</td>\n",
       "      <td>NaN</td>\n",
       "      <td>NaN</td>\n",
       "      <td>NaN</td>\n",
       "      <td>NaN</td>\n",
       "    </tr>\n",
       "    <tr>\n",
       "      <th>25%</th>\n",
       "      <td>2.352779e+11</td>\n",
       "      <td>NaN</td>\n",
       "      <td>NaN</td>\n",
       "      <td>NaN</td>\n",
       "      <td>NaN</td>\n",
       "    </tr>\n",
       "    <tr>\n",
       "      <th>50%</th>\n",
       "      <td>2.565125e+11</td>\n",
       "      <td>NaN</td>\n",
       "      <td>NaN</td>\n",
       "      <td>NaN</td>\n",
       "      <td>NaN</td>\n",
       "    </tr>\n",
       "    <tr>\n",
       "      <th>75%</th>\n",
       "      <td>2.569521e+11</td>\n",
       "      <td>NaN</td>\n",
       "      <td>NaN</td>\n",
       "      <td>NaN</td>\n",
       "      <td>NaN</td>\n",
       "    </tr>\n",
       "    <tr>\n",
       "      <th>max</th>\n",
       "      <td>2.613000e+11</td>\n",
       "      <td>NaN</td>\n",
       "      <td>NaN</td>\n",
       "      <td>NaN</td>\n",
       "      <td>NaN</td>\n",
       "    </tr>\n",
       "  </tbody>\n",
       "</table>\n",
       "</div>"
      ],
      "text/plain": [
       "        customer_mobile                 created_at gender        state  \\\n",
       "count      5.001800e+04                      50018  24717        42834   \n",
       "unique              NaN                       4159      3           23   \n",
       "top                 NaN  2019-03-19 15:37:38 +0530   Male  Maharashtra   \n",
       "freq                NaN                         26  13649        41792   \n",
       "mean       2.435104e+11                        NaN    NaN          NaN   \n",
       "std        2.083109e+10                        NaN    NaN          NaN   \n",
       "min        1.574049e+11                        NaN    NaN          NaN   \n",
       "25%        2.352779e+11                        NaN    NaN          NaN   \n",
       "50%        2.565125e+11                        NaN    NaN          NaN   \n",
       "75%        2.569521e+11                        NaN    NaN          NaN   \n",
       "max        2.613000e+11                        NaN    NaN          NaN   \n",
       "\n",
       "               tier  \n",
       "count         50018  \n",
       "unique            4  \n",
       "top     Blue Member  \n",
       "freq          49235  \n",
       "mean            NaN  \n",
       "std             NaN  \n",
       "min             NaN  \n",
       "25%             NaN  \n",
       "50%             NaN  \n",
       "75%             NaN  \n",
       "max             NaN  "
      ]
     },
     "execution_count": 5,
     "metadata": {},
     "output_type": "execute_result"
    }
   ],
   "source": [
    "CD_Copy.describe(include=\"all\")"
   ]
  },
  {
   "cell_type": "markdown",
   "metadata": {},
   "source": [
    "<h3>Checking Duplicate Entries in Customer Dataset</h3> "
   ]
  },
  {
   "cell_type": "code",
   "execution_count": 6,
   "metadata": {},
   "outputs": [
    {
     "name": "stdout",
     "output_type": "stream",
     "text": [
      "Checking Duplicate Entries in Customer Dataset :  False\n"
     ]
    }
   ],
   "source": [
    "print (\"Checking Duplicate Entries in Customer Dataset : \",CD_Copy.duplicated().value_counts().index[0])"
   ]
  },
  {
   "cell_type": "markdown",
   "metadata": {},
   "source": [
    "<h3>Checking the Dimensionality of Customer Datset</h3>"
   ]
  },
  {
   "cell_type": "code",
   "execution_count": 7,
   "metadata": {},
   "outputs": [
    {
     "name": "stdout",
     "output_type": "stream",
     "text": [
      "Shape of Customer Dataset\n",
      "Total Number of Rows : 50018\n",
      "Total Number of Columns : 5\n"
     ]
    }
   ],
   "source": [
    "print (\"Shape of Customer Dataset\")\n",
    "print(\"Total Number of Rows :\",CD_Copy.shape[0])\n",
    "print(\"Total Number of Columns :\",CD_Copy.shape[1])"
   ]
  },
  {
   "cell_type": "markdown",
   "metadata": {},
   "source": [
    "<h3>Analysis of \"created_at\" column in Customer Dataset</h3>"
   ]
  },
  {
   "cell_type": "code",
   "execution_count": 8,
   "metadata": {},
   "outputs": [
    {
     "data": {
      "text/plain": [
       "count                         50018\n",
       "unique                         4159\n",
       "top       2019-03-19 15:37:38 +0530\n",
       "freq                             26\n",
       "Name: created_at, dtype: object"
      ]
     },
     "execution_count": 8,
     "metadata": {},
     "output_type": "execute_result"
    }
   ],
   "source": [
    "CD_Copy['created_at'].describe()"
   ]
  },
  {
   "cell_type": "code",
   "execution_count": 9,
   "metadata": {},
   "outputs": [
    {
     "data": {
      "text/plain": [
       "2019-03-19 15:37:38 +0530    26\n",
       "2019-03-19 15:37:53 +0530    26\n",
       "2019-03-19 15:44:27 +0530    26\n",
       "2019-03-19 15:39:14 +0530    26\n",
       "2019-03-19 15:38:14 +0530    26\n",
       "2019-03-19 15:37:43 +0530    26\n",
       "2019-06-15 14:14:56 +0530    26\n",
       "2019-03-19 15:39:13 +0530    26\n",
       "2019-03-19 15:42:33 +0530    26\n",
       "2019-03-19 15:39:38 +0530    26\n",
       "2019-03-19 15:44:08 +0530    25\n",
       "2019-03-19 15:41:57 +0530    25\n",
       "2019-03-19 15:39:20 +0530    25\n",
       "2019-03-19 15:39:28 +0530    25\n",
       "2019-03-19 15:38:05 +0530    25\n",
       "2019-03-19 15:42:28 +0530    25\n",
       "2019-06-15 14:14:10 +0530    25\n",
       "2019-06-15 14:14:01 +0530    25\n",
       "2019-03-19 15:50:19 +0530    25\n",
       "2019-06-15 14:14:39 +0530    25\n",
       "2019-06-15 14:13:54 +0530    25\n",
       "2019-03-19 15:42:13 +0530    25\n",
       "2019-06-15 14:13:25 +0530    25\n",
       "2019-03-19 15:37:49 +0530    25\n",
       "2019-06-15 14:13:56 +0530    25\n",
       "2019-03-19 15:41:35 +0530    25\n",
       "2019-06-15 14:13:47 +0530    25\n",
       "2019-03-19 15:51:51 +0530    25\n",
       "2019-06-15 14:13:38 +0530    25\n",
       "2019-06-15 14:14:57 +0530    25\n",
       "                             ..\n",
       "2019-05-27 17:20:58 +0530     1\n",
       "2019-05-31 17:49:40 +0530     1\n",
       "2019-05-25 20:05:56 +0530     1\n",
       "2019-07-14 15:24:47 +0530     1\n",
       "2019-06-18 21:33:23 +0530     1\n",
       "2019-05-13 17:11:48 +0530     1\n",
       "2019-06-14 21:58:48 +0530     1\n",
       "2019-05-30 19:48:08 +0530     1\n",
       "2019-04-19 17:31:15 +0530     1\n",
       "2019-08-04 15:02:25 +0530     1\n",
       "2019-05-17 15:54:54 +0530     1\n",
       "2019-05-23 20:21:17 +0530     1\n",
       "2019-05-20 15:30:29 +0530     1\n",
       "2019-06-15 13:41:55 +0530     1\n",
       "2019-05-29 17:55:30 +0530     1\n",
       "2019-04-04 21:01:26 +0530     1\n",
       "2019-05-03 12:29:23 +0530     1\n",
       "2019-05-29 19:21:53 +0530     1\n",
       "2019-05-17 20:23:44 +0530     1\n",
       "2019-06-02 18:55:37 +0530     1\n",
       "2019-06-29 09:59:17 +0530     1\n",
       "2019-07-07 11:28:09 +0530     1\n",
       "2019-06-12 21:01:57 +0530     1\n",
       "2019-08-30 10:37:37 +0530     1\n",
       "2019-08-27 19:13:55 +0530     1\n",
       "2019-06-11 16:29:10 +0530     1\n",
       "2019-05-13 17:17:24 +0530     1\n",
       "2019-06-02 18:35:47 +0530     1\n",
       "2019-04-04 21:51:04 +0530     1\n",
       "2019-05-10 13:03:48 +0530     1\n",
       "Name: created_at, Length: 4159, dtype: int64"
      ]
     },
     "execution_count": 9,
     "metadata": {},
     "output_type": "execute_result"
    }
   ],
   "source": [
    "CD_Copy['created_at'].value_counts()"
   ]
  },
  {
   "cell_type": "markdown",
   "metadata": {},
   "source": [
    "<h3>Analysis of \"state\" column in Customer Dataset</h3>"
   ]
  },
  {
   "cell_type": "code",
   "execution_count": 10,
   "metadata": {},
   "outputs": [
    {
     "name": "stdout",
     "output_type": "stream",
     "text": [
      "['Maharashtra' nan 'Kerala' 'Chhattisgarh' 'West Bengal' 'Gujarat' 'Delhi'\n",
      " 'Haryana' 'Telangana' 'Karnataka' 'Bihar' 'Madhya Pradesh' 'Goa'\n",
      " 'Jharkhand' 'Uttar Pradesh' 'Rajasthan' 'Punjab' 'Orissa' 'Tamil Nadu'\n",
      " 'Chandigarh' 'Assam' 'Andhra Pradesh' 'Uttarakhand' 'Himachal Pradesh']\n"
     ]
    },
    {
     "data": {
      "text/plain": [
       "23"
      ]
     },
     "execution_count": 10,
     "metadata": {},
     "output_type": "execute_result"
    }
   ],
   "source": [
    "print (CD_Copy['state'].unique())\n",
    "CD_Copy['state'].nunique()"
   ]
  },
  {
   "cell_type": "markdown",
   "metadata": {},
   "source": [
    "<h3>Interpretating NaN Values for Customer Dataset </h3>"
   ]
  },
  {
   "cell_type": "code",
   "execution_count": 11,
   "metadata": {},
   "outputs": [
    {
     "name": "stdout",
     "output_type": "stream",
     "text": [
      "NaN       25301\n",
      "Male      13649\n",
      "Female    11063\n",
      "Other         5\n",
      "Name: gender, dtype: int64\n",
      "\n",
      "Maharashtra         41792\n",
      "NaN                  7184\n",
      "Kerala                768\n",
      "Gujarat                49\n",
      "Punjab                 48\n",
      "Karnataka              32\n",
      "Tamil Nadu             30\n",
      "Telangana              16\n",
      "Delhi                  14\n",
      "Uttar Pradesh          12\n",
      "Bihar                  11\n",
      "Rajasthan              11\n",
      "Haryana                11\n",
      "Madhya Pradesh          8\n",
      "Goa                     7\n",
      "Chhattisgarh            6\n",
      "West Bengal             5\n",
      "Andhra Pradesh          4\n",
      "Assam                   3\n",
      "Chandigarh              2\n",
      "Orissa                  2\n",
      "Himachal Pradesh        1\n",
      "Jharkhand               1\n",
      "Uttarakhand             1\n",
      "Name: state, dtype: int64\n",
      "\n",
      "Blue Member        49235\n",
      "Silver Member        562\n",
      "Gold Member          128\n",
      "Platinum Member       93\n",
      "Name: tier, dtype: int64\n"
     ]
    }
   ],
   "source": [
    "print (CD_Copy['gender'].value_counts(dropna=False)),\n",
    "print ()\n",
    "print (CD_Copy['state'].value_counts(dropna=False)),\n",
    "print ()\n",
    "print (CD_Copy['tier'].value_counts(dropna=False))"
   ]
  },
  {
   "cell_type": "markdown",
   "metadata": {},
   "source": [
    "<h3> Filling Nan Values for \"gender\" column in Customer Dataset </h3>\n",
    "<p>-> As nearly half the values of gender column is NaN.</p>\n",
    "<p>-> Both Male and Female values in remaining data are nearly equal</p>\n",
    "<p>-> So by using normal common method of replacing the categorial value by mode doesnt sounds good here</p>\n",
    "<p>-> Hence filled the NaN values in a new apporach of finding the percentage of each categorial values in the non NaN values sum, Based on the percentage of categoriacal value count filled the remaining NaN values.</p>\n",
    "<p>-> Hope, by this approach avoided the biased gender values</p>\n"
   ]
  },
  {
   "cell_type": "code",
   "execution_count": 12,
   "metadata": {},
   "outputs": [
    {
     "name": "stdout",
     "output_type": "stream",
     "text": [
      "13971.0 11324.0 5.0\n",
      "Male      27621\n",
      "Female    22387\n",
      "Other        10\n",
      "Name: gender, dtype: int64\n"
     ]
    }
   ],
   "source": [
    "total=50018\n",
    "NaN=25301\n",
    "Male_total=13649\n",
    "Female_total=11063\n",
    "Other_total=5\n",
    "total_without_nan=total-NaN\n",
    "Male_percent=Male_total/total_without_nan\n",
    "Female_percent=Female_total/total_without_nan\n",
    "Other_percent=Other_total/total_without_nan\n",
    "NaN_Male=Male_percent*NaN\n",
    "NaN_Female=Female_percent*NaN\n",
    "NaN_Other=Other_percent*NaN\n",
    "print(round(NaN_Male,0),round(NaN_Female,0),round(NaN_Other,0))\n",
    "CD_Copy['gender'].fillna(value='Male',limit=13972,inplace=True)\n",
    "CD_Copy['gender'].fillna(value='Female',limit=11324,inplace=True)\n",
    "CD_Copy['gender'].fillna(value='Other',limit=5,inplace=True)\n",
    "print (CD_Copy['gender'].value_counts(dropna=False))"
   ]
  },
  {
   "cell_type": "markdown",
   "metadata": {},
   "source": [
    "<h3> Filled \"state\" column NaN values by Mode Value \"Maharashtra\"</h3>"
   ]
  },
  {
   "cell_type": "code",
   "execution_count": 13,
   "metadata": {},
   "outputs": [
    {
     "name": "stdout",
     "output_type": "stream",
     "text": [
      "Maharashtra         48976\n",
      "Kerala                768\n",
      "Gujarat                49\n",
      "Punjab                 48\n",
      "Karnataka              32\n",
      "Tamil Nadu             30\n",
      "Telangana              16\n",
      "Delhi                  14\n",
      "Uttar Pradesh          12\n",
      "Bihar                  11\n",
      "Rajasthan              11\n",
      "Haryana                11\n",
      "Madhya Pradesh          8\n",
      "Goa                     7\n",
      "Chhattisgarh            6\n",
      "West Bengal             5\n",
      "Andhra Pradesh          4\n",
      "Assam                   3\n",
      "Chandigarh              2\n",
      "Orissa                  2\n",
      "Himachal Pradesh        1\n",
      "Jharkhand               1\n",
      "Uttarakhand             1\n",
      "Name: state, dtype: int64\n"
     ]
    }
   ],
   "source": [
    "CD_Copy['state'].fillna(value=CD_Copy['state'].mode()[0],inplace=True)\n",
    "print (CD_Copy['state'].value_counts(dropna=False))"
   ]
  },
  {
   "cell_type": "markdown",
   "metadata": {},
   "source": [
    "<h3>Importing Store Details Dataset</h3>"
   ]
  },
  {
   "cell_type": "code",
   "execution_count": 14,
   "metadata": {},
   "outputs": [
    {
     "data": {
      "text/html": [
       "<div>\n",
       "<style scoped>\n",
       "    .dataframe tbody tr th:only-of-type {\n",
       "        vertical-align: middle;\n",
       "    }\n",
       "\n",
       "    .dataframe tbody tr th {\n",
       "        vertical-align: top;\n",
       "    }\n",
       "\n",
       "    .dataframe thead th {\n",
       "        text-align: right;\n",
       "    }\n",
       "</style>\n",
       "<table border=\"1\" class=\"dataframe\">\n",
       "  <thead>\n",
       "    <tr style=\"text-align: right;\">\n",
       "      <th></th>\n",
       "      <th>store_name</th>\n",
       "      <th>store_code</th>\n",
       "      <th>store_location</th>\n",
       "      <th>store_category</th>\n",
       "      <th>store_PriceCategory</th>\n",
       "    </tr>\n",
       "  </thead>\n",
       "  <tbody>\n",
       "    <tr>\n",
       "      <th>0</th>\n",
       "      <td>Kansas Denims</td>\n",
       "      <td>IMM00033</td>\n",
       "      <td>Emerald Mall</td>\n",
       "      <td>Women's Fashion,Men's Fashion</td>\n",
       "      <td>Premium</td>\n",
       "    </tr>\n",
       "    <tr>\n",
       "      <th>1</th>\n",
       "      <td>Homosapiens</td>\n",
       "      <td>IMM00020</td>\n",
       "      <td>Emerald Mall</td>\n",
       "      <td>Women's Fashion,Men's Fashion</td>\n",
       "      <td>Premium</td>\n",
       "    </tr>\n",
       "    <tr>\n",
       "      <th>2</th>\n",
       "      <td>Rocket Swims</td>\n",
       "      <td>IMM00153</td>\n",
       "      <td>Emerald Mall</td>\n",
       "      <td>Sports &amp; Fitness,Women's Fashion,Men's Fashion</td>\n",
       "      <td>Premium</td>\n",
       "    </tr>\n",
       "    <tr>\n",
       "      <th>3</th>\n",
       "      <td>Spade &amp;  Yard</td>\n",
       "      <td>IMM00027</td>\n",
       "      <td>Emerald Mall</td>\n",
       "      <td>Gifts &amp; Toys</td>\n",
       "      <td>Value</td>\n",
       "    </tr>\n",
       "    <tr>\n",
       "      <th>4</th>\n",
       "      <td>Pondicherry</td>\n",
       "      <td>IMM00008</td>\n",
       "      <td>Emerald Mall</td>\n",
       "      <td>Accessories,Women's Fashion</td>\n",
       "      <td>Premium</td>\n",
       "    </tr>\n",
       "  </tbody>\n",
       "</table>\n",
       "</div>"
      ],
      "text/plain": [
       "      store_name store_code store_location  \\\n",
       "0  Kansas Denims   IMM00033   Emerald Mall   \n",
       "1    Homosapiens   IMM00020   Emerald Mall   \n",
       "2   Rocket Swims   IMM00153   Emerald Mall   \n",
       "3  Spade &  Yard   IMM00027   Emerald Mall   \n",
       "4    Pondicherry   IMM00008   Emerald Mall   \n",
       "\n",
       "                                   store_category store_PriceCategory  \n",
       "0                   Women's Fashion,Men's Fashion             Premium  \n",
       "1                   Women's Fashion,Men's Fashion             Premium  \n",
       "2  Sports & Fitness,Women's Fashion,Men's Fashion             Premium  \n",
       "3                                    Gifts & Toys               Value  \n",
       "4                     Accessories,Women's Fashion             Premium  "
      ]
     },
     "execution_count": 14,
     "metadata": {},
     "output_type": "execute_result"
    }
   ],
   "source": [
    "Store_Details_Original=pd.read_excel(\"C:\\\\Users\\\\Kailash\\\\Desktop\\\\Python_Files\\\\Capstone_project\\\\Store_Category.xlsx\")\n",
    "SD_Copy=Store_Details_Original.copy()\n",
    "Store_Details_Original.head(5)"
   ]
  },
  {
   "cell_type": "markdown",
   "metadata": {},
   "source": [
    "<h3>Summary of Store Details Dataset</h3>"
   ]
  },
  {
   "cell_type": "code",
   "execution_count": 15,
   "metadata": {},
   "outputs": [
    {
     "name": "stdout",
     "output_type": "stream",
     "text": [
      "<class 'pandas.core.frame.DataFrame'>\n",
      "RangeIndex: 559 entries, 0 to 558\n",
      "Data columns (total 5 columns):\n",
      "store_name             559 non-null object\n",
      "store_code             559 non-null object\n",
      "store_location         559 non-null object\n",
      "store_category         406 non-null object\n",
      "store_PriceCategory    559 non-null object\n",
      "dtypes: object(5)\n",
      "memory usage: 21.9+ KB\n"
     ]
    }
   ],
   "source": [
    "SD_Copy.info()"
   ]
  },
  {
   "cell_type": "markdown",
   "metadata": {},
   "source": [
    "<h3>Descriptive Statistics of Store Details dataset</h3> "
   ]
  },
  {
   "cell_type": "code",
   "execution_count": 16,
   "metadata": {},
   "outputs": [
    {
     "data": {
      "text/html": [
       "<div>\n",
       "<style scoped>\n",
       "    .dataframe tbody tr th:only-of-type {\n",
       "        vertical-align: middle;\n",
       "    }\n",
       "\n",
       "    .dataframe tbody tr th {\n",
       "        vertical-align: top;\n",
       "    }\n",
       "\n",
       "    .dataframe thead th {\n",
       "        text-align: right;\n",
       "    }\n",
       "</style>\n",
       "<table border=\"1\" class=\"dataframe\">\n",
       "  <thead>\n",
       "    <tr style=\"text-align: right;\">\n",
       "      <th></th>\n",
       "      <th>store_name</th>\n",
       "      <th>store_code</th>\n",
       "      <th>store_location</th>\n",
       "      <th>store_category</th>\n",
       "      <th>store_PriceCategory</th>\n",
       "    </tr>\n",
       "  </thead>\n",
       "  <tbody>\n",
       "    <tr>\n",
       "      <th>count</th>\n",
       "      <td>559</td>\n",
       "      <td>559</td>\n",
       "      <td>559</td>\n",
       "      <td>406</td>\n",
       "      <td>559</td>\n",
       "    </tr>\n",
       "    <tr>\n",
       "      <th>unique</th>\n",
       "      <td>347</td>\n",
       "      <td>559</td>\n",
       "      <td>2</td>\n",
       "      <td>33</td>\n",
       "      <td>3</td>\n",
       "    </tr>\n",
       "    <tr>\n",
       "      <th>top</th>\n",
       "      <td>Handcrafted</td>\n",
       "      <td>NA-IMA0030</td>\n",
       "      <td>Emerald Mall</td>\n",
       "      <td>Food &amp; Beverage</td>\n",
       "      <td>Premium</td>\n",
       "    </tr>\n",
       "    <tr>\n",
       "      <th>freq</th>\n",
       "      <td>4</td>\n",
       "      <td>1</td>\n",
       "      <td>347</td>\n",
       "      <td>87</td>\n",
       "      <td>336</td>\n",
       "    </tr>\n",
       "  </tbody>\n",
       "</table>\n",
       "</div>"
      ],
      "text/plain": [
       "         store_name  store_code store_location   store_category  \\\n",
       "count           559         559            559              406   \n",
       "unique          347         559              2               33   \n",
       "top     Handcrafted  NA-IMA0030   Emerald Mall  Food & Beverage   \n",
       "freq              4           1            347               87   \n",
       "\n",
       "       store_PriceCategory  \n",
       "count                  559  \n",
       "unique                   3  \n",
       "top                Premium  \n",
       "freq                   336  "
      ]
     },
     "execution_count": 16,
     "metadata": {},
     "output_type": "execute_result"
    }
   ],
   "source": [
    "SD_Copy.describe(include='all')"
   ]
  },
  {
   "cell_type": "markdown",
   "metadata": {},
   "source": [
    "<h3>Checking Duplicate Entries in Store Details Dataset</h3> "
   ]
  },
  {
   "cell_type": "code",
   "execution_count": 17,
   "metadata": {},
   "outputs": [
    {
     "name": "stdout",
     "output_type": "stream",
     "text": [
      "Checking Duplicate Entries in Store Details Dataset :  False\n"
     ]
    }
   ],
   "source": [
    "print (\"Checking Duplicate Entries in Store Details Dataset : \",SD_Copy.duplicated().value_counts().index[0])"
   ]
  },
  {
   "cell_type": "markdown",
   "metadata": {},
   "source": [
    "<h3>Checking the Dimensionality of Store Details Datset</h3>"
   ]
  },
  {
   "cell_type": "code",
   "execution_count": 18,
   "metadata": {},
   "outputs": [
    {
     "name": "stdout",
     "output_type": "stream",
     "text": [
      "Shape of Store Details Dataset\n",
      "Total Number of Rows : 559\n",
      "Total Number of Columns : 5\n"
     ]
    }
   ],
   "source": [
    "print (\"Shape of Store Details Dataset\")\n",
    "print(\"Total Number of Rows :\",SD_Copy.shape[0])\n",
    "print(\"Total Number of Columns :\",SD_Copy.shape[1])"
   ]
  },
  {
   "cell_type": "markdown",
   "metadata": {},
   "source": [
    "<h3>Analysing \"store_location\" of Store Details Dataset</h3>"
   ]
  },
  {
   "cell_type": "code",
   "execution_count": 19,
   "metadata": {},
   "outputs": [],
   "source": [
    "SD_Copy.drop((SD_Copy[SD_Copy['store_location']=='store_location']).index,axis=0,inplace=True)"
   ]
  },
  {
   "cell_type": "code",
   "execution_count": 20,
   "metadata": {},
   "outputs": [
    {
     "data": {
      "text/plain": [
       "Emerald Mall    347\n",
       "Diamond Mall    212\n",
       "Name: store_location, dtype: int64"
      ]
     },
     "execution_count": 20,
     "metadata": {},
     "output_type": "execute_result"
    }
   ],
   "source": [
    "SD_Copy['store_location'].value_counts()"
   ]
  },
  {
   "cell_type": "markdown",
   "metadata": {},
   "source": [
    "<h3>Splitted Store Details dataset to two based on Store Location</h3>"
   ]
  },
  {
   "cell_type": "code",
   "execution_count": 21,
   "metadata": {},
   "outputs": [
    {
     "name": "stdout",
     "output_type": "stream",
     "text": [
      "      store_name store_code store_location                 store_category  \\\n",
      "0  Kansas Denims   IMM00033   Emerald Mall  Women's Fashion,Men's Fashion   \n",
      "1    Homosapiens   IMM00020   Emerald Mall  Women's Fashion,Men's Fashion   \n",
      "\n",
      "  store_PriceCategory  \n",
      "0             Premium  \n",
      "1             Premium  \n"
     ]
    },
    {
     "data": {
      "text/html": [
       "<div>\n",
       "<style scoped>\n",
       "    .dataframe tbody tr th:only-of-type {\n",
       "        vertical-align: middle;\n",
       "    }\n",
       "\n",
       "    .dataframe tbody tr th {\n",
       "        vertical-align: top;\n",
       "    }\n",
       "\n",
       "    .dataframe thead th {\n",
       "        text-align: right;\n",
       "    }\n",
       "</style>\n",
       "<table border=\"1\" class=\"dataframe\">\n",
       "  <thead>\n",
       "    <tr style=\"text-align: right;\">\n",
       "      <th></th>\n",
       "      <th>store_name</th>\n",
       "      <th>store_code</th>\n",
       "      <th>store_location</th>\n",
       "      <th>store_category</th>\n",
       "      <th>store_PriceCategory</th>\n",
       "    </tr>\n",
       "  </thead>\n",
       "  <tbody>\n",
       "    <tr>\n",
       "      <th>5</th>\n",
       "      <td>Chicago Pizza</td>\n",
       "      <td>IMA00020</td>\n",
       "      <td>Diamond Mall</td>\n",
       "      <td>Food &amp; Beverage</td>\n",
       "      <td>Premium</td>\n",
       "    </tr>\n",
       "    <tr>\n",
       "      <th>19</th>\n",
       "      <td>David Paddington</td>\n",
       "      <td>IMA00086</td>\n",
       "      <td>Diamond Mall</td>\n",
       "      <td>Accessories,Women's Fashion,Men's Fashion</td>\n",
       "      <td>Premium</td>\n",
       "    </tr>\n",
       "  </tbody>\n",
       "</table>\n",
       "</div>"
      ],
      "text/plain": [
       "          store_name store_code store_location  \\\n",
       "5      Chicago Pizza   IMA00020   Diamond Mall   \n",
       "19  David Paddington   IMA00086   Diamond Mall   \n",
       "\n",
       "                               store_category store_PriceCategory  \n",
       "5                             Food & Beverage             Premium  \n",
       "19  Accessories,Women's Fashion,Men's Fashion             Premium  "
      ]
     },
     "execution_count": 21,
     "metadata": {},
     "output_type": "execute_result"
    }
   ],
   "source": [
    "SD_Emerald=SD_Copy[SD_Copy['store_location']=='Emerald Mall']\n",
    "SD_Diamond=SD_Copy[SD_Copy['store_location']=='Diamond Mall']\n",
    "print(SD_Emerald.head(2))\n",
    "SD_Diamond.head(2)"
   ]
  },
  {
   "cell_type": "markdown",
   "metadata": {},
   "source": [
    "<h3>Analysing \"store_category\" of Store Details Dataset</h3>"
   ]
  },
  {
   "cell_type": "markdown",
   "metadata": {},
   "source": [
    "<h3>Interpretating NaN values of \"store_category\"</h3>"
   ]
  },
  {
   "cell_type": "code",
   "execution_count": 22,
   "metadata": {},
   "outputs": [
    {
     "name": "stdout",
     "output_type": "stream",
     "text": [
      "NaN values in Store Category : 153\n"
     ]
    },
    {
     "data": {
      "text/plain": [
       "NaN                                                                                                                                          153\n",
       "Food & Beverage                                                                                                                               87\n",
       "Women's Fashion,Men's Fashion                                                                                                                 65\n",
       "Women's Fashion                                                                                                                               47\n",
       "Men's Fashion                                                                                                                                 35\n",
       "Accessories,Women's Fashion,Men's Fashion                                                                                                     22\n",
       "Beauty & Grooming                                                                                                                             19\n",
       "Electronics                                                                                                                                   17\n",
       "Sports & Fitness,Women's Fashion,Men's Fashion                                                                                                11\n",
       "Accessories,Women's Fashion                                                                                                                   11\n",
       "Home & Lifestyle                                                                                                                               9\n",
       "Kids Fashion                                                                                                                                   9\n",
       "Health & Wellness                                                                                                                              8\n",
       "Entertainment & Leisure                                                                                                                        8\n",
       "Jewellery                                                                                                                                      7\n",
       "Gifts & Toys                                                                                                                                   6\n",
       "Travel                                                                                                                                         6\n",
       "Kids Fashion,Accessories,Women's Fashion,Men's Fashion                                                                                         5\n",
       "Electronics,Entertainment & Leisure                                                                                                            4\n",
       "Accessories                                                                                                                                    4\n",
       "Accessories,Jewellery,Women's Fashion                                                                                                          4\n",
       "Kids Fashion,Women's Fashion,Men's Fashion                                                                                                     3\n",
       "Sports & Fitness                                                                                                                               2\n",
       "Grocery & Household                                                                                                                            2\n",
       "Food & Beverage,Grocery & Household                                                                                                            2\n",
       "Accessories,Men's Fashion                                                                                                                      2\n",
       "Kids Fashion,Accessories                                                                                                                       2\n",
       "Accessories,Sports & Fitness,Women's Fashion,Men's Fashion                                                                                     2\n",
       "Electronics,Kids Fashion,Accessories,Grocery & Household,Home & Lifestyle,Women's Fashion,Men's Fashion,Books and Stationery,Gifts & Toys      2\n",
       "Books and Stationery,Gifts & Toys                                                                                                              1\n",
       "Accessories,Jewellery                                                                                                                          1\n",
       "Jewellery,Gifts & Toys                                                                                                                         1\n",
       "Accessories,Gifts & Toys                                                                                                                       1\n",
       "Travel,Accessories,Sports & Fitness                                                                                                            1\n",
       "Name: store_category, dtype: int64"
      ]
     },
     "execution_count": 22,
     "metadata": {},
     "output_type": "execute_result"
    }
   ],
   "source": [
    "print(\"NaN values in Store Category :\",SD_Copy['store_category'].isnull().sum())\n",
    "SD_Copy['store_category'].value_counts(dropna=False)"
   ]
  },
  {
   "cell_type": "code",
   "execution_count": 23,
   "metadata": {},
   "outputs": [
    {
     "name": "stdout",
     "output_type": "stream",
     "text": [
      "32\n"
     ]
    },
    {
     "data": {
      "text/plain": [
       "NaN                                                                                                                                          99\n",
       "Food & Beverage                                                                                                                              45\n",
       "Women's Fashion,Men's Fashion                                                                                                                38\n",
       "Women's Fashion                                                                                                                              27\n",
       "Men's Fashion                                                                                                                                24\n",
       "Accessories,Women's Fashion,Men's Fashion                                                                                                    14\n",
       "Beauty & Grooming                                                                                                                            13\n",
       "Electronics                                                                                                                                  11\n",
       "Accessories,Women's Fashion                                                                                                                   8\n",
       "Sports & Fitness,Women's Fashion,Men's Fashion                                                                                                8\n",
       "Jewellery                                                                                                                                     7\n",
       "Kids Fashion                                                                                                                                  6\n",
       "Home & Lifestyle                                                                                                                              6\n",
       "Entertainment & Leisure                                                                                                                       4\n",
       "Accessories                                                                                                                                   4\n",
       "Health & Wellness                                                                                                                             4\n",
       "Gifts & Toys                                                                                                                                  4\n",
       "Travel                                                                                                                                        4\n",
       "Accessories,Jewellery,Women's Fashion                                                                                                         2\n",
       "Kids Fashion,Accessories                                                                                                                      2\n",
       "Kids Fashion,Accessories,Women's Fashion,Men's Fashion                                                                                        2\n",
       "Kids Fashion,Women's Fashion,Men's Fashion                                                                                                    2\n",
       "Sports & Fitness                                                                                                                              2\n",
       "Electronics,Entertainment & Leisure                                                                                                           2\n",
       "Jewellery,Gifts & Toys                                                                                                                        1\n",
       "Accessories,Men's Fashion                                                                                                                     1\n",
       "Accessories,Sports & Fitness,Women's Fashion,Men's Fashion                                                                                    1\n",
       "Food & Beverage,Grocery & Household                                                                                                           1\n",
       "Grocery & Household                                                                                                                           1\n",
       "Accessories,Gifts & Toys                                                                                                                      1\n",
       "Electronics,Kids Fashion,Accessories,Grocery & Household,Home & Lifestyle,Women's Fashion,Men's Fashion,Books and Stationery,Gifts & Toys     1\n",
       "Books and Stationery,Gifts & Toys                                                                                                             1\n",
       "Travel,Accessories,Sports & Fitness                                                                                                           1\n",
       "Name: store_category, dtype: int64"
      ]
     },
     "execution_count": 23,
     "metadata": {},
     "output_type": "execute_result"
    }
   ],
   "source": [
    "print (SD_Emerald['store_category'].nunique())\n",
    "SD_Emerald['store_category'].value_counts(dropna=False)"
   ]
  },
  {
   "cell_type": "code",
   "execution_count": 24,
   "metadata": {},
   "outputs": [
    {
     "name": "stdout",
     "output_type": "stream",
     "text": [
      "25\n"
     ]
    },
    {
     "data": {
      "text/plain": [
       "NaN                                                                                                                                          54\n",
       "Food & Beverage                                                                                                                              42\n",
       "Women's Fashion,Men's Fashion                                                                                                                27\n",
       "Women's Fashion                                                                                                                              20\n",
       "Men's Fashion                                                                                                                                11\n",
       "Accessories,Women's Fashion,Men's Fashion                                                                                                     8\n",
       "Beauty & Grooming                                                                                                                             6\n",
       "Electronics                                                                                                                                   6\n",
       "Entertainment & Leisure                                                                                                                       4\n",
       "Health & Wellness                                                                                                                             4\n",
       "Home & Lifestyle                                                                                                                              3\n",
       "Kids Fashion                                                                                                                                  3\n",
       "Kids Fashion,Accessories,Women's Fashion,Men's Fashion                                                                                        3\n",
       "Accessories,Women's Fashion                                                                                                                   3\n",
       "Sports & Fitness,Women's Fashion,Men's Fashion                                                                                                3\n",
       "Accessories,Jewellery,Women's Fashion                                                                                                         2\n",
       "Electronics,Entertainment & Leisure                                                                                                           2\n",
       "Travel                                                                                                                                        2\n",
       "Gifts & Toys                                                                                                                                  2\n",
       "Kids Fashion,Women's Fashion,Men's Fashion                                                                                                    1\n",
       "Accessories,Sports & Fitness,Women's Fashion,Men's Fashion                                                                                    1\n",
       "Food & Beverage,Grocery & Household                                                                                                           1\n",
       "Grocery & Household                                                                                                                           1\n",
       "Electronics,Kids Fashion,Accessories,Grocery & Household,Home & Lifestyle,Women's Fashion,Men's Fashion,Books and Stationery,Gifts & Toys     1\n",
       "Accessories,Men's Fashion                                                                                                                     1\n",
       "Accessories,Jewellery                                                                                                                         1\n",
       "Name: store_category, dtype: int64"
      ]
     },
     "execution_count": 24,
     "metadata": {},
     "output_type": "execute_result"
    }
   ],
   "source": [
    "print (SD_Diamond['store_category'].nunique())\n",
    "SD_Diamond['store_category'].value_counts(dropna=False)"
   ]
  },
  {
   "cell_type": "markdown",
   "metadata": {},
   "source": [
    "<h3>Filling NaN Values for \"store_category\" </h3>\n",
    "<p>* Followed a approach of filling some Store categry values by certain keywords present in the name of the store <br>\n",
    "For example - \"Cafe 46\" gets filled with \"Food & Beverage\" category</p>\n",
    "<p>* Above Approach contibuted very less value only so replaced the remaining NaN values with Unknown</p> "
   ]
  },
  {
   "cell_type": "code",
   "execution_count": 25,
   "metadata": {},
   "outputs": [
    {
     "name": "stdout",
     "output_type": "stream",
     "text": [
      "      store_name store_code store_location  \\\n",
      "0  Kansas Denims   IMM00033   Emerald Mall   \n",
      "1    Homosapiens   IMM00020   Emerald Mall   \n",
      "2   Rocket Swims   IMM00153   Emerald Mall   \n",
      "3  Spade &  Yard   IMM00027   Emerald Mall   \n",
      "4    Pondicherry   IMM00008   Emerald Mall   \n",
      "\n",
      "                                   store_category store_PriceCategory  \n",
      "0                   Women's Fashion,Men's Fashion             Premium  \n",
      "1                   Women's Fashion,Men's Fashion             Premium  \n",
      "2  Sports & Fitness,Women's Fashion,Men's Fashion             Premium  \n",
      "3                                    Gifts & Toys               Value  \n",
      "4                     Accessories,Women's Fashion             Premium  \n"
     ]
    }
   ],
   "source": [
    "SD_Copy['store_category'].fillna(\"Unknown\",inplace=True)\n",
    "for index,row in SD_Copy[SD_Copy['store_category']=='Unknown'].iterrows():\n",
    "    if((('Carat') in row['store_name'] or ('Jewels') in row['store_name'] or('jewels') in row['store_name'] or('Earrings') in row['store_name'] or('earrings') in row['store_name'])):\n",
    "            SD_Copy.at[index,'store_category']='Jewellery'\n",
    "    elif((('Cafe') in row['store_name'] or ('Cafè') in row['store_name'] or ('Coffee') in row['store_name'] or ('Hotdogs') in row['store_name'] )):\n",
    "        SD_Copy.at[index,'store_category']='Food & Beverage'\n",
    "    elif(('Parking')in row['store_name'] or ('parking') in row['store_name']):\n",
    "        SD_Copy.at[index,'store_category']='Parking'\n",
    "            \n",
    "            \n",
    "print (SD_Copy.head(5))  "
   ]
  },
  {
   "cell_type": "markdown",
   "metadata": {},
   "source": [
    "### Analysing \"store_PriceCategory\" of Store Details Dataset"
   ]
  },
  {
   "cell_type": "code",
   "execution_count": 26,
   "metadata": {},
   "outputs": [
    {
     "data": {
      "text/plain": [
       "Premium          336\n",
       "Value            220\n",
       "Super Premium      3\n",
       "Name: store_PriceCategory, dtype: int64"
      ]
     },
     "execution_count": 26,
     "metadata": {},
     "output_type": "execute_result"
    }
   ],
   "source": [
    "SD_Copy['store_PriceCategory'].value_counts()"
   ]
  },
  {
   "cell_type": "code",
   "execution_count": 27,
   "metadata": {},
   "outputs": [
    {
     "data": {
      "text/plain": [
       "Premium          218\n",
       "Value            126\n",
       "Super Premium      3\n",
       "Name: store_PriceCategory, dtype: int64"
      ]
     },
     "execution_count": 27,
     "metadata": {},
     "output_type": "execute_result"
    }
   ],
   "source": [
    "SD_Emerald['store_PriceCategory'].value_counts(dropna=False)"
   ]
  },
  {
   "cell_type": "code",
   "execution_count": 28,
   "metadata": {},
   "outputs": [
    {
     "data": {
      "text/plain": [
       "Premium    118\n",
       "Value       94\n",
       "Name: store_PriceCategory, dtype: int64"
      ]
     },
     "execution_count": 28,
     "metadata": {},
     "output_type": "execute_result"
    }
   ],
   "source": [
    "SD_Diamond['store_PriceCategory'].value_counts()"
   ]
  },
  {
   "cell_type": "markdown",
   "metadata": {},
   "source": [
    "### Analysing \"store_name\" of Store Details Dataset"
   ]
  },
  {
   "cell_type": "code",
   "execution_count": 29,
   "metadata": {},
   "outputs": [
    {
     "name": "stdout",
     "output_type": "stream",
     "text": [
      "Unique Store Name Count :  347\n"
     ]
    },
    {
     "data": {
      "text/plain": [
       "Handcrafted                  4\n",
       "Elephant Polo                4\n",
       "Fresh Waves                  4\n",
       "Rang Bi Rangi                4\n",
       "Maximum                      4\n",
       "Striped Candies              3\n",
       "Streetside Store             3\n",
       "Engine Denims                3\n",
       "Lorenzo'S Rosso              3\n",
       "Triage Sportswear            3\n",
       "Wallace Milkshakes           3\n",
       "Plantorganics                3\n",
       "John Smith                   3\n",
       "Xyz                          3\n",
       "Greenberry Men'S             2\n",
       "Ajay Electronics             2\n",
       "Altitude                     2\n",
       "One Small Peg                2\n",
       "Wuffles                      2\n",
       "Travel Bags                  2\n",
       "Books & Toys World           2\n",
       "Haiku Lingerie               2\n",
       "Comfort Innerwear            2\n",
       "Cinestar Word                2\n",
       "Milano Jeans                 2\n",
       "Khaki Fridays                2\n",
       "Jughead                      2\n",
       "Peach Crush                  2\n",
       "Indian Earrings              2\n",
       "Royal Burgers                2\n",
       "                            ..\n",
       "The 4Th Quarter              1\n",
       "Mishti Mithai                1\n",
       "Nyt                          1\n",
       "Log Land                     1\n",
       "Goth                         1\n",
       "Doll House                   1\n",
       "Timeless Luxuries            1\n",
       "Jhumkis & More               1\n",
       "Lollipops                    1\n",
       "What?                        1\n",
       "Floradelic                   1\n",
       "Bond Street Women            1\n",
       "Baby Baby                    1\n",
       "Jeff & Bridges Lingerie      1\n",
       "Sicily                       1\n",
       "Pan & Spatula                1\n",
       "Wizard                       1\n",
       "Rocket Swims                 1\n",
       "Gateway Of India             1\n",
       "Zoomin' Kids                 1\n",
       "Bollywood Makeup             1\n",
       "American Stripes For Kids    1\n",
       "Oscar Accessories            1\n",
       "Oceana Cafeteria             1\n",
       "Rubies Online.Com            1\n",
       "Tiktok Watches               1\n",
       "Sweet Secrets                1\n",
       "Gloss In A Pot               1\n",
       "Spade &  Yard                1\n",
       "Bond Street                  1\n",
       "Name: store_name, Length: 347, dtype: int64"
      ]
     },
     "execution_count": 29,
     "metadata": {},
     "output_type": "execute_result"
    }
   ],
   "source": [
    "print(\"Unique Store Name Count : \",SD_Copy['store_name'].nunique())\n",
    "\n",
    "SD_Copy['store_name'].value_counts()"
   ]
  },
  {
   "cell_type": "code",
   "execution_count": 30,
   "metadata": {},
   "outputs": [
    {
     "name": "stdout",
     "output_type": "stream",
     "text": [
      "Unique Emerald Store Name Count :  323\n"
     ]
    },
    {
     "data": {
      "text/plain": [
       "Elephant Polo              3\n",
       "Chromatic                  2\n",
       "Fun Rides                  2\n",
       "Rang Bi Rangi              2\n",
       "Fresh Waves                2\n",
       "Henri Salon                2\n",
       "The Rainbow Bar            2\n",
       "Jewels Galore              2\n",
       "Frozen Milk                2\n",
       "Shan San                   2\n",
       "Diamond Parking            2\n",
       "Triage Sportswear          2\n",
       "Alankriti                  2\n",
       "Kidz Pramz                 2\n",
       "Handcrafted                2\n",
       "Beagles & Hounds           2\n",
       "Specstore                  2\n",
       "Home & Kitchen             2\n",
       "Italian Run                2\n",
       "Maximum                    2\n",
       "Luxeindulge                2\n",
       "John Smith                 2\n",
       "Striped Candies            2\n",
       "Mother'S Baby              1\n",
       "Plantorganics              1\n",
       "Nyt                        1\n",
       "Mishti Mithai              1\n",
       "Arabic Treats              1\n",
       "Classic Style              1\n",
       "Krafted Shoes              1\n",
       "                          ..\n",
       "Shringaar Nail Art         1\n",
       "American University        1\n",
       "Haiku Lingerie             1\n",
       "Wuffles                    1\n",
       "Engine Denims              1\n",
       "Bean & Bud                 1\n",
       "Dummy Store                1\n",
       "Feline Sports              1\n",
       "Sharmila'S                 1\n",
       "Pod Store                  1\n",
       "Doll House                 1\n",
       "Bags & Wallets             1\n",
       "Hypercoaster               1\n",
       "Bond Street Women          1\n",
       "CSK Café                   1\n",
       "Jeff & Bridges Lingerie    1\n",
       "One Small Peg              1\n",
       "Kadhai                     1\n",
       "Altitude                   1\n",
       "Baby Baby                  1\n",
       "Ajay Electronics           1\n",
       "Jhoom                      1\n",
       "Chicago Pizza              1\n",
       "Yoggy Yoggy                1\n",
       "Floradelic                 1\n",
       "Sidewalk Shoes             1\n",
       "Crystal Homeware           1\n",
       "Lorenzo'S Rosso            1\n",
       "What?                      1\n",
       "Bond Street                1\n",
       "Name: store_name, Length: 323, dtype: int64"
      ]
     },
     "execution_count": 30,
     "metadata": {},
     "output_type": "execute_result"
    }
   ],
   "source": [
    "print(\"Unique Emerald Store Name Count : \",SD_Emerald['store_name'].nunique())\n",
    "SD_Emerald['store_name'].value_counts()"
   ]
  },
  {
   "cell_type": "code",
   "execution_count": 31,
   "metadata": {
    "scrolled": true
   },
   "outputs": [
    {
     "name": "stdout",
     "output_type": "stream",
     "text": [
      "Unique Diamond Store Name Count :  199\n"
     ]
    },
    {
     "data": {
      "text/plain": [
       "Xyz                     2\n",
       "Handcrafted             2\n",
       "Fresh Waves             2\n",
       "Lorenzo'S Rosso         2\n",
       "Streetside Store        2\n",
       "Taiwan Bubble           2\n",
       "Tnt Gold                2\n",
       "Maximum                 2\n",
       "Sweet Cane Juices       2\n",
       "Engine Denims           2\n",
       "Plantorganics           2\n",
       "Wallace Milkshakes      2\n",
       "Rang Bi Rangi           2\n",
       "Pants & More            1\n",
       "Win Mobiles             1\n",
       "Chicago Pizza           1\n",
       "Pretty A La Mode        1\n",
       "Www                     1\n",
       "All-In-One              1\n",
       "Emerald Parking         1\n",
       "Cafe Telaviv            1\n",
       "One Small Peg           1\n",
       "Indian Traditions       1\n",
       "Melwin Jeans            1\n",
       "Royal Burgers           1\n",
       "Fried Wings             1\n",
       "Mahotsav                1\n",
       "Mother'S Baby           1\n",
       "T Mobiles               1\n",
       "Momo World              1\n",
       "                       ..\n",
       "All                     1\n",
       "Digiitized World        1\n",
       "Das Shoes               1\n",
       "Young Lady              1\n",
       "Horseplay               1\n",
       "Mary Janes              1\n",
       "Pan & Spatula           1\n",
       "Python                  1\n",
       "American Stripes        1\n",
       "Jhoom                   1\n",
       "Hotel Panch Swaad       1\n",
       "Parampari Ethnics       1\n",
       "Wizard                  1\n",
       "Bean & Bud              1\n",
       "Swiss Alps              1\n",
       "Striped Candies         1\n",
       "Wuffles                 1\n",
       "John Smith              1\n",
       "Haiku Lingerie          1\n",
       "American University     1\n",
       "Travel Fx               1\n",
       "Gizmo World             1\n",
       "Indian Filter Coffee    1\n",
       "Bollywood Fashion       1\n",
       "Bags & Wallets          1\n",
       "Lollipops               1\n",
       "Crystal Homeware        1\n",
       "Sidewalk Shoes          1\n",
       "Yoggy Yoggy             1\n",
       "The Yoga Studio         1\n",
       "Name: store_name, Length: 199, dtype: int64"
      ]
     },
     "execution_count": 31,
     "metadata": {},
     "output_type": "execute_result"
    }
   ],
   "source": [
    "print(\"Unique Diamond Store Name Count : \",SD_Diamond['store_name'].nunique())\n",
    "SD_Diamond['store_name'].value_counts()"
   ]
  },
  {
   "cell_type": "markdown",
   "metadata": {},
   "source": [
    "<h3>Importing Transaction Details Dataset</h3>"
   ]
  },
  {
   "cell_type": "code",
   "execution_count": 32,
   "metadata": {},
   "outputs": [],
   "source": [
    "Transaction_details_Original=pd.read_csv(\"C:\\\\Users\\\\Kailash\\\\Desktop\\\\Python_Files\\\\Capstone_project\\\\all_credit_ledger_entries_with_customer_and_store.csv\")\n",
    "TD_Copy=Transaction_details_Original.copy()\n"
   ]
  },
  {
   "cell_type": "markdown",
   "metadata": {},
   "source": [
    "<h3>Summary of Transaction Details Dataset</h3>"
   ]
  },
  {
   "cell_type": "code",
   "execution_count": 33,
   "metadata": {},
   "outputs": [
    {
     "name": "stdout",
     "output_type": "stream",
     "text": [
      "<class 'pandas.core.frame.DataFrame'>\n",
      "RangeIndex: 358088 entries, 0 to 358087\n",
      "Data columns (total 6 columns):\n",
      "billing_timestamp    358088 non-null object\n",
      "transaction_type     358088 non-null object\n",
      "amount               356180 non-null float64\n",
      "points               358088 non-null float64\n",
      "store_code           356179 non-null object\n",
      "customer_mobile      358088 non-null int64\n",
      "dtypes: float64(2), int64(1), object(3)\n",
      "memory usage: 16.4+ MB\n"
     ]
    }
   ],
   "source": [
    "TD_Copy.info()"
   ]
  },
  {
   "cell_type": "markdown",
   "metadata": {},
   "source": [
    "<h3>Descriptive Statistics of Store Details dataset</h3> "
   ]
  },
  {
   "cell_type": "code",
   "execution_count": 34,
   "metadata": {},
   "outputs": [
    {
     "data": {
      "text/html": [
       "<div>\n",
       "<style scoped>\n",
       "    .dataframe tbody tr th:only-of-type {\n",
       "        vertical-align: middle;\n",
       "    }\n",
       "\n",
       "    .dataframe tbody tr th {\n",
       "        vertical-align: top;\n",
       "    }\n",
       "\n",
       "    .dataframe thead th {\n",
       "        text-align: right;\n",
       "    }\n",
       "</style>\n",
       "<table border=\"1\" class=\"dataframe\">\n",
       "  <thead>\n",
       "    <tr style=\"text-align: right;\">\n",
       "      <th></th>\n",
       "      <th>billing_timestamp</th>\n",
       "      <th>transaction_type</th>\n",
       "      <th>amount</th>\n",
       "      <th>points</th>\n",
       "      <th>store_code</th>\n",
       "      <th>customer_mobile</th>\n",
       "    </tr>\n",
       "  </thead>\n",
       "  <tbody>\n",
       "    <tr>\n",
       "      <th>count</th>\n",
       "      <td>358088</td>\n",
       "      <td>358088</td>\n",
       "      <td>3.561800e+05</td>\n",
       "      <td>358088.000000</td>\n",
       "      <td>356179</td>\n",
       "      <td>3.580880e+05</td>\n",
       "    </tr>\n",
       "    <tr>\n",
       "      <th>unique</th>\n",
       "      <td>147960</td>\n",
       "      <td>4</td>\n",
       "      <td>NaN</td>\n",
       "      <td>NaN</td>\n",
       "      <td>557</td>\n",
       "      <td>NaN</td>\n",
       "    </tr>\n",
       "    <tr>\n",
       "      <th>top</th>\n",
       "      <td>2014-10-20 22:47:00 +0530</td>\n",
       "      <td>purchase</td>\n",
       "      <td>NaN</td>\n",
       "      <td>NaN</td>\n",
       "      <td>IMA00052</td>\n",
       "      <td>NaN</td>\n",
       "    </tr>\n",
       "    <tr>\n",
       "      <th>freq</th>\n",
       "      <td>3719</td>\n",
       "      <td>356179</td>\n",
       "      <td>NaN</td>\n",
       "      <td>NaN</td>\n",
       "      <td>47514</td>\n",
       "      <td>NaN</td>\n",
       "    </tr>\n",
       "    <tr>\n",
       "      <th>mean</th>\n",
       "      <td>NaN</td>\n",
       "      <td>NaN</td>\n",
       "      <td>2.961829e+03</td>\n",
       "      <td>32.511483</td>\n",
       "      <td>NaN</td>\n",
       "      <td>2.500349e+11</td>\n",
       "    </tr>\n",
       "    <tr>\n",
       "      <th>std</th>\n",
       "      <td>NaN</td>\n",
       "      <td>NaN</td>\n",
       "      <td>1.102080e+04</td>\n",
       "      <td>123.891279</td>\n",
       "      <td>NaN</td>\n",
       "      <td>1.582008e+10</td>\n",
       "    </tr>\n",
       "    <tr>\n",
       "      <th>min</th>\n",
       "      <td>NaN</td>\n",
       "      <td>NaN</td>\n",
       "      <td>0.000000e+00</td>\n",
       "      <td>0.000000</td>\n",
       "      <td>NaN</td>\n",
       "      <td>1.620746e+11</td>\n",
       "    </tr>\n",
       "    <tr>\n",
       "      <th>25%</th>\n",
       "      <td>NaN</td>\n",
       "      <td>NaN</td>\n",
       "      <td>2.700000e+02</td>\n",
       "      <td>2.830000</td>\n",
       "      <td>NaN</td>\n",
       "      <td>2.513576e+11</td>\n",
       "    </tr>\n",
       "    <tr>\n",
       "      <th>50%</th>\n",
       "      <td>NaN</td>\n",
       "      <td>NaN</td>\n",
       "      <td>9.450000e+02</td>\n",
       "      <td>9.970000</td>\n",
       "      <td>NaN</td>\n",
       "      <td>2.566059e+11</td>\n",
       "    </tr>\n",
       "    <tr>\n",
       "      <th>75%</th>\n",
       "      <td>NaN</td>\n",
       "      <td>NaN</td>\n",
       "      <td>2.630000e+03</td>\n",
       "      <td>28.320000</td>\n",
       "      <td>NaN</td>\n",
       "      <td>2.578289e+11</td>\n",
       "    </tr>\n",
       "    <tr>\n",
       "      <th>max</th>\n",
       "      <td>NaN</td>\n",
       "      <td>NaN</td>\n",
       "      <td>1.330000e+06</td>\n",
       "      <td>13300.000000</td>\n",
       "      <td>NaN</td>\n",
       "      <td>2.613000e+11</td>\n",
       "    </tr>\n",
       "  </tbody>\n",
       "</table>\n",
       "</div>"
      ],
      "text/plain": [
       "                billing_timestamp transaction_type        amount  \\\n",
       "count                      358088           358088  3.561800e+05   \n",
       "unique                     147960                4           NaN   \n",
       "top     2014-10-20 22:47:00 +0530         purchase           NaN   \n",
       "freq                         3719           356179           NaN   \n",
       "mean                          NaN              NaN  2.961829e+03   \n",
       "std                           NaN              NaN  1.102080e+04   \n",
       "min                           NaN              NaN  0.000000e+00   \n",
       "25%                           NaN              NaN  2.700000e+02   \n",
       "50%                           NaN              NaN  9.450000e+02   \n",
       "75%                           NaN              NaN  2.630000e+03   \n",
       "max                           NaN              NaN  1.330000e+06   \n",
       "\n",
       "               points store_code  customer_mobile  \n",
       "count   358088.000000     356179     3.580880e+05  \n",
       "unique            NaN        557              NaN  \n",
       "top               NaN   IMA00052              NaN  \n",
       "freq              NaN      47514              NaN  \n",
       "mean        32.511483        NaN     2.500349e+11  \n",
       "std        123.891279        NaN     1.582008e+10  \n",
       "min          0.000000        NaN     1.620746e+11  \n",
       "25%          2.830000        NaN     2.513576e+11  \n",
       "50%          9.970000        NaN     2.566059e+11  \n",
       "75%         28.320000        NaN     2.578289e+11  \n",
       "max      13300.000000        NaN     2.613000e+11  "
      ]
     },
     "execution_count": 34,
     "metadata": {},
     "output_type": "execute_result"
    }
   ],
   "source": [
    "TD_Copy.describe(include='all')"
   ]
  },
  {
   "cell_type": "markdown",
   "metadata": {},
   "source": [
    "<h3>Checking Duplicate Entries in Store Details Dataset</h3> "
   ]
  },
  {
   "cell_type": "code",
   "execution_count": 35,
   "metadata": {},
   "outputs": [
    {
     "data": {
      "text/plain": [
       "False    350105\n",
       "True       7983\n",
       "dtype: int64"
      ]
     },
     "execution_count": 35,
     "metadata": {},
     "output_type": "execute_result"
    }
   ],
   "source": [
    "TD_Copy.duplicated().value_counts()"
   ]
  },
  {
   "cell_type": "code",
   "execution_count": 36,
   "metadata": {},
   "outputs": [
    {
     "name": "stdout",
     "output_type": "stream",
     "text": [
      "Length of TD before deleting dupicate values 358088\n",
      "Length of TD after deleting dupicate values 350105\n"
     ]
    },
    {
     "data": {
      "text/plain": [
       "False    350105\n",
       "dtype: int64"
      ]
     },
     "execution_count": 36,
     "metadata": {},
     "output_type": "execute_result"
    }
   ],
   "source": [
    "print (\"Length of TD before deleting dupicate values\",len(TD_Copy))\n",
    "TD_Copy.drop_duplicates(inplace=True)\n",
    "print (\"Length of TD after deleting dupicate values\",len(TD_Copy))\n",
    "TD_Copy.duplicated().value_counts()"
   ]
  },
  {
   "cell_type": "code",
   "execution_count": 37,
   "metadata": {},
   "outputs": [
    {
     "name": "stdout",
     "output_type": "stream",
     "text": [
      "Checking Duplicate Entries in Store Details Dataset :  False\n"
     ]
    }
   ],
   "source": [
    "print (\"Checking Duplicate Entries in Store Details Dataset : \",TD_Copy.duplicated().value_counts().index[0])"
   ]
  },
  {
   "cell_type": "markdown",
   "metadata": {},
   "source": [
    "### Analysing \"billing_timestamp\" column of Transactin Data"
   ]
  },
  {
   "cell_type": "code",
   "execution_count": 38,
   "metadata": {},
   "outputs": [
    {
     "data": {
      "text/plain": [
       "count                        350105\n",
       "unique                       147960\n",
       "top       2014-10-20 22:47:00 +0530\n",
       "freq                           3536\n",
       "Name: billing_timestamp, dtype: object"
      ]
     },
     "execution_count": 38,
     "metadata": {},
     "output_type": "execute_result"
    }
   ],
   "source": [
    "TD_Copy['billing_timestamp'].describe()"
   ]
  },
  {
   "cell_type": "code",
   "execution_count": 39,
   "metadata": {},
   "outputs": [
    {
     "data": {
      "text/plain": [
       "0"
      ]
     },
     "execution_count": 39,
     "metadata": {},
     "output_type": "execute_result"
    }
   ],
   "source": [
    "TD_Copy['billing_timestamp'].isnull().sum()"
   ]
  },
  {
   "cell_type": "markdown",
   "metadata": {},
   "source": [
    "### Dropping Inconsistent Date Record from Transaction Dataset\n",
    "<p> A row contains billing timestamp year as 2062 which is impossible to occur so dropping the record</p> "
   ]
  },
  {
   "cell_type": "code",
   "execution_count": 40,
   "metadata": {},
   "outputs": [
    {
     "name": "stdout",
     "output_type": "stream",
     "text": [
      "2018    86479\n",
      "2017    78122\n",
      "2016    64108\n",
      "2019    56301\n",
      "2015    43049\n",
      "2014    22045\n",
      "2062        1\n",
      "Name: billing_timestamp, dtype: int64\n"
     ]
    }
   ],
   "source": [
    "print(pd.to_datetime(TD_Copy['billing_timestamp']).dt.year.value_counts().sort_values(ascending=False))\n",
    "\n",
    "TD_Copy.drop((TD_Copy[pd.to_datetime(TD_Copy['billing_timestamp']).dt.year==2062]).index,axis=0,inplace=True)"
   ]
  },
  {
   "cell_type": "code",
   "execution_count": 41,
   "metadata": {},
   "outputs": [
    {
     "data": {
      "text/plain": [
       "2018    86479\n",
       "2017    78122\n",
       "2016    64108\n",
       "2019    56301\n",
       "2015    43049\n",
       "2014    22045\n",
       "Name: billing_timestamp, dtype: int64"
      ]
     },
     "execution_count": 41,
     "metadata": {},
     "output_type": "execute_result"
    }
   ],
   "source": [
    "pd.to_datetime(TD_Copy['billing_timestamp']).dt.year.value_counts().sort_values(ascending=False)"
   ]
  },
  {
   "cell_type": "markdown",
   "metadata": {},
   "source": [
    "### Analysing \"transaction_type\" column of Transactin Data"
   ]
  },
  {
   "cell_type": "code",
   "execution_count": 42,
   "metadata": {},
   "outputs": [
    {
     "data": {
      "text/plain": [
       "count       350104\n",
       "unique           4\n",
       "top       purchase\n",
       "freq        348508\n",
       "Name: transaction_type, dtype: object"
      ]
     },
     "execution_count": 42,
     "metadata": {},
     "output_type": "execute_result"
    }
   ],
   "source": [
    "TD_Copy['transaction_type'].describe()"
   ]
  },
  {
   "cell_type": "code",
   "execution_count": 43,
   "metadata": {},
   "outputs": [
    {
     "data": {
      "text/plain": [
       "0"
      ]
     },
     "execution_count": 43,
     "metadata": {},
     "output_type": "execute_result"
    }
   ],
   "source": [
    "TD_Copy['transaction_type'].isnull().sum()"
   ]
  },
  {
   "cell_type": "code",
   "execution_count": 44,
   "metadata": {},
   "outputs": [
    {
     "data": {
      "text/plain": [
       "purchase               348508\n",
       "adjustment               1525\n",
       "redemption_reversal        42\n",
       "expiry_reversal            29\n",
       "Name: transaction_type, dtype: int64"
      ]
     },
     "execution_count": 44,
     "metadata": {},
     "output_type": "execute_result"
    }
   ],
   "source": [
    "TD_Copy['transaction_type'].value_counts()"
   ]
  },
  {
   "cell_type": "markdown",
   "metadata": {},
   "source": [
    "### Analysing \"amount\" column of Transactin Data"
   ]
  },
  {
   "cell_type": "code",
   "execution_count": 45,
   "metadata": {},
   "outputs": [
    {
     "data": {
      "text/plain": [
       "1595"
      ]
     },
     "execution_count": 45,
     "metadata": {},
     "output_type": "execute_result"
    }
   ],
   "source": [
    "TD_Copy['amount'].isnull().sum()"
   ]
  },
  {
   "cell_type": "code",
   "execution_count": 46,
   "metadata": {},
   "outputs": [
    {
     "data": {
      "text/plain": [
       "5000.00     3068\n",
       "100.00      2162\n",
       "200.00      1942\n",
       "120.00      1884\n",
       "50.00       1845\n",
       "500.00      1625\n",
       "130.00      1624\n",
       "150.00      1601\n",
       "1000.00     1402\n",
       "499.00      1401\n",
       "40.00       1340\n",
       "999.00      1328\n",
       "300.00      1316\n",
       "180.00      1245\n",
       "2000.00     1205\n",
       "80.00       1181\n",
       "110.00      1177\n",
       "140.00      1173\n",
       "399.00      1165\n",
       "90.00       1162\n",
       "60.00       1149\n",
       "1999.00     1136\n",
       "1499.00     1073\n",
       "599.00      1067\n",
       "250.00      1041\n",
       "799.00      1017\n",
       "160.00       995\n",
       "30.00        957\n",
       "1500.00      952\n",
       "299.00       936\n",
       "            ... \n",
       "13005.00       1\n",
       "5766.00        1\n",
       "15536.00       1\n",
       "15564.00       1\n",
       "5450.96        1\n",
       "34832.00       1\n",
       "25977.00       1\n",
       "408.01         1\n",
       "5106.40        1\n",
       "1105.50        1\n",
       "12870.00       1\n",
       "545.75         1\n",
       "9649.74        1\n",
       "25985.00       1\n",
       "1100.23        1\n",
       "751.56         1\n",
       "1647.54        1\n",
       "11962.00       1\n",
       "42.68          1\n",
       "85.14          1\n",
       "25987.00       1\n",
       "3215.32        1\n",
       "25989.00       1\n",
       "279.80         1\n",
       "70419.22       1\n",
       "25991.00       1\n",
       "34004.00       1\n",
       "28833.20       1\n",
       "25993.00       1\n",
       "4843.70        1\n",
       "Name: amount, Length: 35613, dtype: int64"
      ]
     },
     "execution_count": 46,
     "metadata": {},
     "output_type": "execute_result"
    }
   ],
   "source": [
    "TD_Copy['amount'].value_counts()"
   ]
  },
  {
   "cell_type": "code",
   "execution_count": 47,
   "metadata": {},
   "outputs": [
    {
     "data": {
      "text/plain": [
       "35613"
      ]
     },
     "execution_count": 47,
     "metadata": {},
     "output_type": "execute_result"
    }
   ],
   "source": [
    "TD_Copy['amount'].nunique()"
   ]
  },
  {
   "cell_type": "markdown",
   "metadata": {},
   "source": [
    "### Analysing \"points\" column of Transactin Data"
   ]
  },
  {
   "cell_type": "code",
   "execution_count": 48,
   "metadata": {
    "scrolled": true
   },
   "outputs": [
    {
     "data": {
      "text/plain": [
       "count    350104.000000\n",
       "mean         32.611503\n",
       "std         124.661412\n",
       "min           0.000000\n",
       "25%           2.930000\n",
       "50%           9.990000\n",
       "75%          28.280000\n",
       "max       13300.000000\n",
       "Name: points, dtype: float64"
      ]
     },
     "execution_count": 48,
     "metadata": {},
     "output_type": "execute_result"
    }
   ],
   "source": [
    "TD_Copy['points'].describe(include='all')"
   ]
  },
  {
   "cell_type": "code",
   "execution_count": 49,
   "metadata": {},
   "outputs": [
    {
     "data": {
      "text/plain": [
       "50.00      3596\n",
       "2.00       2077\n",
       "1.00       2056\n",
       "1.20       1823\n",
       "5.00       1659\n",
       "1.50       1556\n",
       "1.30       1549\n",
       "0.50       1507\n",
       "10.00      1447\n",
       "3.00       1374\n",
       "0.40       1302\n",
       "4.99       1295\n",
       "1.80       1249\n",
       "20.00      1242\n",
       "9.99       1235\n",
       "0.80       1203\n",
       "1.40       1162\n",
       "0.60       1148\n",
       "0.90       1134\n",
       "1.10       1132\n",
       "3.99       1108\n",
       "19.99      1061\n",
       "2.50       1016\n",
       "5.99       1008\n",
       "14.99       997\n",
       "1.60        994\n",
       "15.00       985\n",
       "7.99        952\n",
       "2.40        947\n",
       "0.30        920\n",
       "           ... \n",
       "190.40        1\n",
       "133.56        1\n",
       "106.25        1\n",
       "205.30        1\n",
       "228.94        1\n",
       "2773.46       1\n",
       "282.30        1\n",
       "143.20        1\n",
       "582.99        1\n",
       "162.11        1\n",
       "400.79        1\n",
       "287.93        1\n",
       "164.10        1\n",
       "739.49        1\n",
       "99.39         1\n",
       "402.66        1\n",
       "564.90        1\n",
       "252.63        1\n",
       "125.83        1\n",
       "80.69         1\n",
       "325.24        1\n",
       "243.05        1\n",
       "320.47        1\n",
       "1585.01       1\n",
       "77.06         1\n",
       "72.27         1\n",
       "85.13         1\n",
       "171.23        1\n",
       "168.10        1\n",
       "714.99        1\n",
       "Name: points, Length: 17806, dtype: int64"
      ]
     },
     "execution_count": 49,
     "metadata": {},
     "output_type": "execute_result"
    }
   ],
   "source": [
    "TD_Copy['points'].value_counts()"
   ]
  },
  {
   "cell_type": "code",
   "execution_count": 50,
   "metadata": {},
   "outputs": [
    {
     "data": {
      "text/plain": [
       "17806"
      ]
     },
     "execution_count": 50,
     "metadata": {},
     "output_type": "execute_result"
    }
   ],
   "source": [
    "TD_Copy['points'].nunique()"
   ]
  },
  {
   "cell_type": "markdown",
   "metadata": {},
   "source": [
    "### Analysing \"store_code\" column of Transactin Data"
   ]
  },
  {
   "cell_type": "code",
   "execution_count": 51,
   "metadata": {},
   "outputs": [
    {
     "data": {
      "text/plain": [
       "count       348508\n",
       "unique         557\n",
       "top       IMA00052\n",
       "freq         46164\n",
       "Name: store_code, dtype: object"
      ]
     },
     "execution_count": 51,
     "metadata": {},
     "output_type": "execute_result"
    }
   ],
   "source": [
    "TD_Copy['store_code'].describe(include='all')\n"
   ]
  },
  {
   "cell_type": "code",
   "execution_count": 52,
   "metadata": {},
   "outputs": [
    {
     "data": {
      "text/plain": [
       "1596"
      ]
     },
     "execution_count": 52,
     "metadata": {},
     "output_type": "execute_result"
    }
   ],
   "source": [
    "TD_Copy['store_code'].isnull().sum()"
   ]
  },
  {
   "cell_type": "code",
   "execution_count": 53,
   "metadata": {},
   "outputs": [
    {
     "data": {
      "text/plain": [
       "IMA00052      46164\n",
       "IMM00190      37303\n",
       "IMM00189      11410\n",
       "IMM00183       9873\n",
       "NA-IMA0127     8591\n",
       "IMM00202       8260\n",
       "IMM00087       6187\n",
       "IMM00192       5669\n",
       "IMA00055       5268\n",
       "IMM00086       5060\n",
       "IMM00200       4224\n",
       "NA-IMA0100     4181\n",
       "IMM00112       4100\n",
       "IMM00134       3940\n",
       "NA-IMM0069     3816\n",
       "S0001          3813\n",
       "IMM00131       3633\n",
       "IMA00057       3324\n",
       "IMA00022       3211\n",
       "NA-IMM0037     3180\n",
       "IMM00194       3169\n",
       "IMM00197       3159\n",
       "IMM00113       3082\n",
       "IMM00167       3061\n",
       "IMA00027       2879\n",
       "IMM00138       2380\n",
       "NA-IMM0022     2228\n",
       "IMA00047       2179\n",
       "IMM00210       2161\n",
       "IMM00116       2111\n",
       "              ...  \n",
       "NA-IMA0050        1\n",
       "IMA00085          1\n",
       "NA-IMA0051        1\n",
       "NA-IMA0005        1\n",
       "NA-IMA0023        1\n",
       "NA-IMA0052        1\n",
       "NA-IMA0020        1\n",
       "NA-IMA0066        1\n",
       "NA-IMA0094        1\n",
       "IMM00241          1\n",
       "NA-IMA0099        1\n",
       "NA-IMA0043        1\n",
       "NA-IMA0091        1\n",
       "NA-IMA0037        1\n",
       "NA-IMA0119        1\n",
       "NA-IMA0122        1\n",
       "NA-IMA0057        1\n",
       "NA-IMM0070        1\n",
       "NA-IMA0104        1\n",
       "NA-IMM0061        1\n",
       "NA-IMM0042        1\n",
       "NA-IMM0023        1\n",
       "NA-IMA0103        1\n",
       "NA-IMA0054        1\n",
       "NA-IMA0016        1\n",
       "NA-IMA0077        1\n",
       "NA-IMA0072        1\n",
       "IMA00084          1\n",
       "IMA00083          1\n",
       "NA-IMM0013        1\n",
       "Name: store_code, Length: 557, dtype: int64"
      ]
     },
     "execution_count": 53,
     "metadata": {},
     "output_type": "execute_result"
    }
   ],
   "source": [
    "TD_Copy['store_code'].value_counts()"
   ]
  },
  {
   "cell_type": "markdown",
   "metadata": {},
   "source": [
    "### Analysing \"customer_mobile\" column of Transactin Data"
   ]
  },
  {
   "cell_type": "code",
   "execution_count": 54,
   "metadata": {},
   "outputs": [
    {
     "data": {
      "text/plain": [
       "240975802340    2541\n",
       "256947967425    2246\n",
       "256608695427    1945\n",
       "259472473372    1829\n",
       "255283145507    1771\n",
       "260449806289    1744\n",
       "196141256469    1507\n",
       "256949578418    1432\n",
       "256613023470    1188\n",
       "255207440548    1115\n",
       "184089683800    1112\n",
       "243607556755    1107\n",
       "256592682127    1074\n",
       "255285716438    1050\n",
       "257907631184    1024\n",
       "256626128762     973\n",
       "256608559185     970\n",
       "259473557349     959\n",
       "256610079167     956\n",
       "243624530620     948\n",
       "256676238890     944\n",
       "239554419286     942\n",
       "258494074848     919\n",
       "256954018532     913\n",
       "220876554471     802\n",
       "260454328530     753\n",
       "259232631381     751\n",
       "243645112385     746\n",
       "256602876851     733\n",
       "255381199822     709\n",
       "                ... \n",
       "256589258313       1\n",
       "190836692600       1\n",
       "259912531629       1\n",
       "256593718991       1\n",
       "260978733068       1\n",
       "256602591224       1\n",
       "256936816500       1\n",
       "256631236445       1\n",
       "259493329502       1\n",
       "258496452887       1\n",
       "258196593290       1\n",
       "256585603327       1\n",
       "246204612804       1\n",
       "261286886222       1\n",
       "232017300352       1\n",
       "260971025371       1\n",
       "256591736874       1\n",
       "239546674276       1\n",
       "257880956034       1\n",
       "252164615348       1\n",
       "258557756585       1\n",
       "257324924214       1\n",
       "261183425976       1\n",
       "256628313544       1\n",
       "223517535285       1\n",
       "232016995885       1\n",
       "256953929586       1\n",
       "235606589062       1\n",
       "188347651779       1\n",
       "257838051697       1\n",
       "Name: customer_mobile, Length: 13190, dtype: int64"
      ]
     },
     "execution_count": 54,
     "metadata": {},
     "output_type": "execute_result"
    }
   ],
   "source": [
    "TD_Copy['customer_mobile'].value_counts()"
   ]
  },
  {
   "cell_type": "code",
   "execution_count": 55,
   "metadata": {},
   "outputs": [
    {
     "data": {
      "text/plain": [
       "13190"
      ]
     },
     "execution_count": 55,
     "metadata": {},
     "output_type": "execute_result"
    }
   ],
   "source": [
    "TD_Copy['customer_mobile'].nunique()"
   ]
  },
  {
   "cell_type": "markdown",
   "metadata": {},
   "source": [
    "### Creating \"Purchase\" Transaction DataFrame"
   ]
  },
  {
   "cell_type": "code",
   "execution_count": 56,
   "metadata": {},
   "outputs": [
    {
     "data": {
      "text/plain": [
       "billing_timestamp    0\n",
       "transaction_type     0\n",
       "amount               0\n",
       "points               0\n",
       "store_code           0\n",
       "customer_mobile      0\n",
       "dtype: int64"
      ]
     },
     "execution_count": 56,
     "metadata": {},
     "output_type": "execute_result"
    }
   ],
   "source": [
    "TD_Copy_Purchase=TD_Copy[TD_Copy['transaction_type']=='purchase']\n",
    "TD_Copy_Purchase.isnull().sum()"
   ]
  },
  {
   "cell_type": "markdown",
   "metadata": {},
   "source": [
    "### Merging Transaction Dataset with Customer Dataset on \"customer_mobile\" "
   ]
  },
  {
   "cell_type": "code",
   "execution_count": 57,
   "metadata": {},
   "outputs": [],
   "source": [
    "Data_TDCD=pd.merge(TD_Copy_Purchase,CD_Copy,how='inner',on='customer_mobile',suffixes=('Transaction','Customer') )"
   ]
  },
  {
   "cell_type": "markdown",
   "metadata": {},
   "source": [
    "### Merging Above Merged Dataset with Store Details Dataset on \"store_code\" "
   ]
  },
  {
   "cell_type": "code",
   "execution_count": 58,
   "metadata": {},
   "outputs": [],
   "source": [
    "Data_Merged=pd.merge(Data_TDCD,SD_Copy,how='left',on='store_code')"
   ]
  },
  {
   "cell_type": "code",
   "execution_count": 59,
   "metadata": {},
   "outputs": [
    {
     "data": {
      "text/plain": [
       "Index(['billing_timestamp', 'transaction_type', 'amount', 'points',\n",
       "       'store_code', 'customer_mobile', 'created_at', 'gender', 'state',\n",
       "       'tier', 'store_name', 'store_location', 'store_category',\n",
       "       'store_PriceCategory'],\n",
       "      dtype='object')"
      ]
     },
     "execution_count": 59,
     "metadata": {},
     "output_type": "execute_result"
    }
   ],
   "source": [
    "Data_Merged.columns"
   ]
  },
  {
   "cell_type": "markdown",
   "metadata": {},
   "source": [
    "### Checking the Dimensionality of Merged Dataset"
   ]
  },
  {
   "cell_type": "code",
   "execution_count": 60,
   "metadata": {},
   "outputs": [
    {
     "name": "stdout",
     "output_type": "stream",
     "text": [
      "Shape of Store Details Dataset\n",
      "Total Number of Rows : 348508\n",
      "Total Number of Columns : 14\n"
     ]
    }
   ],
   "source": [
    "print (\"Shape of Store Details Dataset\")\n",
    "print(\"Total Number of Rows :\",Data_Merged.shape[0])\n",
    "print(\"Total Number of Columns :\",Data_Merged.shape[1])"
   ]
  },
  {
   "cell_type": "markdown",
   "metadata": {},
   "source": [
    "### Interpretating NaN values for Merged Dataset"
   ]
  },
  {
   "cell_type": "code",
   "execution_count": 61,
   "metadata": {},
   "outputs": [
    {
     "data": {
      "text/plain": [
       "billing_timestamp         0\n",
       "transaction_type          0\n",
       "amount                    0\n",
       "points                    0\n",
       "store_code                0\n",
       "customer_mobile           0\n",
       "created_at                0\n",
       "gender                    0\n",
       "state                     0\n",
       "tier                      0\n",
       "store_name             4425\n",
       "store_location         4425\n",
       "store_category         4425\n",
       "store_PriceCategory    4425\n",
       "dtype: int64"
      ]
     },
     "execution_count": 61,
     "metadata": {},
     "output_type": "execute_result"
    }
   ],
   "source": [
    "Data_Merged.isnull().sum()"
   ]
  },
  {
   "cell_type": "markdown",
   "metadata": {},
   "source": [
    "### Transaction column 'store_name' mismatch with Store Details 'store_name'"
   ]
  },
  {
   "cell_type": "code",
   "execution_count": 62,
   "metadata": {},
   "outputs": [
    {
     "data": {
      "text/plain": [
       "S0001    3813\n",
       "S0002     612\n",
       "Name: store_code, dtype: int64"
      ]
     },
     "execution_count": 62,
     "metadata": {},
     "output_type": "execute_result"
    }
   ],
   "source": [
    "Data_Merged[Data_Merged['store_name'].isnull()]['store_code'].value_counts()"
   ]
  },
  {
   "cell_type": "markdown",
   "metadata": {},
   "source": [
    "### Filling Data_Merged NaN values with \"Unknown\""
   ]
  },
  {
   "cell_type": "code",
   "execution_count": 63,
   "metadata": {},
   "outputs": [
    {
     "data": {
      "text/plain": [
       "billing_timestamp      0\n",
       "transaction_type       0\n",
       "amount                 0\n",
       "points                 0\n",
       "store_code             0\n",
       "customer_mobile        0\n",
       "created_at             0\n",
       "gender                 0\n",
       "state                  0\n",
       "tier                   0\n",
       "store_name             0\n",
       "store_location         0\n",
       "store_category         0\n",
       "store_PriceCategory    0\n",
       "dtype: int64"
      ]
     },
     "execution_count": 63,
     "metadata": {},
     "output_type": "execute_result"
    }
   ],
   "source": [
    "Data_Merged.fillna('Unknown',inplace=True)\n",
    "Data_Merged.isnull().sum()"
   ]
  },
  {
   "cell_type": "markdown",
   "metadata": {},
   "source": [
    "### Dropping Less Insight \"Transaction Type,Created At\" Columns"
   ]
  },
  {
   "cell_type": "code",
   "execution_count": 64,
   "metadata": {},
   "outputs": [],
   "source": [
    "Data_Merged.drop(['transaction_type','created_at'],axis=1,inplace=True)"
   ]
  },
  {
   "cell_type": "markdown",
   "metadata": {},
   "source": [
    "### Splitting Timestamp into Year and Month"
   ]
  },
  {
   "cell_type": "code",
   "execution_count": 65,
   "metadata": {},
   "outputs": [],
   "source": [
    "list1=[]\n",
    "list2=[]\n",
    "for i in Data_Merged['billing_timestamp']:\n",
    "    list=i.split(' ')\n",
    "    list1.append(list[0])\n",
    "    list2.append(list[1])\n"
   ]
  },
  {
   "cell_type": "markdown",
   "metadata": {},
   "source": [
    "### Adding 'billing_date and billing_time' to Data Merged Dataset"
   ]
  },
  {
   "cell_type": "code",
   "execution_count": 66,
   "metadata": {},
   "outputs": [],
   "source": [
    "Data_Merged['billing_date']=list1\n",
    "Data_Merged['billing_time']=list2"
   ]
  },
  {
   "cell_type": "markdown",
   "metadata": {},
   "source": [
    "### Dropping \"billing_timestamp\" from Data_Merged"
   ]
  },
  {
   "cell_type": "code",
   "execution_count": 67,
   "metadata": {
    "scrolled": false
   },
   "outputs": [
    {
     "data": {
      "text/html": [
       "<div>\n",
       "<style scoped>\n",
       "    .dataframe tbody tr th:only-of-type {\n",
       "        vertical-align: middle;\n",
       "    }\n",
       "\n",
       "    .dataframe tbody tr th {\n",
       "        vertical-align: top;\n",
       "    }\n",
       "\n",
       "    .dataframe thead th {\n",
       "        text-align: right;\n",
       "    }\n",
       "</style>\n",
       "<table border=\"1\" class=\"dataframe\">\n",
       "  <thead>\n",
       "    <tr style=\"text-align: right;\">\n",
       "      <th></th>\n",
       "      <th>amount</th>\n",
       "      <th>points</th>\n",
       "      <th>store_code</th>\n",
       "      <th>customer_mobile</th>\n",
       "      <th>gender</th>\n",
       "      <th>state</th>\n",
       "      <th>tier</th>\n",
       "      <th>store_name</th>\n",
       "      <th>store_location</th>\n",
       "      <th>store_category</th>\n",
       "      <th>store_PriceCategory</th>\n",
       "      <th>billing_date</th>\n",
       "      <th>billing_time</th>\n",
       "    </tr>\n",
       "  </thead>\n",
       "  <tbody>\n",
       "    <tr>\n",
       "      <th>0</th>\n",
       "      <td>3200.0</td>\n",
       "      <td>32.0</td>\n",
       "      <td>IMA00001</td>\n",
       "      <td>256622493374</td>\n",
       "      <td>Male</td>\n",
       "      <td>Maharashtra</td>\n",
       "      <td>Blue Member</td>\n",
       "      <td>Sprinkles</td>\n",
       "      <td>Diamond Mall</td>\n",
       "      <td>Accessories,Jewellery,Women's Fashion</td>\n",
       "      <td>Premium</td>\n",
       "      <td>2014-10-20</td>\n",
       "      <td>22:38:00</td>\n",
       "    </tr>\n",
       "    <tr>\n",
       "      <th>1</th>\n",
       "      <td>2000.0</td>\n",
       "      <td>20.0</td>\n",
       "      <td>IMM00003</td>\n",
       "      <td>212411292920</td>\n",
       "      <td>Male</td>\n",
       "      <td>Kerala</td>\n",
       "      <td>Blue Member</td>\n",
       "      <td>Das Shoes</td>\n",
       "      <td>Emerald Mall</td>\n",
       "      <td>Accessories,Sports &amp; Fitness,Women's Fashion,M...</td>\n",
       "      <td>Premium</td>\n",
       "      <td>2014-10-20</td>\n",
       "      <td>22:38:00</td>\n",
       "    </tr>\n",
       "    <tr>\n",
       "      <th>2</th>\n",
       "      <td>1000.0</td>\n",
       "      <td>10.0</td>\n",
       "      <td>NA-IMA0048</td>\n",
       "      <td>256583467853</td>\n",
       "      <td>Male</td>\n",
       "      <td>Maharashtra</td>\n",
       "      <td>Blue Member</td>\n",
       "      <td>Gameon!</td>\n",
       "      <td>Diamond Mall</td>\n",
       "      <td>Electronics,Entertainment &amp; Leisure</td>\n",
       "      <td>Premium</td>\n",
       "      <td>2014-10-20</td>\n",
       "      <td>22:38:00</td>\n",
       "    </tr>\n",
       "  </tbody>\n",
       "</table>\n",
       "</div>"
      ],
      "text/plain": [
       "   amount  points  store_code  customer_mobile gender        state  \\\n",
       "0  3200.0    32.0    IMA00001     256622493374   Male  Maharashtra   \n",
       "1  2000.0    20.0    IMM00003     212411292920   Male       Kerala   \n",
       "2  1000.0    10.0  NA-IMA0048     256583467853   Male  Maharashtra   \n",
       "\n",
       "          tier store_name store_location  \\\n",
       "0  Blue Member  Sprinkles   Diamond Mall   \n",
       "1  Blue Member  Das Shoes   Emerald Mall   \n",
       "2  Blue Member    Gameon!   Diamond Mall   \n",
       "\n",
       "                                      store_category store_PriceCategory  \\\n",
       "0              Accessories,Jewellery,Women's Fashion             Premium   \n",
       "1  Accessories,Sports & Fitness,Women's Fashion,M...             Premium   \n",
       "2                Electronics,Entertainment & Leisure             Premium   \n",
       "\n",
       "  billing_date billing_time  \n",
       "0   2014-10-20     22:38:00  \n",
       "1   2014-10-20     22:38:00  \n",
       "2   2014-10-20     22:38:00  "
      ]
     },
     "execution_count": 67,
     "metadata": {},
     "output_type": "execute_result"
    }
   ],
   "source": [
    "Data_Merged.drop('billing_timestamp',axis=1,inplace=True)\n",
    "Data_Merged.head(3)"
   ]
  },
  {
   "cell_type": "markdown",
   "metadata": {},
   "source": [
    "### Checking Skewness of Continuous Data in Data Merged Datset"
   ]
  },
  {
   "cell_type": "code",
   "execution_count": 68,
   "metadata": {},
   "outputs": [
    {
     "data": {
      "text/plain": [
       "amount    29.258104\n",
       "points    26.068829\n",
       "dtype: float64"
      ]
     },
     "execution_count": 68,
     "metadata": {},
     "output_type": "execute_result"
    }
   ],
   "source": [
    "Data_Merged.skew()[:2]\n",
    "#Customer Mobile Skewness Not Needed"
   ]
  },
  {
   "cell_type": "markdown",
   "metadata": {},
   "source": [
    "### Converting object 'billing_date' column to 'datetime' dtype"
   ]
  },
  {
   "cell_type": "code",
   "execution_count": 69,
   "metadata": {},
   "outputs": [],
   "source": [
    "Data_Merged['billing_date']=pd.to_datetime(Data_Merged['billing_date'])\n",
    "#(Data_Merged['billing_time']).dtype"
   ]
  },
  {
   "cell_type": "markdown",
   "metadata": {},
   "source": [
    "## Exploratory Data Analysis"
   ]
  },
  {
   "cell_type": "markdown",
   "metadata": {},
   "source": [
    "### Graphical Representation of Transaction Rate Occured Per Year"
   ]
  },
  {
   "cell_type": "code",
   "execution_count": 70,
   "metadata": {},
   "outputs": [
    {
     "name": "stdout",
     "output_type": "stream",
     "text": [
      "2014    22045\n",
      "2015    43049\n",
      "2016    64108\n",
      "2017    78122\n",
      "2018    86479\n",
      "2019    54705\n",
      "Name: billing_date, dtype: int64\n"
     ]
    },
    {
     "data": {
      "text/plain": [
       "Text(0.5, 1.0, 'Bar Plot showing the Total Transaction occured in year')"
      ]
     },
     "execution_count": 70,
     "metadata": {},
     "output_type": "execute_result"
    },
    {
     "data": {
      "image/png": "[encoded data removed]",
      "text/plain": [
       "<Figure size 720x360 with 1 Axes>"
      ]
     },
     "metadata": {
      "needs_background": "light"
     },
     "output_type": "display_data"
    }
   ],
   "source": [
    "print(Data_Merged['billing_date'].dt.year.value_counts().sort_index())\n",
    "Data_Merged['billing_date'].dt.year.value_counts().sort_index().plot(kind='bar',  fontsize=10,\n",
    "                                                        figsize=(10,5), color=['Orange'],edgecolor='black',animated=True)\n",
    "\n",
    "plt.ylabel('Transaction',fontsize=15)\n",
    "plt.xlabel('Year',fontsize=15)\n",
    "axes = plt.gca()\n",
    "axes.set_ylim([0,90000])\n",
    "plt.title('Bar Plot showing the Total Transaction occured in year',fontsize=15)"
   ]
  },
  {
   "cell_type": "code",
   "execution_count": 71,
   "metadata": {},
   "outputs": [
    {
     "data": {
      "text/plain": [
       "'2019-08-29 15:43:00 +0530'"
      ]
     },
     "execution_count": 71,
     "metadata": {},
     "output_type": "execute_result"
    }
   ],
   "source": [
    "TD_Copy['billing_timestamp'].max()"
   ]
  },
  {
   "cell_type": "markdown",
   "metadata": {},
   "source": [
    "<p>* The Number of Transaction occured per year shows increasing trend from year 2014 to 2018 and it decreases in year 2019</p>\n",
    "<p>-> Possible reason would be the last date of data collection is 2019-08-29 15:43:00</p>"
   ]
  },
  {
   "cell_type": "code",
   "execution_count": 72,
   "metadata": {},
   "outputs": [],
   "source": [
    "import calendar\n",
    "month=[]\n",
    "for i in Data_Merged['billing_date'].dt.month:\n",
    "    month.append(calendar.month_name[i])"
   ]
  },
  {
   "cell_type": "code",
   "execution_count": 73,
   "metadata": {},
   "outputs": [
    {
     "data": {
      "text/html": [
       "<div>\n",
       "<style scoped>\n",
       "    .dataframe tbody tr th:only-of-type {\n",
       "        vertical-align: middle;\n",
       "    }\n",
       "\n",
       "    .dataframe tbody tr th {\n",
       "        vertical-align: top;\n",
       "    }\n",
       "\n",
       "    .dataframe thead th {\n",
       "        text-align: right;\n",
       "    }\n",
       "</style>\n",
       "<table border=\"1\" class=\"dataframe\">\n",
       "  <thead>\n",
       "    <tr style=\"text-align: right;\">\n",
       "      <th></th>\n",
       "      <th>Amount</th>\n",
       "      <th>Year</th>\n",
       "      <th>Month</th>\n",
       "    </tr>\n",
       "  </thead>\n",
       "  <tbody>\n",
       "    <tr>\n",
       "      <th>0</th>\n",
       "      <td>3200.0</td>\n",
       "      <td>2014</td>\n",
       "      <td>10</td>\n",
       "    </tr>\n",
       "    <tr>\n",
       "      <th>1</th>\n",
       "      <td>2000.0</td>\n",
       "      <td>2014</td>\n",
       "      <td>10</td>\n",
       "    </tr>\n",
       "    <tr>\n",
       "      <th>2</th>\n",
       "      <td>1000.0</td>\n",
       "      <td>2014</td>\n",
       "      <td>10</td>\n",
       "    </tr>\n",
       "    <tr>\n",
       "      <th>3</th>\n",
       "      <td>5000.0</td>\n",
       "      <td>2014</td>\n",
       "      <td>10</td>\n",
       "    </tr>\n",
       "    <tr>\n",
       "      <th>4</th>\n",
       "      <td>80000.0</td>\n",
       "      <td>2014</td>\n",
       "      <td>10</td>\n",
       "    </tr>\n",
       "  </tbody>\n",
       "</table>\n",
       "</div>"
      ],
      "text/plain": [
       "    Amount  Year  Month\n",
       "0   3200.0  2014     10\n",
       "1   2000.0  2014     10\n",
       "2   1000.0  2014     10\n",
       "3   5000.0  2014     10\n",
       "4  80000.0  2014     10"
      ]
     },
     "execution_count": 73,
     "metadata": {},
     "output_type": "execute_result"
    }
   ],
   "source": [
    "Data_date=pd.DataFrame({'Amount':Data_Merged['amount'],'Year':Data_Merged['billing_date'].dt.year,'Month':Data_Merged['billing_date'].dt.month})\n",
    "#print(Data_Merged.index.sum())pd.Series(month),'Month'\n",
    "Data_date.head()"
   ]
  },
  {
   "cell_type": "code",
   "execution_count": 74,
   "metadata": {},
   "outputs": [
    {
     "name": "stdout",
     "output_type": "stream",
     "text": [
      "{2014: {'First Quarter': 0, 'Second Quarter': 0, 'Third Quarter': 0, 'Fourth Quarter': 22045}, 2015: {'First Quarter': 10316, 'Second Quarter': 8970, 'Third Quarter': 11367, 'Fourth Quarter': 12396}, 2016: {'First Quarter': 15103, 'Second Quarter': 14973, 'Third Quarter': 18254, 'Fourth Quarter': 15778}, 2017: {'First Quarter': 18180, 'Second Quarter': 18437, 'Third Quarter': 20560, 'Fourth Quarter': 20945}, 2018: {'First Quarter': 21631, 'Second Quarter': 19808, 'Third Quarter': 22999, 'Fourth Quarter': 22041}, 2019: {'First Quarter': 23855, 'Second Quarter': 17234, 'Third Quarter': 13616, 'Fourth Quarter': 0}}\n"
     ]
    }
   ],
   "source": [
    "Quately_groupby=Data_date.groupby(['Year','Month'])\n",
    "Year=(Quately_groupby.size().index.get_level_values('Year'))\n",
    "Month=(Quately_groupby.size().index.get_level_values('Month'))\n",
    "values=(Quately_groupby.size().values)\n",
    "Data_date_graph=pd.DataFrame({'Year':(Year.tolist()),'Month':Month.tolist(),'Values':values.tolist()})\n",
    "Data_date_graph\n",
    "main_dict={}\n",
    "for i in Data_date_graph['Year'].unique():\n",
    "    value1,value2,value3,value4=0,0,0,0\n",
    "    for index, row in Data_date_graph.iterrows():\n",
    "        if(row['Year']==i and row['Month'] in [1,2,3]):\n",
    "            value1=value1+row['Values']\n",
    "        elif(row['Year']==i and row['Month'] in [4,5,6]):\n",
    "            value2=value2+row['Values']\n",
    "        elif(row['Year']==i and row['Month'] in [7,8,9]):\n",
    "            value3=value3+row['Values']\n",
    "        elif(row['Year']==i and row['Month'] in [10,11,12]):\n",
    "            value4=value4+row['Values']\n",
    "    dict_={'First Quarter':value1,\"Second Quarter\":value2,'Third Quarter':value3,\"Fourth Quarter\":value4}\n",
    "    main_dict[i]=dict_\n",
    "print(main_dict)\n",
    "\n",
    "    \n",
    "        \n",
    "\n"
   ]
  },
  {
   "cell_type": "code",
   "execution_count": 75,
   "metadata": {
    "scrolled": true
   },
   "outputs": [
    {
     "ename": "AttributeError",
     "evalue": "'tuple' object has no attribute 'get_figure'",
     "output_type": "error",
     "traceback": [
      "\u001b[1;31m---------------------------------------------------------------------------\u001b[0m",
      "\u001b[1;31mAttributeError\u001b[0m                            Traceback (most recent call last)",
      "\u001b[1;32m<ipython-input-75-f8d40d04e81b>\u001b[0m in \u001b[0;36m<module>\u001b[1;34m\u001b[0m\n\u001b[0;32m      3\u001b[0m     \u001b[0mlist_values\u001b[0m \u001b[1;33m=\u001b[0m \u001b[1;33m[\u001b[0m \u001b[0mv\u001b[0m \u001b[1;32mfor\u001b[0m \u001b[0mv\u001b[0m \u001b[1;32min\u001b[0m \u001b[0mmain_dict\u001b[0m\u001b[1;33m[\u001b[0m\u001b[0mi\u001b[0m\u001b[1;33m]\u001b[0m\u001b[1;33m.\u001b[0m\u001b[0mvalues\u001b[0m\u001b[1;33m(\u001b[0m\u001b[1;33m)\u001b[0m \u001b[1;33m]\u001b[0m\u001b[1;33m\u001b[0m\u001b[1;33m\u001b[0m\u001b[0m\n\u001b[0;32m      4\u001b[0m     pd.Series(list_values,index=main_dict[i].keys()).plot(kind='pie',  fontsize=12, autopct='%3.1f%%', explode=[0.05,0.05,0.05,0.05],\n\u001b[1;32m----> 5\u001b[1;33m                                                 ax=(i,1), shadow=True, startangle=135, cmap='summer')\n\u001b[0m\u001b[0;32m      6\u001b[0m \u001b[1;33m\u001b[0m\u001b[0m\n\u001b[0;32m      7\u001b[0m \u001b[1;33m\u001b[0m\u001b[0m\n",
      "\u001b[1;32m~\\Anaconda3\\lib\\site-packages\\pandas\\plotting\\_core.py\u001b[0m in \u001b[0;36m__call__\u001b[1;34m(self, kind, ax, figsize, use_index, title, grid, legend, style, logx, logy, loglog, xticks, yticks, xlim, ylim, rot, fontsize, colormap, table, yerr, xerr, label, secondary_y, **kwds)\u001b[0m\n\u001b[0;32m   2740\u001b[0m                            \u001b[0mcolormap\u001b[0m\u001b[1;33m=\u001b[0m\u001b[0mcolormap\u001b[0m\u001b[1;33m,\u001b[0m \u001b[0mtable\u001b[0m\u001b[1;33m=\u001b[0m\u001b[0mtable\u001b[0m\u001b[1;33m,\u001b[0m \u001b[0myerr\u001b[0m\u001b[1;33m=\u001b[0m\u001b[0myerr\u001b[0m\u001b[1;33m,\u001b[0m\u001b[1;33m\u001b[0m\u001b[1;33m\u001b[0m\u001b[0m\n\u001b[0;32m   2741\u001b[0m                            \u001b[0mxerr\u001b[0m\u001b[1;33m=\u001b[0m\u001b[0mxerr\u001b[0m\u001b[1;33m,\u001b[0m \u001b[0mlabel\u001b[0m\u001b[1;33m=\u001b[0m\u001b[0mlabel\u001b[0m\u001b[1;33m,\u001b[0m \u001b[0msecondary_y\u001b[0m\u001b[1;33m=\u001b[0m\u001b[0msecondary_y\u001b[0m\u001b[1;33m,\u001b[0m\u001b[1;33m\u001b[0m\u001b[1;33m\u001b[0m\u001b[0m\n\u001b[1;32m-> 2742\u001b[1;33m                            **kwds)\n\u001b[0m\u001b[0;32m   2743\u001b[0m     \u001b[0m__call__\u001b[0m\u001b[1;33m.\u001b[0m\u001b[0m__doc__\u001b[0m \u001b[1;33m=\u001b[0m \u001b[0mplot_series\u001b[0m\u001b[1;33m.\u001b[0m\u001b[0m__doc__\u001b[0m\u001b[1;33m\u001b[0m\u001b[1;33m\u001b[0m\u001b[0m\n\u001b[0;32m   2744\u001b[0m \u001b[1;33m\u001b[0m\u001b[0m\n",
      "\u001b[1;32m~\\Anaconda3\\lib\\site-packages\\pandas\\plotting\\_core.py\u001b[0m in \u001b[0;36mplot_series\u001b[1;34m(data, kind, ax, figsize, use_index, title, grid, legend, style, logx, logy, loglog, xticks, yticks, xlim, ylim, rot, fontsize, colormap, table, yerr, xerr, label, secondary_y, **kwds)\u001b[0m\n\u001b[0;32m   1996\u001b[0m                  \u001b[0myerr\u001b[0m\u001b[1;33m=\u001b[0m\u001b[0myerr\u001b[0m\u001b[1;33m,\u001b[0m \u001b[0mxerr\u001b[0m\u001b[1;33m=\u001b[0m\u001b[0mxerr\u001b[0m\u001b[1;33m,\u001b[0m\u001b[1;33m\u001b[0m\u001b[1;33m\u001b[0m\u001b[0m\n\u001b[0;32m   1997\u001b[0m                  \u001b[0mlabel\u001b[0m\u001b[1;33m=\u001b[0m\u001b[0mlabel\u001b[0m\u001b[1;33m,\u001b[0m \u001b[0msecondary_y\u001b[0m\u001b[1;33m=\u001b[0m\u001b[0msecondary_y\u001b[0m\u001b[1;33m,\u001b[0m\u001b[1;33m\u001b[0m\u001b[1;33m\u001b[0m\u001b[0m\n\u001b[1;32m-> 1998\u001b[1;33m                  **kwds)\n\u001b[0m\u001b[0;32m   1999\u001b[0m \u001b[1;33m\u001b[0m\u001b[0m\n\u001b[0;32m   2000\u001b[0m \u001b[1;33m\u001b[0m\u001b[0m\n",
      "\u001b[1;32m~\\Anaconda3\\lib\\site-packages\\pandas\\plotting\\_core.py\u001b[0m in \u001b[0;36m_plot\u001b[1;34m(data, x, y, subplots, ax, kind, **kwds)\u001b[0m\n\u001b[0;32m   1799\u001b[0m         \u001b[0mplot_obj\u001b[0m \u001b[1;33m=\u001b[0m \u001b[0mklass\u001b[0m\u001b[1;33m(\u001b[0m\u001b[0mdata\u001b[0m\u001b[1;33m,\u001b[0m \u001b[0msubplots\u001b[0m\u001b[1;33m=\u001b[0m\u001b[0msubplots\u001b[0m\u001b[1;33m,\u001b[0m \u001b[0max\u001b[0m\u001b[1;33m=\u001b[0m\u001b[0max\u001b[0m\u001b[1;33m,\u001b[0m \u001b[0mkind\u001b[0m\u001b[1;33m=\u001b[0m\u001b[0mkind\u001b[0m\u001b[1;33m,\u001b[0m \u001b[1;33m**\u001b[0m\u001b[0mkwds\u001b[0m\u001b[1;33m)\u001b[0m\u001b[1;33m\u001b[0m\u001b[1;33m\u001b[0m\u001b[0m\n\u001b[0;32m   1800\u001b[0m \u001b[1;33m\u001b[0m\u001b[0m\n\u001b[1;32m-> 1801\u001b[1;33m     \u001b[0mplot_obj\u001b[0m\u001b[1;33m.\u001b[0m\u001b[0mgenerate\u001b[0m\u001b[1;33m(\u001b[0m\u001b[1;33m)\u001b[0m\u001b[1;33m\u001b[0m\u001b[1;33m\u001b[0m\u001b[0m\n\u001b[0m\u001b[0;32m   1802\u001b[0m     \u001b[0mplot_obj\u001b[0m\u001b[1;33m.\u001b[0m\u001b[0mdraw\u001b[0m\u001b[1;33m(\u001b[0m\u001b[1;33m)\u001b[0m\u001b[1;33m\u001b[0m\u001b[1;33m\u001b[0m\u001b[0m\n\u001b[0;32m   1803\u001b[0m     \u001b[1;32mreturn\u001b[0m \u001b[0mplot_obj\u001b[0m\u001b[1;33m.\u001b[0m\u001b[0mresult\u001b[0m\u001b[1;33m\u001b[0m\u001b[1;33m\u001b[0m\u001b[0m\n",
      "\u001b[1;32m~\\Anaconda3\\lib\\site-packages\\pandas\\plotting\\_core.py\u001b[0m in \u001b[0;36mgenerate\u001b[1;34m(self)\u001b[0m\n\u001b[0;32m    248\u001b[0m         \u001b[0mself\u001b[0m\u001b[1;33m.\u001b[0m\u001b[0m_args_adjust\u001b[0m\u001b[1;33m(\u001b[0m\u001b[1;33m)\u001b[0m\u001b[1;33m\u001b[0m\u001b[1;33m\u001b[0m\u001b[0m\n\u001b[0;32m    249\u001b[0m         \u001b[0mself\u001b[0m\u001b[1;33m.\u001b[0m\u001b[0m_compute_plot_data\u001b[0m\u001b[1;33m(\u001b[0m\u001b[1;33m)\u001b[0m\u001b[1;33m\u001b[0m\u001b[1;33m\u001b[0m\u001b[0m\n\u001b[1;32m--> 250\u001b[1;33m         \u001b[0mself\u001b[0m\u001b[1;33m.\u001b[0m\u001b[0m_setup_subplots\u001b[0m\u001b[1;33m(\u001b[0m\u001b[1;33m)\u001b[0m\u001b[1;33m\u001b[0m\u001b[1;33m\u001b[0m\u001b[0m\n\u001b[0m\u001b[0;32m    251\u001b[0m         \u001b[0mself\u001b[0m\u001b[1;33m.\u001b[0m\u001b[0m_make_plot\u001b[0m\u001b[1;33m(\u001b[0m\u001b[1;33m)\u001b[0m\u001b[1;33m\u001b[0m\u001b[1;33m\u001b[0m\u001b[0m\n\u001b[0;32m    252\u001b[0m         \u001b[0mself\u001b[0m\u001b[1;33m.\u001b[0m\u001b[0m_add_table\u001b[0m\u001b[1;33m(\u001b[0m\u001b[1;33m)\u001b[0m\u001b[1;33m\u001b[0m\u001b[1;33m\u001b[0m\u001b[0m\n",
      "\u001b[1;32m~\\Anaconda3\\lib\\site-packages\\pandas\\plotting\\_core.py\u001b[0m in \u001b[0;36m_setup_subplots\u001b[1;34m(self)\u001b[0m\n\u001b[0;32m    305\u001b[0m                 \u001b[0maxes\u001b[0m \u001b[1;33m=\u001b[0m \u001b[0mfig\u001b[0m\u001b[1;33m.\u001b[0m\u001b[0madd_subplot\u001b[0m\u001b[1;33m(\u001b[0m\u001b[1;36m111\u001b[0m\u001b[1;33m)\u001b[0m\u001b[1;33m\u001b[0m\u001b[1;33m\u001b[0m\u001b[0m\n\u001b[0;32m    306\u001b[0m             \u001b[1;32melse\u001b[0m\u001b[1;33m:\u001b[0m\u001b[1;33m\u001b[0m\u001b[1;33m\u001b[0m\u001b[0m\n\u001b[1;32m--> 307\u001b[1;33m                 \u001b[0mfig\u001b[0m \u001b[1;33m=\u001b[0m \u001b[0mself\u001b[0m\u001b[1;33m.\u001b[0m\u001b[0max\u001b[0m\u001b[1;33m.\u001b[0m\u001b[0mget_figure\u001b[0m\u001b[1;33m(\u001b[0m\u001b[1;33m)\u001b[0m\u001b[1;33m\u001b[0m\u001b[1;33m\u001b[0m\u001b[0m\n\u001b[0m\u001b[0;32m    308\u001b[0m                 \u001b[1;32mif\u001b[0m \u001b[0mself\u001b[0m\u001b[1;33m.\u001b[0m\u001b[0mfigsize\u001b[0m \u001b[1;32mis\u001b[0m \u001b[1;32mnot\u001b[0m \u001b[1;32mNone\u001b[0m\u001b[1;33m:\u001b[0m\u001b[1;33m\u001b[0m\u001b[1;33m\u001b[0m\u001b[0m\n\u001b[0;32m    309\u001b[0m                     \u001b[0mfig\u001b[0m\u001b[1;33m.\u001b[0m\u001b[0mset_size_inches\u001b[0m\u001b[1;33m(\u001b[0m\u001b[0mself\u001b[0m\u001b[1;33m.\u001b[0m\u001b[0mfigsize\u001b[0m\u001b[1;33m)\u001b[0m\u001b[1;33m\u001b[0m\u001b[1;33m\u001b[0m\u001b[0m\n",
      "\u001b[1;31mAttributeError\u001b[0m: 'tuple' object has no attribute 'get_figure'"
     ]
    },
    {
     "data": {
      "image/png": "[encoded data removed]",
      "text/plain": [
       "<Figure size 1584x1440 with 6 Axes>"
      ]
     },
     "metadata": {
      "needs_background": "light"
     },
     "output_type": "display_data"
    }
   ],
   "source": [
    "f,axes = plt.subplots(6,1,figsize=(22,20))\n",
    "for i in main_dict.keys():\n",
    "    list_values = [ v for v in main_dict[i].values() ]\n",
    "    pd.Series(list_values,index=main_dict[i].keys()).plot(kind='pie',  fontsize=12, autopct='%3.1f%%', explode=[0.05,0.05,0.05,0.05],\n",
    "                                                ax=(i,1), shadow=True, startangle=135, cmap='summer')\n",
    "    \n",
    "\n",
    "f.subplots_adjust(wspace=.2)\n",
    "\n",
    "    \n",
    "    \n",
    "\n",
    "\n"
   ]
  },
  {
   "cell_type": "markdown",
   "metadata": {},
   "source": [
    "### Analysis of Transaction Rate and Amount Spent based on Customer Tier"
   ]
  },
  {
   "cell_type": "code",
   "execution_count": 76,
   "metadata": {},
   "outputs": [
    {
     "name": "stdout",
     "output_type": "stream",
     "text": [
      "                 Customers Count Tier  Percentage %\n",
      "Blue Member                     49235     98.434564\n",
      "Silver Member                     562      1.123596\n",
      "Gold Member                       128      0.255908\n",
      "Platinum Member                    93      0.185933\n"
     ]
    },
    {
     "data": {
      "text/plain": [
       "Text(0.5, 1.0, 'Bar Plot showing the Customers based on tiers')"
      ]
     },
     "execution_count": 76,
     "metadata": {},
     "output_type": "execute_result"
    },
    {
     "data": {
      "image/png": "[encoded data removed]",
      "text/plain": [
       "<Figure size 720x360 with 1 Axes>"
      ]
     },
     "metadata": {
      "needs_background": "light"
     },
     "output_type": "display_data"
    }
   ],
   "source": [
    "list_tier=[]\n",
    "for x in CD_Copy['tier'].value_counts():\n",
    "    percent=((x)/CD_Copy['tier'].value_counts().sum())*100\n",
    "    list_tier.append(percent)\n",
    "Tier_DF=pd.DataFrame({'Customers Count Tier':CD_Copy['tier'].value_counts(),'Percentage %':list_tier},index=CD_Copy['tier'].value_counts().index)\n",
    "print (Tier_DF)\n",
    "CD_Copy['tier'].value_counts().plot(kind='bar',fontsize=12,\n",
    "                                                        figsize=(10,5), color='cyan',edgecolor='black',animated=True)\n",
    "\n",
    "plt.ylabel('Count of Customers',fontsize=15)\n",
    "plt.xlabel('Customer Tier',fontsize=15)\n",
    "axes = plt.gca()\n",
    "axes.set_ylim([0,50000])\n",
    "plt.title('Bar Plot showing the Customers based on tiers',fontsize=15)\n"
   ]
  },
  {
   "cell_type": "code",
   "execution_count": 77,
   "metadata": {},
   "outputs": [
    {
     "name": "stdout",
     "output_type": "stream",
     "text": [
      "Blue Member        196289\n",
      "Silver Member       93381\n",
      "Gold Member         32175\n",
      "Platinum Member     26663\n",
      "Name: tier, dtype: int64\n"
     ]
    },
    {
     "data": {
      "text/plain": [
       "Text(0.5, 1.0, 'Pie Plot showing the proportion of each Customer Tier Transaction Count')"
      ]
     },
     "execution_count": 77,
     "metadata": {},
     "output_type": "execute_result"
    },
    {
     "data": {
      "image/png": "[encoded data removed]",
      "text/plain": [
       "<Figure size 720x1080 with 1 Axes>"
      ]
     },
     "metadata": {},
     "output_type": "display_data"
    }
   ],
   "source": [
    "print(Data_Merged['tier'].value_counts())\n",
    "Data_Merged['tier'].value_counts().plot(kind='pie',  fontsize=12, autopct='%3.1f%%', explode=[0.05,0.05,0.05,0.05],\n",
    "                                               figsize=(10,15), shadow=True, startangle=135, legend=True, cmap='summer')\n",
    "\n",
    "plt.ylabel('Customer Tier Type',fontsize=14)\n",
    "plt.title('Pie Plot showing the proportion of each Customer Tier Transaction Count',fontsize=14)"
   ]
  },
  {
   "cell_type": "code",
   "execution_count": 78,
   "metadata": {},
   "outputs": [
    {
     "name": "stdout",
     "output_type": "stream",
     "text": [
      "tier\n",
      "Blue Member        5.313383e+08\n",
      "Gold Member        9.635790e+07\n",
      "Platinum Member    1.902718e+08\n",
      "Silver Member      2.192235e+08\n",
      "Name: amount, dtype: float64\n"
     ]
    },
    {
     "data": {
      "text/plain": [
       "Text(0.5, 1.0, 'Pie Plot showing the Total amount spent by each Customer Tier')"
      ]
     },
     "execution_count": 78,
     "metadata": {},
     "output_type": "execute_result"
    },
    {
     "data": {
      "image/png": "[encoded data removed]",
      "text/plain": [
       "<Figure size 720x1080 with 1 Axes>"
      ]
     },
     "metadata": {},
     "output_type": "display_data"
    }
   ],
   "source": [
    "Customer_tier_groupby=Data_Merged.groupby('tier')\n",
    "print((Customer_tier_groupby.agg({'amount':sum})['amount']))\n",
    "\n",
    "Customer_tier_groupby.agg({'amount':sum})['amount'].plot(kind='pie',  fontsize=12, autopct='%3.1f%%', explode=[0.05,0.05,0.05,0.05],\n",
    "                                               figsize=(10,15), shadow=True, startangle=135, legend=True, cmap='PiYG')\n",
    "plt.ylabel('Amount Spent',  fontsize=14)\n",
    "plt.title('Pie Plot showing the Total amount spent by each Customer Tier',  fontsize=14)"
   ]
  },
  {
   "cell_type": "markdown",
   "metadata": {},
   "source": [
    "<h4>Insight Obtained</h4>\n",
    "<p>* <b>98.4%</b> of total customers falls under <b>Blue Member Tier</b> but they only contribute <b>56.3% of Total Transaction</b> and <b>51.2% of Total Amount Revenue</b></p> \n",
    "<p>* <b>1.12%</b> of total customers falls under <b>Silver Member Tier</b> they contribute <b>26.8% of Total Transaction</b> and <b>21.1% of Total Amount Revenue</b></p> \n",
    "<p>* <b>0.25%</b> of total customers falls under <b>Gold Member Tier</b> they contribute <b>9.2% of Total Transaction</b> and <b>9.3% of Total Amount Revenue</b></p> \n",
    "<p>* <b>0.18%</b> of total customers falls under <b>Platinum Member Tier</b> they contribute <b>7.7% of Total Transaction</b> and <b>18.3% of Total Amount Revenue</b></p> "
   ]
  },
  {
   "cell_type": "markdown",
   "metadata": {},
   "source": [
    "### Analysis of Total Transaction based on Gender"
   ]
  },
  {
   "cell_type": "code",
   "execution_count": 79,
   "metadata": {},
   "outputs": [
    {
     "name": "stdout",
     "output_type": "stream",
     "text": [
      "Female    181437\n",
      "Male      167011\n",
      "Other         60\n",
      "Name: gender, dtype: int64\n"
     ]
    },
    {
     "data": {
      "text/plain": [
       "Text(0.5, 1.0, 'Pie Plot showing the proportion of Gender Transaction Count')"
      ]
     },
     "execution_count": 79,
     "metadata": {},
     "output_type": "execute_result"
    },
    {
     "data": {
      "image/png": "[encoded data removed]",
      "text/plain": [
       "<Figure size 720x504 with 1 Axes>"
      ]
     },
     "metadata": {},
     "output_type": "display_data"
    }
   ],
   "source": [
    "print(Data_Merged['gender'].value_counts())\n",
    "Data_Merged['gender'].value_counts().plot(kind='pie',  fontsize=14, autopct='%3.1f%%', explode=[0.05,0.05,0.05],\n",
    "                                               figsize=(10,7), shadow=True, startangle=135, legend=False, cmap='autumn')\n",
    "\n",
    "plt.ylabel('Gender')\n",
    "plt.title('Pie Plot showing the proportion of Gender Transaction Count')"
   ]
  },
  {
   "cell_type": "markdown",
   "metadata": {},
   "source": [
    "#### Insight Obtained\n",
    "<p> As expected Female complete transaction count is greater than Male but not has huge difference</p>"
   ]
  },
  {
   "cell_type": "markdown",
   "metadata": {},
   "source": [
    "### Analysis of Transaction based on Store Price category"
   ]
  },
  {
   "cell_type": "code",
   "execution_count": 80,
   "metadata": {},
   "outputs": [
    {
     "name": "stdout",
     "output_type": "stream",
     "text": [
      "Value            192902\n",
      "Premium          150748\n",
      "Unknown            4425\n",
      "Super Premium       433\n",
      "Name: store_PriceCategory, dtype: int64\n"
     ]
    },
    {
     "data": {
      "image/png": "[encoded data removed]",
      "text/plain": [
       "<Figure size 720x504 with 1 Axes>"
      ]
     },
     "metadata": {
      "needs_background": "light"
     },
     "output_type": "display_data"
    }
   ],
   "source": [
    "print(Data_Merged['store_PriceCategory'].value_counts())\n",
    "plt.figure(figsize=(10,7))\n",
    "sns.countplot('store_PriceCategory',data = Data_Merged, order = Data_Merged['store_PriceCategory'].value_counts().index,palette=\"gnuplot\")\n",
    "plt.title(\"Plot describing Transaction based on Store Category\",fontsize=15)\n",
    "plt.ylabel(\"Transaction Count\",fontsize=15)\n",
    "plt.xlabel(\"Store Price Category\",fontsize=15)\n",
    "plt.show()"
   ]
  },
  {
   "cell_type": "code",
   "execution_count": 81,
   "metadata": {},
   "outputs": [
    {
     "name": "stdout",
     "output_type": "stream",
     "text": [
      "Blue Member        7055\n",
      "Gold Member         122\n",
      "Platinum Member      88\n",
      "Silver Member       536\n",
      "Name: tier, dtype: int64\n",
      "Blue Member        8505\n",
      "Gold Member         128\n",
      "Platinum Member      93\n",
      "Silver Member       554\n",
      "Name: tier, dtype: int64\n",
      "Blue Member        174\n",
      "Gold Member         23\n",
      "Platinum Member     32\n",
      "Silver Member       69\n",
      "Name: tier, dtype: int64\n",
      "Blue Member        3072\n",
      "Gold Member          46\n",
      "Platinum Member      30\n",
      "Silver Member       181\n",
      "Name: tier, dtype: int64\n",
      "                                           amount\n",
      "store_PriceCategory tier                         \n",
      "Premium             Blue Member      3.659848e+08\n",
      "                    Gold Member      7.266191e+07\n",
      "                    Platinum Member  1.612124e+08\n",
      "                    Silver Member    1.468432e+08\n",
      "Super Premium       Blue Member      7.521778e+06\n",
      "                    Gold Member      1.513989e+06\n",
      "                    Platinum Member  5.753541e+06\n",
      "                    Silver Member    3.402370e+06\n",
      "Unknown             Blue Member      1.523536e+07\n",
      "                    Gold Member      2.572110e+05\n",
      "                    Platinum Member  3.638992e+06\n",
      "                    Silver Member    1.147576e+06\n",
      "Value               Blue Member      1.425964e+08\n",
      "                    Gold Member      2.192479e+07\n",
      "                    Platinum Member  1.966682e+07\n",
      "                    Silver Member    6.783038e+07\n",
      "[365984792, 7521778, 15235357, 142596353]\n"
     ]
    },
    {
     "data": {
      "text/html": [
       "<div>\n",
       "<style scoped>\n",
       "    .dataframe tbody tr th:only-of-type {\n",
       "        vertical-align: middle;\n",
       "    }\n",
       "\n",
       "    .dataframe tbody tr th {\n",
       "        vertical-align: top;\n",
       "    }\n",
       "\n",
       "    .dataframe thead th {\n",
       "        text-align: right;\n",
       "    }\n",
       "</style>\n",
       "<table border=\"1\" class=\"dataframe\">\n",
       "  <thead>\n",
       "    <tr style=\"text-align: right;\">\n",
       "      <th></th>\n",
       "      <th>Store Price Category</th>\n",
       "      <th>Blue Member</th>\n",
       "      <th>Blue_Member_Amount</th>\n",
       "      <th>Gold Member</th>\n",
       "      <th>Gold_Member_Amount</th>\n",
       "      <th>Platinum Member</th>\n",
       "      <th>Platinum_Member_Amount</th>\n",
       "      <th>Silver Member</th>\n",
       "      <th>Silver_Member_Amount</th>\n",
       "      <th>Amount</th>\n",
       "      <th>Customers</th>\n",
       "    </tr>\n",
       "  </thead>\n",
       "  <tbody>\n",
       "    <tr>\n",
       "      <th>0</th>\n",
       "      <td>Premium</td>\n",
       "      <td>8505</td>\n",
       "      <td>365984792</td>\n",
       "      <td>128</td>\n",
       "      <td>72661913</td>\n",
       "      <td>93</td>\n",
       "      <td>161212445</td>\n",
       "      <td>554</td>\n",
       "      <td>146843189</td>\n",
       "      <td>746702341</td>\n",
       "      <td>[256622493374, 212411292920, 256583467853, 239...</td>\n",
       "    </tr>\n",
       "    <tr>\n",
       "      <th>3</th>\n",
       "      <td>Super Premium</td>\n",
       "      <td>174</td>\n",
       "      <td>7521778</td>\n",
       "      <td>23</td>\n",
       "      <td>1513988</td>\n",
       "      <td>32</td>\n",
       "      <td>5753541</td>\n",
       "      <td>69</td>\n",
       "      <td>3402370</td>\n",
       "      <td>18191678</td>\n",
       "      <td>[260439256851, 256624876273, 235292499433, 256...</td>\n",
       "    </tr>\n",
       "    <tr>\n",
       "      <th>2</th>\n",
       "      <td>Unknown</td>\n",
       "      <td>3072</td>\n",
       "      <td>15235357</td>\n",
       "      <td>46</td>\n",
       "      <td>257211</td>\n",
       "      <td>30</td>\n",
       "      <td>3638992</td>\n",
       "      <td>181</td>\n",
       "      <td>1147576</td>\n",
       "      <td>20279136</td>\n",
       "      <td>[256583467853, 239536306832, 255373804169, 259...</td>\n",
       "    </tr>\n",
       "    <tr>\n",
       "      <th>1</th>\n",
       "      <td>Value</td>\n",
       "      <td>7055</td>\n",
       "      <td>142596353</td>\n",
       "      <td>122</td>\n",
       "      <td>21924790</td>\n",
       "      <td>88</td>\n",
       "      <td>19666816</td>\n",
       "      <td>536</td>\n",
       "      <td>67830380</td>\n",
       "      <td>252018341</td>\n",
       "      <td>[256583467853, 239536306832, 255373804169, 259...</td>\n",
       "    </tr>\n",
       "  </tbody>\n",
       "</table>\n",
       "</div>"
      ],
      "text/plain": [
       "  Store Price Category  Blue Member  Blue_Member_Amount  Gold Member  \\\n",
       "0              Premium         8505           365984792          128   \n",
       "3        Super Premium          174             7521778           23   \n",
       "2              Unknown         3072            15235357           46   \n",
       "1                Value         7055           142596353          122   \n",
       "\n",
       "   Gold_Member_Amount  Platinum Member  Platinum_Member_Amount  Silver Member  \\\n",
       "0            72661913               93               161212445            554   \n",
       "3             1513988               32                 5753541             69   \n",
       "2              257211               30                 3638992            181   \n",
       "1            21924790               88                19666816            536   \n",
       "\n",
       "   Silver_Member_Amount     Amount  \\\n",
       "0             146843189  746702341   \n",
       "3               3402370   18191678   \n",
       "2               1147576   20279136   \n",
       "1              67830380  252018341   \n",
       "\n",
       "                                           Customers  \n",
       "0  [256622493374, 212411292920, 256583467853, 239...  \n",
       "3  [260439256851, 256624876273, 235292499433, 256...  \n",
       "2  [256583467853, 239536306832, 255373804169, 259...  \n",
       "1  [256583467853, 239536306832, 255373804169, 259...  "
      ]
     },
     "execution_count": 81,
     "metadata": {},
     "output_type": "execute_result"
    }
   ],
   "source": [
    "Store_PriceCategory_groupby=Data_Merged.groupby(['store_PriceCategory'])\n",
    "index=((Store_PriceCategory_groupby.agg({'amount':sum}).sort_values(ascending=False,by='amount'))['amount'].index)\n",
    "values=((Store_PriceCategory_groupby.agg({'amount':sum}).sort_values(ascending=False,by='amount'))['amount'].values)\n",
    "List_value_customer=Store_PriceCategory_groupby.get_group('Value')['customer_mobile'].unique()\n",
    "List_value_tier=(CD_Copy[CD_Copy['customer_mobile'].isin (List_value_customer)])['tier'].value_counts().sort_index()\n",
    "print(List_value_tier)\n",
    "List_premium_customer=Store_PriceCategory_groupby.get_group('Premium')['customer_mobile'].unique()\n",
    "List_premium_tier=(CD_Copy[CD_Copy['customer_mobile'].isin (List_premium_customer)])['tier'].value_counts().sort_index()\n",
    "print(List_premium_tier)\n",
    "List_superpremium_customer=Store_PriceCategory_groupby.get_group('Super Premium')['customer_mobile'].unique()\n",
    "List_superpremium_tier=(CD_Copy[CD_Copy['customer_mobile'].isin (List_superpremium_customer)])['tier'].value_counts().sort_index()\n",
    "print(List_superpremium_tier)\n",
    "List_unknown_customer=Store_PriceCategory_groupby.get_group('Unknown')['customer_mobile'].unique()\n",
    "List_unknown_tier=(CD_Copy[CD_Copy['customer_mobile'].isin (List_unknown_customer)])['tier'].value_counts().sort_index()\n",
    "print(List_unknown_tier)\n",
    "\n",
    "Store_PriceCategory_tier_groupby=Data_Merged.groupby(['store_PriceCategory','tier'])\n",
    "values_tier=((Store_PriceCategory_tier_groupby.agg({'amount':sum})).sort_index())\n",
    "print(values_tier)\n",
    "List_Blue=[]\n",
    "List_Gold=[]\n",
    "List_Platinum=[]\n",
    "List_Silver=[]\n",
    "for i in range(values_tier.index.size):\n",
    "    if(('Blue Member') in values_tier.index[i]):\n",
    "        List_Blue.append(int(values_tier.values[i]))\n",
    "    elif(('Gold Member') in values_tier.index[i]):\n",
    "        List_Gold.append(int(values_tier.values[i]))\n",
    "    elif(('Platinum Member') in values_tier.index[i]):\n",
    "        List_Platinum.append(int(values_tier.values[i]))\n",
    "    else:\n",
    "        List_Silver.append(int(values_tier.values[i]))\n",
    "print(List_Blue)\n",
    "\n",
    "\n",
    "Store_PriceCategory_DF=pd.DataFrame([List_premium_tier.values,List_value_tier.values,List_unknown_tier.values,List_superpremium_tier.values],columns=['Blue Member', 'Gold Member', 'Platinum Member', 'Silver Member'])\n",
    "Store_PriceCategory_DF.insert(0,'Store Price Category',index)\n",
    "Store_PriceCategory_DF.insert(5,'Amount',(values).astype('int'))\n",
    "Store_PriceCategory_DF.insert(6,'Customers',[List_premium_customer,List_value_customer,List_unknown_customer,List_superpremium_customer])\n",
    "Store_PriceCategory_DF.sort_values(by='Store Price Category',inplace=True) \n",
    "Store_PriceCategory_DF.insert(2,'Blue_Member_Amount',List_Blue)\n",
    "Store_PriceCategory_DF.insert(4,'Gold_Member_Amount',List_Gold)\n",
    "Store_PriceCategory_DF.insert(6,'Platinum_Member_Amount',List_Platinum)\n",
    "Store_PriceCategory_DF.insert(8,'Silver_Member_Amount',List_Silver)\n",
    "Store_PriceCategory_DF"
   ]
  },
  {
   "cell_type": "markdown",
   "metadata": {},
   "source": [
    "### Analysis Amount Revenue based on Store category"
   ]
  },
  {
   "cell_type": "code",
   "execution_count": 82,
   "metadata": {
    "scrolled": true
   },
   "outputs": [
    {
     "name": "stdout",
     "output_type": "stream",
     "text": [
      "                                                          amount\n",
      "store_category                                                  \n",
      "Electronics                                         2.600472e+08\n",
      "Women's Fashion                                     1.183930e+08\n",
      "Women's Fashion,Men's Fashion                       1.005149e+08\n",
      "Unknown                                             7.999354e+07\n",
      "Kids Fashion,Accessories,Women's Fashion,Men's ...  6.989131e+07\n",
      "Accessories,Women's Fashion,Men's Fashion           6.625120e+07\n",
      "Electronics,Kids Fashion,Accessories,Grocery & ...  5.993632e+07\n",
      "Grocery & Household                                 5.642149e+07\n",
      "Men's Fashion                                       4.421952e+07\n",
      "Food & Beverage                                     3.191552e+07\n",
      "Beauty & Grooming                                   3.161861e+07\n",
      "Sports & Fitness,Women's Fashion,Men's Fashion      2.365610e+07\n",
      "Home & Lifestyle                                    1.633714e+07\n",
      "Kids Fashion                                        1.057414e+07\n",
      "Gifts & Toys                                        9.129639e+06\n",
      "Jewellery                                           8.598031e+06\n",
      "Health & Wellness                                   7.248887e+06\n",
      "Electronics,Entertainment & Leisure                 6.712781e+06\n",
      "Entertainment & Leisure                             6.645828e+06\n",
      "Accessories,Sports & Fitness,Women's Fashion,Me...  6.495813e+06\n",
      "Accessories,Women's Fashion                         5.120277e+06\n",
      "Travel                                              3.935000e+06\n",
      "Kids Fashion,Women's Fashion,Men's Fashion          3.094226e+06\n",
      "Accessories,Jewellery,Women's Fashion               2.858971e+06\n",
      "Books and Stationery,Gifts & Toys                   1.529271e+06\n",
      "Food & Beverage,Grocery & Household                 1.458408e+06\n",
      "Travel,Accessories,Sports & Fitness                 1.423361e+06\n",
      "Accessories,Gifts & Toys                            1.364448e+06\n",
      "Accessories                                         5.507684e+05\n",
      "Accessories,Men's Fashion                           5.142360e+05\n",
      "Sports & Fitness                                    4.981647e+05\n",
      "Parking                                             1.822184e+05\n",
      "Accessories,Jewellery                               2.500500e+04\n",
      "Jewellery,Gifts & Toys                              1.839500e+04\n",
      "Kids Fashion,Accessories                            1.778100e+04\n"
     ]
    }
   ],
   "source": [
    "Store_Category_groupby=Data_Merged.groupby('store_category')\n",
    "print(Store_Category_groupby.agg({'amount':sum}).sort_values(ascending=False,by='amount'))"
   ]
  },
  {
   "cell_type": "code",
   "execution_count": 83,
   "metadata": {
    "scrolled": true
   },
   "outputs": [
    {
     "name": "stdout",
     "output_type": "stream",
     "text": [
      "Unknown                                                                                                                                      131\n",
      "Food & Beverage                                                                                                                               97\n",
      "Women's Fashion,Men's Fashion                                                                                                                 65\n",
      "Women's Fashion                                                                                                                               47\n",
      "Men's Fashion                                                                                                                                 35\n",
      "Accessories,Women's Fashion,Men's Fashion                                                                                                     22\n",
      "Beauty & Grooming                                                                                                                             19\n",
      "Electronics                                                                                                                                   17\n",
      "Jewellery                                                                                                                                     15\n",
      "Accessories,Women's Fashion                                                                                                                   11\n",
      "Sports & Fitness,Women's Fashion,Men's Fashion                                                                                                11\n",
      "Home & Lifestyle                                                                                                                               9\n",
      "Kids Fashion                                                                                                                                   9\n",
      "Health & Wellness                                                                                                                              8\n",
      "Entertainment & Leisure                                                                                                                        8\n",
      "Travel                                                                                                                                         6\n",
      "Gifts & Toys                                                                                                                                   6\n",
      "Kids Fashion,Accessories,Women's Fashion,Men's Fashion                                                                                         5\n",
      "Parking                                                                                                                                        4\n",
      "Electronics,Entertainment & Leisure                                                                                                            4\n",
      "Accessories                                                                                                                                    4\n",
      "Accessories,Jewellery,Women's Fashion                                                                                                          4\n",
      "Kids Fashion,Women's Fashion,Men's Fashion                                                                                                     3\n",
      "Food & Beverage,Grocery & Household                                                                                                            2\n",
      "Sports & Fitness                                                                                                                               2\n",
      "Grocery & Household                                                                                                                            2\n",
      "Accessories,Men's Fashion                                                                                                                      2\n",
      "Accessories,Sports & Fitness,Women's Fashion,Men's Fashion                                                                                     2\n",
      "Kids Fashion,Accessories                                                                                                                       2\n",
      "Electronics,Kids Fashion,Accessories,Grocery & Household,Home & Lifestyle,Women's Fashion,Men's Fashion,Books and Stationery,Gifts & Toys      2\n",
      "Jewellery,Gifts & Toys                                                                                                                         1\n",
      "Travel,Accessories,Sports & Fitness                                                                                                            1\n",
      "Accessories,Gifts & Toys                                                                                                                       1\n",
      "Accessories,Jewellery                                                                                                                          1\n",
      "Books and Stationery,Gifts & Toys                                                                                                              1\n",
      "Name: store_category, dtype: int64\n"
     ]
    }
   ],
   "source": [
    "print((SD_Copy['store_category'].value_counts()).sort_values(ascending=False))"
   ]
  },
  {
   "cell_type": "code",
   "execution_count": 84,
   "metadata": {},
   "outputs": [
    {
     "data": {
      "image/png": "[encoded data removed]",
      "text/plain": [
       "<Figure size 720x360 with 1 Axes>"
      ]
     },
     "metadata": {
      "needs_background": "light"
     },
     "output_type": "display_data"
    },
    {
     "name": "stdout",
     "output_type": "stream",
     "text": [
      "Total Elecronic Transaction Count : 7205\n"
     ]
    }
   ],
   "source": [
    "Electronics_amount=Store_Category_groupby.get_group('Electronics')['amount']\n",
    "bins = [0, 500, 3000,5000,10000,30000,50000,100000,500000,2000000]\n",
    "Electronics_bin = pd.cut(Electronics_amount, bins)\n",
    "Electronics_bin.value_counts().sort_index().plot(kind='bar',  fontsize=10,\n",
    "                                                        figsize=(10,5), color=['darkviolet'],edgecolor='black',animated=True)\n",
    "\n",
    "plt.ylabel('Electronics Sale',fontsize=15)\n",
    "plt.xlabel('Amount Bin',fontsize=15)\n",
    "axes = plt.gca()\n",
    "axes.set_ylim([0,2000])\n",
    "plt.title('Bar Plot showing the Electronics Items sold based on Amount Range',fontsize=15)\n",
    "plt.show()\n",
    "\n",
    "print(\"Total Elecronic Transaction Count :\",len(Electronics_amount))\n"
   ]
  },
  {
   "cell_type": "code",
   "execution_count": 85,
   "metadata": {
    "scrolled": true
   },
   "outputs": [
    {
     "data": {
      "text/html": [
       "<div>\n",
       "<style scoped>\n",
       "    .dataframe tbody tr th:only-of-type {\n",
       "        vertical-align: middle;\n",
       "    }\n",
       "\n",
       "    .dataframe tbody tr th {\n",
       "        vertical-align: top;\n",
       "    }\n",
       "\n",
       "    .dataframe thead th {\n",
       "        text-align: right;\n",
       "    }\n",
       "</style>\n",
       "<table border=\"1\" class=\"dataframe\">\n",
       "  <thead>\n",
       "    <tr style=\"text-align: right;\">\n",
       "      <th></th>\n",
       "      <th>amount</th>\n",
       "      <th>points</th>\n",
       "      <th>store_code</th>\n",
       "      <th>customer_mobile</th>\n",
       "      <th>gender</th>\n",
       "      <th>state</th>\n",
       "      <th>tier</th>\n",
       "      <th>store_name</th>\n",
       "      <th>store_location</th>\n",
       "      <th>store_category</th>\n",
       "      <th>store_PriceCategory</th>\n",
       "      <th>billing_date</th>\n",
       "      <th>billing_time</th>\n",
       "    </tr>\n",
       "  </thead>\n",
       "  <tbody>\n",
       "    <tr>\n",
       "      <th>0</th>\n",
       "      <td>3200.0</td>\n",
       "      <td>32.0</td>\n",
       "      <td>IMA00001</td>\n",
       "      <td>256622493374</td>\n",
       "      <td>0</td>\n",
       "      <td>Maharashtra</td>\n",
       "      <td>1</td>\n",
       "      <td>Sprinkles</td>\n",
       "      <td>0</td>\n",
       "      <td>Accessories,Jewellery,Women's Fashion</td>\n",
       "      <td>2</td>\n",
       "      <td>2014-10-20</td>\n",
       "      <td>22:38:00</td>\n",
       "    </tr>\n",
       "    <tr>\n",
       "      <th>1</th>\n",
       "      <td>2000.0</td>\n",
       "      <td>20.0</td>\n",
       "      <td>IMM00003</td>\n",
       "      <td>212411292920</td>\n",
       "      <td>0</td>\n",
       "      <td>Kerala</td>\n",
       "      <td>1</td>\n",
       "      <td>Das Shoes</td>\n",
       "      <td>1</td>\n",
       "      <td>Accessories,Sports &amp; Fitness,Women's Fashion,M...</td>\n",
       "      <td>2</td>\n",
       "      <td>2014-10-20</td>\n",
       "      <td>22:38:00</td>\n",
       "    </tr>\n",
       "    <tr>\n",
       "      <th>2</th>\n",
       "      <td>1000.0</td>\n",
       "      <td>10.0</td>\n",
       "      <td>NA-IMA0048</td>\n",
       "      <td>256583467853</td>\n",
       "      <td>0</td>\n",
       "      <td>Maharashtra</td>\n",
       "      <td>1</td>\n",
       "      <td>Gameon!</td>\n",
       "      <td>0</td>\n",
       "      <td>Electronics,Entertainment &amp; Leisure</td>\n",
       "      <td>2</td>\n",
       "      <td>2014-10-20</td>\n",
       "      <td>22:38:00</td>\n",
       "    </tr>\n",
       "    <tr>\n",
       "      <th>3</th>\n",
       "      <td>5000.0</td>\n",
       "      <td>50.0</td>\n",
       "      <td>IMA00007</td>\n",
       "      <td>256583467853</td>\n",
       "      <td>0</td>\n",
       "      <td>Maharashtra</td>\n",
       "      <td>1</td>\n",
       "      <td>Das Shoes</td>\n",
       "      <td>0</td>\n",
       "      <td>Accessories,Sports &amp; Fitness,Women's Fashion,M...</td>\n",
       "      <td>2</td>\n",
       "      <td>2014-10-20</td>\n",
       "      <td>22:38:00</td>\n",
       "    </tr>\n",
       "    <tr>\n",
       "      <th>4</th>\n",
       "      <td>80000.0</td>\n",
       "      <td>800.0</td>\n",
       "      <td>NA-IMA0014</td>\n",
       "      <td>256583467853</td>\n",
       "      <td>0</td>\n",
       "      <td>Maharashtra</td>\n",
       "      <td>1</td>\n",
       "      <td>Cuffs</td>\n",
       "      <td>0</td>\n",
       "      <td>Men's Fashion</td>\n",
       "      <td>2</td>\n",
       "      <td>2014-10-20</td>\n",
       "      <td>22:38:00</td>\n",
       "    </tr>\n",
       "  </tbody>\n",
       "</table>\n",
       "</div>"
      ],
      "text/plain": [
       "    amount  points  store_code  customer_mobile gender        state  tier  \\\n",
       "0   3200.0    32.0    IMA00001     256622493374      0  Maharashtra     1   \n",
       "1   2000.0    20.0    IMM00003     212411292920      0       Kerala     1   \n",
       "2   1000.0    10.0  NA-IMA0048     256583467853      0  Maharashtra     1   \n",
       "3   5000.0    50.0    IMA00007     256583467853      0  Maharashtra     1   \n",
       "4  80000.0   800.0  NA-IMA0014     256583467853      0  Maharashtra     1   \n",
       "\n",
       "  store_name store_location  \\\n",
       "0  Sprinkles              0   \n",
       "1  Das Shoes              1   \n",
       "2    Gameon!              0   \n",
       "3  Das Shoes              0   \n",
       "4      Cuffs              0   \n",
       "\n",
       "                                      store_category  store_PriceCategory  \\\n",
       "0              Accessories,Jewellery,Women's Fashion                    2   \n",
       "1  Accessories,Sports & Fitness,Women's Fashion,M...                    2   \n",
       "2                Electronics,Entertainment & Leisure                    2   \n",
       "3  Accessories,Sports & Fitness,Women's Fashion,M...                    2   \n",
       "4                                      Men's Fashion                    2   \n",
       "\n",
       "  billing_date billing_time  \n",
       "0   2014-10-20     22:38:00  \n",
       "1   2014-10-20     22:38:00  \n",
       "2   2014-10-20     22:38:00  \n",
       "3   2014-10-20     22:38:00  \n",
       "4   2014-10-20     22:38:00  "
      ]
     },
     "execution_count": 85,
     "metadata": {},
     "output_type": "execute_result"
    }
   ],
   "source": [
    "Data_EDA=Data_Merged.copy()\n",
    "Data_EDA['tier']=Data_EDA['tier'].astype('category')\n",
    "Data_EDA['store_PriceCategory']=Data_EDA['store_PriceCategory'].astype('category')\n",
    "Data_EDA['gender']=Data_EDA['gender'].astype('category')\n",
    "Data_EDA['store_location']=Data_EDA['store_location'].astype('category')\n",
    "\n",
    "feature_coding={'tier':{'Blue Member':1,'Silver Member':2,'Gold Member':3,'Platinum Member':4},\n",
    "            'store_PriceCategory':{'Value':1,'Premium':2,'Super Premium':3,'Unknown':4},\n",
    "            'gender':{'Male':0,'Female':1},\n",
    "            'store_location':{'Diamond Mall':0,'Emerald Mall':1}}\n",
    "Data_EDA.replace(feature_coding,inplace=True)\n",
    "Data_EDA.head(5)"
   ]
  },
  {
   "cell_type": "code",
   "execution_count": 86,
   "metadata": {},
   "outputs": [
    {
     "data": {
      "text/plain": [
       "<Figure size 1080x720 with 0 Axes>"
      ]
     },
     "metadata": {},
     "output_type": "display_data"
    },
    {
     "data": {
      "image/png": "[encoded data removed]",
      "text/plain": [
       "<Figure size 540x540 with 12 Axes>"
      ]
     },
     "metadata": {
      "needs_background": "light"
     },
     "output_type": "display_data"
    }
   ],
   "source": [
    "plt.figure(1 , figsize = (15 , 10))\n",
    "sns.pairplot(Data_EDA[['amount','gender','tier','store_location','store_PriceCategory']])\n",
    "plt.title('Pairplot for the Data', fontsize = 20)\n",
    "plt.show()\n"
   ]
  },
  {
   "cell_type": "code",
   "execution_count": 87,
   "metadata": {},
   "outputs": [
    {
     "data": {
      "image/png": "[encoded data removed]",
      "text/plain": [
       "<Figure size 432x288 with 2 Axes>"
      ]
     },
     "metadata": {
      "needs_background": "light"
     },
     "output_type": "display_data"
    }
   ],
   "source": [
    "sns.heatmap(Data_EDA.corr(), cmap = 'Wistia', annot = True)\n",
    "plt.title('Heatmap for the Data', fontsize = 20)\n",
    "plt.show()"
   ]
  },
  {
   "cell_type": "code",
   "execution_count": 88,
   "metadata": {
    "scrolled": true
   },
   "outputs": [
    {
     "data": {
      "text/html": [
       "<div>\n",
       "<style scoped>\n",
       "    .dataframe tbody tr th:only-of-type {\n",
       "        vertical-align: middle;\n",
       "    }\n",
       "\n",
       "    .dataframe tbody tr th {\n",
       "        vertical-align: top;\n",
       "    }\n",
       "\n",
       "    .dataframe thead th {\n",
       "        text-align: right;\n",
       "    }\n",
       "</style>\n",
       "<table border=\"1\" class=\"dataframe\">\n",
       "  <thead>\n",
       "    <tr style=\"text-align: right;\">\n",
       "      <th></th>\n",
       "      <th>amount</th>\n",
       "      <th>points</th>\n",
       "      <th>store_code</th>\n",
       "      <th>customer_mobile</th>\n",
       "      <th>gender</th>\n",
       "      <th>state</th>\n",
       "      <th>tier</th>\n",
       "      <th>store_name</th>\n",
       "      <th>store_location</th>\n",
       "      <th>store_category</th>\n",
       "      <th>store_PriceCategory</th>\n",
       "      <th>billing_date</th>\n",
       "      <th>billing_time</th>\n",
       "    </tr>\n",
       "  </thead>\n",
       "  <tbody>\n",
       "    <tr>\n",
       "      <th>1592</th>\n",
       "      <td>0.0</td>\n",
       "      <td>0.0</td>\n",
       "      <td>NA-IMA0038</td>\n",
       "      <td>255207440548</td>\n",
       "      <td>Female</td>\n",
       "      <td>Maharashtra</td>\n",
       "      <td>Blue Member</td>\n",
       "      <td>Default</td>\n",
       "      <td>Diamond Mall</td>\n",
       "      <td>Unknown</td>\n",
       "      <td>Value</td>\n",
       "      <td>2014-10-20</td>\n",
       "      <td>22:38:00</td>\n",
       "    </tr>\n",
       "    <tr>\n",
       "      <th>4474</th>\n",
       "      <td>0.0</td>\n",
       "      <td>0.0</td>\n",
       "      <td>NA-IMM0029</td>\n",
       "      <td>255275574105</td>\n",
       "      <td>Female</td>\n",
       "      <td>Maharashtra</td>\n",
       "      <td>Blue Member</td>\n",
       "      <td>Default</td>\n",
       "      <td>Emerald Mall</td>\n",
       "      <td>Unknown</td>\n",
       "      <td>Value</td>\n",
       "      <td>2014-10-20</td>\n",
       "      <td>22:38:00</td>\n",
       "    </tr>\n",
       "    <tr>\n",
       "      <th>5165</th>\n",
       "      <td>0.0</td>\n",
       "      <td>0.0</td>\n",
       "      <td>NA-IMM0029</td>\n",
       "      <td>256625026259</td>\n",
       "      <td>Male</td>\n",
       "      <td>Maharashtra</td>\n",
       "      <td>Blue Member</td>\n",
       "      <td>Default</td>\n",
       "      <td>Emerald Mall</td>\n",
       "      <td>Unknown</td>\n",
       "      <td>Value</td>\n",
       "      <td>2014-10-20</td>\n",
       "      <td>22:38:00</td>\n",
       "    </tr>\n",
       "    <tr>\n",
       "      <th>6917</th>\n",
       "      <td>0.0</td>\n",
       "      <td>0.0</td>\n",
       "      <td>NA-IMM0029</td>\n",
       "      <td>259476885031</td>\n",
       "      <td>Male</td>\n",
       "      <td>Maharashtra</td>\n",
       "      <td>Blue Member</td>\n",
       "      <td>Default</td>\n",
       "      <td>Emerald Mall</td>\n",
       "      <td>Unknown</td>\n",
       "      <td>Value</td>\n",
       "      <td>2014-10-20</td>\n",
       "      <td>22:38:00</td>\n",
       "    </tr>\n",
       "    <tr>\n",
       "      <th>6929</th>\n",
       "      <td>0.0</td>\n",
       "      <td>0.0</td>\n",
       "      <td>NA-IMM0029</td>\n",
       "      <td>256619599685</td>\n",
       "      <td>Male</td>\n",
       "      <td>Maharashtra</td>\n",
       "      <td>Blue Member</td>\n",
       "      <td>Default</td>\n",
       "      <td>Emerald Mall</td>\n",
       "      <td>Unknown</td>\n",
       "      <td>Value</td>\n",
       "      <td>2014-10-20</td>\n",
       "      <td>22:38:00</td>\n",
       "    </tr>\n",
       "    <tr>\n",
       "      <th>6963</th>\n",
       "      <td>0.0</td>\n",
       "      <td>0.0</td>\n",
       "      <td>NA-IMM0029</td>\n",
       "      <td>256571784947</td>\n",
       "      <td>Male</td>\n",
       "      <td>Maharashtra</td>\n",
       "      <td>Blue Member</td>\n",
       "      <td>Default</td>\n",
       "      <td>Emerald Mall</td>\n",
       "      <td>Unknown</td>\n",
       "      <td>Value</td>\n",
       "      <td>2014-10-20</td>\n",
       "      <td>22:38:00</td>\n",
       "    </tr>\n",
       "    <tr>\n",
       "      <th>7730</th>\n",
       "      <td>0.0</td>\n",
       "      <td>0.0</td>\n",
       "      <td>NA-IMM0029</td>\n",
       "      <td>256632637013</td>\n",
       "      <td>Male</td>\n",
       "      <td>Maharashtra</td>\n",
       "      <td>Gold Member</td>\n",
       "      <td>Default</td>\n",
       "      <td>Emerald Mall</td>\n",
       "      <td>Unknown</td>\n",
       "      <td>Value</td>\n",
       "      <td>2014-10-20</td>\n",
       "      <td>22:38:00</td>\n",
       "    </tr>\n",
       "    <tr>\n",
       "      <th>14226</th>\n",
       "      <td>0.0</td>\n",
       "      <td>0.0</td>\n",
       "      <td>IMM00087</td>\n",
       "      <td>260449806289</td>\n",
       "      <td>Female</td>\n",
       "      <td>Maharashtra</td>\n",
       "      <td>Platinum Member</td>\n",
       "      <td>Latte World</td>\n",
       "      <td>Emerald Mall</td>\n",
       "      <td>Food &amp; Beverage</td>\n",
       "      <td>Premium</td>\n",
       "      <td>2016-12-01</td>\n",
       "      <td>16:56:00</td>\n",
       "    </tr>\n",
       "    <tr>\n",
       "      <th>44010</th>\n",
       "      <td>0.0</td>\n",
       "      <td>0.0</td>\n",
       "      <td>IMM00192</td>\n",
       "      <td>256606568445</td>\n",
       "      <td>Female</td>\n",
       "      <td>Maharashtra</td>\n",
       "      <td>Gold Member</td>\n",
       "      <td>Jeff &amp; Bridges</td>\n",
       "      <td>Emerald Mall</td>\n",
       "      <td>Accessories,Women's Fashion,Men's Fashion</td>\n",
       "      <td>Premium</td>\n",
       "      <td>2014-11-04</td>\n",
       "      <td>00:21:00</td>\n",
       "    </tr>\n",
       "    <tr>\n",
       "      <th>87410</th>\n",
       "      <td>0.0</td>\n",
       "      <td>0.0</td>\n",
       "      <td>IMM00086</td>\n",
       "      <td>256602014587</td>\n",
       "      <td>Male</td>\n",
       "      <td>Maharashtra</td>\n",
       "      <td>Blue Member</td>\n",
       "      <td>Pants &amp; More</td>\n",
       "      <td>Emerald Mall</td>\n",
       "      <td>Kids Fashion,Accessories,Women's Fashion,Men's...</td>\n",
       "      <td>Value</td>\n",
       "      <td>2015-06-04</td>\n",
       "      <td>17:08:00</td>\n",
       "    </tr>\n",
       "    <tr>\n",
       "      <th>87845</th>\n",
       "      <td>0.0</td>\n",
       "      <td>0.0</td>\n",
       "      <td>NA-IMM0098</td>\n",
       "      <td>256607101079</td>\n",
       "      <td>Male</td>\n",
       "      <td>Maharashtra</td>\n",
       "      <td>Silver Member</td>\n",
       "      <td>Fresh Waves</td>\n",
       "      <td>Emerald Mall</td>\n",
       "      <td>Women's Fashion</td>\n",
       "      <td>Value</td>\n",
       "      <td>2015-10-07</td>\n",
       "      <td>18:02:00</td>\n",
       "    </tr>\n",
       "    <tr>\n",
       "      <th>143976</th>\n",
       "      <td>0.0</td>\n",
       "      <td>0.0</td>\n",
       "      <td>NA-IMM0037</td>\n",
       "      <td>260454328530</td>\n",
       "      <td>Female</td>\n",
       "      <td>Maharashtra</td>\n",
       "      <td>Gold Member</td>\n",
       "      <td>Young Lady</td>\n",
       "      <td>Emerald Mall</td>\n",
       "      <td>Unknown</td>\n",
       "      <td>Premium</td>\n",
       "      <td>2015-03-12</td>\n",
       "      <td>00:42:00</td>\n",
       "    </tr>\n",
       "    <tr>\n",
       "      <th>185188</th>\n",
       "      <td>0.0</td>\n",
       "      <td>0.0</td>\n",
       "      <td>NA-IMM0012</td>\n",
       "      <td>232026585229</td>\n",
       "      <td>Female</td>\n",
       "      <td>Maharashtra</td>\n",
       "      <td>Platinum Member</td>\n",
       "      <td>Disco Fashion</td>\n",
       "      <td>Emerald Mall</td>\n",
       "      <td>Unknown</td>\n",
       "      <td>Premium</td>\n",
       "      <td>2015-04-25</td>\n",
       "      <td>00:44:00</td>\n",
       "    </tr>\n",
       "    <tr>\n",
       "      <th>191084</th>\n",
       "      <td>0.0</td>\n",
       "      <td>0.0</td>\n",
       "      <td>IMM00071</td>\n",
       "      <td>243642720497</td>\n",
       "      <td>Female</td>\n",
       "      <td>Maharashtra</td>\n",
       "      <td>Blue Member</td>\n",
       "      <td>Yin &amp; Yang Footwear</td>\n",
       "      <td>Emerald Mall</td>\n",
       "      <td>Accessories,Women's Fashion,Men's Fashion</td>\n",
       "      <td>Premium</td>\n",
       "      <td>2015-05-31</td>\n",
       "      <td>19:09:00</td>\n",
       "    </tr>\n",
       "    <tr>\n",
       "      <th>343341</th>\n",
       "      <td>0.0</td>\n",
       "      <td>0.0</td>\n",
       "      <td>IMM00231</td>\n",
       "      <td>183491399170</td>\n",
       "      <td>Male</td>\n",
       "      <td>Maharashtra</td>\n",
       "      <td>Blue Member</td>\n",
       "      <td>Shan San</td>\n",
       "      <td>Emerald Mall</td>\n",
       "      <td>Food &amp; Beverage</td>\n",
       "      <td>Value</td>\n",
       "      <td>2019-07-30</td>\n",
       "      <td>00:00:00</td>\n",
       "    </tr>\n",
       "  </tbody>\n",
       "</table>\n",
       "</div>"
      ],
      "text/plain": [
       "        amount  points  store_code  customer_mobile  gender        state  \\\n",
       "1592       0.0     0.0  NA-IMA0038     255207440548  Female  Maharashtra   \n",
       "4474       0.0     0.0  NA-IMM0029     255275574105  Female  Maharashtra   \n",
       "5165       0.0     0.0  NA-IMM0029     256625026259    Male  Maharashtra   \n",
       "6917       0.0     0.0  NA-IMM0029     259476885031    Male  Maharashtra   \n",
       "6929       0.0     0.0  NA-IMM0029     256619599685    Male  Maharashtra   \n",
       "6963       0.0     0.0  NA-IMM0029     256571784947    Male  Maharashtra   \n",
       "7730       0.0     0.0  NA-IMM0029     256632637013    Male  Maharashtra   \n",
       "14226      0.0     0.0    IMM00087     260449806289  Female  Maharashtra   \n",
       "44010      0.0     0.0    IMM00192     256606568445  Female  Maharashtra   \n",
       "87410      0.0     0.0    IMM00086     256602014587    Male  Maharashtra   \n",
       "87845      0.0     0.0  NA-IMM0098     256607101079    Male  Maharashtra   \n",
       "143976     0.0     0.0  NA-IMM0037     260454328530  Female  Maharashtra   \n",
       "185188     0.0     0.0  NA-IMM0012     232026585229  Female  Maharashtra   \n",
       "191084     0.0     0.0    IMM00071     243642720497  Female  Maharashtra   \n",
       "343341     0.0     0.0    IMM00231     183491399170    Male  Maharashtra   \n",
       "\n",
       "                   tier           store_name store_location  \\\n",
       "1592        Blue Member              Default   Diamond Mall   \n",
       "4474        Blue Member              Default   Emerald Mall   \n",
       "5165        Blue Member              Default   Emerald Mall   \n",
       "6917        Blue Member              Default   Emerald Mall   \n",
       "6929        Blue Member              Default   Emerald Mall   \n",
       "6963        Blue Member              Default   Emerald Mall   \n",
       "7730        Gold Member              Default   Emerald Mall   \n",
       "14226   Platinum Member          Latte World   Emerald Mall   \n",
       "44010       Gold Member       Jeff & Bridges   Emerald Mall   \n",
       "87410       Blue Member         Pants & More   Emerald Mall   \n",
       "87845     Silver Member          Fresh Waves   Emerald Mall   \n",
       "143976      Gold Member           Young Lady   Emerald Mall   \n",
       "185188  Platinum Member        Disco Fashion   Emerald Mall   \n",
       "191084      Blue Member  Yin & Yang Footwear   Emerald Mall   \n",
       "343341      Blue Member             Shan San   Emerald Mall   \n",
       "\n",
       "                                           store_category store_PriceCategory  \\\n",
       "1592                                              Unknown               Value   \n",
       "4474                                              Unknown               Value   \n",
       "5165                                              Unknown               Value   \n",
       "6917                                              Unknown               Value   \n",
       "6929                                              Unknown               Value   \n",
       "6963                                              Unknown               Value   \n",
       "7730                                              Unknown               Value   \n",
       "14226                                     Food & Beverage             Premium   \n",
       "44010           Accessories,Women's Fashion,Men's Fashion             Premium   \n",
       "87410   Kids Fashion,Accessories,Women's Fashion,Men's...               Value   \n",
       "87845                                     Women's Fashion               Value   \n",
       "143976                                            Unknown             Premium   \n",
       "185188                                            Unknown             Premium   \n",
       "191084          Accessories,Women's Fashion,Men's Fashion             Premium   \n",
       "343341                                    Food & Beverage               Value   \n",
       "\n",
       "       billing_date billing_time  \n",
       "1592     2014-10-20     22:38:00  \n",
       "4474     2014-10-20     22:38:00  \n",
       "5165     2014-10-20     22:38:00  \n",
       "6917     2014-10-20     22:38:00  \n",
       "6929     2014-10-20     22:38:00  \n",
       "6963     2014-10-20     22:38:00  \n",
       "7730     2014-10-20     22:38:00  \n",
       "14226    2016-12-01     16:56:00  \n",
       "44010    2014-11-04     00:21:00  \n",
       "87410    2015-06-04     17:08:00  \n",
       "87845    2015-10-07     18:02:00  \n",
       "143976   2015-03-12     00:42:00  \n",
       "185188   2015-04-25     00:44:00  \n",
       "191084   2015-05-31     19:09:00  \n",
       "343341   2019-07-30     00:00:00  "
      ]
     },
     "execution_count": 88,
     "metadata": {},
     "output_type": "execute_result"
    }
   ],
   "source": [
    "Data_Merged[Data_Merged['amount']==0]"
   ]
  },
  {
   "cell_type": "markdown",
   "metadata": {},
   "source": [
    "### RFM Modelling"
   ]
  },
  {
   "cell_type": "code",
   "execution_count": 89,
   "metadata": {
    "scrolled": true
   },
   "outputs": [
    {
     "data": {
      "text/plain": [
       "customer_mobile\n",
       "240975802340    2541\n",
       "256947967425    2242\n",
       "256608695427    1942\n",
       "259472473372    1829\n",
       "255283145507    1771\n",
       "260449806289    1743\n",
       "196141256469    1501\n",
       "256949578418    1430\n",
       "256613023470    1188\n",
       "255207440548    1115\n",
       "184089683800    1112\n",
       "243607556755    1103\n",
       "256592682127    1073\n",
       "255285716438    1050\n",
       "257907631184    1023\n",
       "256626128762     973\n",
       "256608559185     970\n",
       "259473557349     959\n",
       "256610079167     955\n",
       "243624530620     946\n",
       "256676238890     944\n",
       "239554419286     934\n",
       "258494074848     918\n",
       "256954018532     913\n",
       "220876554471     799\n",
       "260454328530     752\n",
       "259232631381     746\n",
       "243645112385     743\n",
       "256602876851     732\n",
       "255381199822     709\n",
       "                ... \n",
       "256600139054       1\n",
       "256599222884       1\n",
       "256599165006       1\n",
       "256599152673       1\n",
       "256598786408       1\n",
       "256598501409       1\n",
       "256598519987       1\n",
       "256598573553       1\n",
       "256598621789       1\n",
       "256598630674       1\n",
       "256598638121       1\n",
       "256598644941       1\n",
       "256598721920       1\n",
       "256598760514       1\n",
       "256598769450       1\n",
       "261299039442       1\n",
       "256598831509       1\n",
       "256599150269       1\n",
       "256598844992       1\n",
       "256598848206       1\n",
       "256598898114       1\n",
       "256598912303       1\n",
       "256598947056       1\n",
       "256598983716       1\n",
       "256598986146       1\n",
       "256599011780       1\n",
       "256599045775       1\n",
       "256599063700       1\n",
       "256599088105       1\n",
       "162074559143       1\n",
       "Length: 13177, dtype: int64"
      ]
     },
     "execution_count": 89,
     "metadata": {},
     "output_type": "execute_result"
    }
   ],
   "source": [
    "RFM_groupby=Data_Merged.groupby('customer_mobile')\n",
    "RFM_groupby.size().sort_values(ascending=False)"
   ]
  },
  {
   "cell_type": "code",
   "execution_count": 90,
   "metadata": {},
   "outputs": [
    {
     "name": "stdout",
     "output_type": "stream",
     "text": [
      "2019-08-29 00:00:00\n"
     ]
    },
    {
     "data": {
      "text/html": [
       "<div>\n",
       "<style scoped>\n",
       "    .dataframe tbody tr th:only-of-type {\n",
       "        vertical-align: middle;\n",
       "    }\n",
       "\n",
       "    .dataframe tbody tr th {\n",
       "        vertical-align: top;\n",
       "    }\n",
       "\n",
       "    .dataframe thead th {\n",
       "        text-align: right;\n",
       "    }\n",
       "</style>\n",
       "<table border=\"1\" class=\"dataframe\">\n",
       "  <thead>\n",
       "    <tr style=\"text-align: right;\">\n",
       "      <th></th>\n",
       "      <th>customer_mobile</th>\n",
       "      <th>Recency</th>\n",
       "      <th>Frequency</th>\n",
       "      <th>Monetary</th>\n",
       "    </tr>\n",
       "  </thead>\n",
       "  <tbody>\n",
       "    <tr>\n",
       "      <th>0</th>\n",
       "      <td>162074559143</td>\n",
       "      <td>59</td>\n",
       "      <td>1</td>\n",
       "      <td>1.0</td>\n",
       "    </tr>\n",
       "    <tr>\n",
       "      <th>1</th>\n",
       "      <td>162082081317</td>\n",
       "      <td>430</td>\n",
       "      <td>1</td>\n",
       "      <td>54419.0</td>\n",
       "    </tr>\n",
       "    <tr>\n",
       "      <th>2</th>\n",
       "      <td>163623918706</td>\n",
       "      <td>68</td>\n",
       "      <td>1</td>\n",
       "      <td>1078.8</td>\n",
       "    </tr>\n",
       "    <tr>\n",
       "      <th>3</th>\n",
       "      <td>164381930905</td>\n",
       "      <td>82</td>\n",
       "      <td>1</td>\n",
       "      <td>2473.5</td>\n",
       "    </tr>\n",
       "    <tr>\n",
       "      <th>4</th>\n",
       "      <td>182929244726</td>\n",
       "      <td>97</td>\n",
       "      <td>1</td>\n",
       "      <td>7995.0</td>\n",
       "    </tr>\n",
       "  </tbody>\n",
       "</table>\n",
       "</div>"
      ],
      "text/plain": [
       "   customer_mobile  Recency  Frequency  Monetary\n",
       "0     162074559143       59          1       1.0\n",
       "1     162082081317      430          1   54419.0\n",
       "2     163623918706       68          1    1078.8\n",
       "3     164381930905       82          1    2473.5\n",
       "4     182929244726       97          1    7995.0"
      ]
     },
     "execution_count": 90,
     "metadata": {},
     "output_type": "execute_result"
    }
   ],
   "source": [
    "Latest_Date=Data_Merged['billing_date'].max()\n",
    "print (Latest_Date)\n",
    "RFM_DF=RFM_groupby.agg({\"billing_date\":lambda x : (Latest_Date - x.max()).days,\"customer_mobile\":lambda x : len(x),\"amount\":lambda x : sum(x)})\n",
    "RFM_DF.rename(columns={\"billing_date\":\"Recency\",\"customer_mobile\":\"Frequency\",\"amount\":\"Monetary\"},inplace=True)\n",
    "RFM_DF=RFM_DF.reset_index()\n",
    "RFM_DF.head()"
   ]
  },
  {
   "cell_type": "markdown",
   "metadata": {},
   "source": [
    "### Changing the datatype of Recency to int"
   ]
  },
  {
   "cell_type": "code",
   "execution_count": 91,
   "metadata": {},
   "outputs": [],
   "source": [
    "RFM_DF['Recency']=(RFM_DF['Recency']).astype(int)"
   ]
  },
  {
   "cell_type": "markdown",
   "metadata": {},
   "source": [
    "### Descriptive statistics of RFM Dataset"
   ]
  },
  {
   "cell_type": "code",
   "execution_count": 92,
   "metadata": {},
   "outputs": [
    {
     "data": {
      "text/html": [
       "<div>\n",
       "<style scoped>\n",
       "    .dataframe tbody tr th:only-of-type {\n",
       "        vertical-align: middle;\n",
       "    }\n",
       "\n",
       "    .dataframe tbody tr th {\n",
       "        vertical-align: top;\n",
       "    }\n",
       "\n",
       "    .dataframe thead th {\n",
       "        text-align: right;\n",
       "    }\n",
       "</style>\n",
       "<table border=\"1\" class=\"dataframe\">\n",
       "  <thead>\n",
       "    <tr style=\"text-align: right;\">\n",
       "      <th></th>\n",
       "      <th>customer_mobile</th>\n",
       "      <th>Recency</th>\n",
       "      <th>Frequency</th>\n",
       "      <th>Monetary</th>\n",
       "    </tr>\n",
       "  </thead>\n",
       "  <tbody>\n",
       "    <tr>\n",
       "      <th>count</th>\n",
       "      <td>1.317700e+04</td>\n",
       "      <td>13177.000000</td>\n",
       "      <td>13177.000000</td>\n",
       "      <td>1.317700e+04</td>\n",
       "    </tr>\n",
       "    <tr>\n",
       "      <th>mean</th>\n",
       "      <td>2.476358e+11</td>\n",
       "      <td>612.698338</td>\n",
       "      <td>26.448205</td>\n",
       "      <td>7.871226e+04</td>\n",
       "    </tr>\n",
       "    <tr>\n",
       "      <th>std</th>\n",
       "      <td>1.789424e+10</td>\n",
       "      <td>564.872876</td>\n",
       "      <td>89.194342</td>\n",
       "      <td>4.234391e+05</td>\n",
       "    </tr>\n",
       "    <tr>\n",
       "      <th>min</th>\n",
       "      <td>1.620746e+11</td>\n",
       "      <td>0.000000</td>\n",
       "      <td>1.000000</td>\n",
       "      <td>1.000000e+00</td>\n",
       "    </tr>\n",
       "    <tr>\n",
       "      <th>25%</th>\n",
       "      <td>2.435965e+11</td>\n",
       "      <td>133.000000</td>\n",
       "      <td>1.000000</td>\n",
       "      <td>5.000000e+03</td>\n",
       "    </tr>\n",
       "    <tr>\n",
       "      <th>50%</th>\n",
       "      <td>2.565988e+11</td>\n",
       "      <td>374.000000</td>\n",
       "      <td>2.000000</td>\n",
       "      <td>8.897000e+03</td>\n",
       "    </tr>\n",
       "    <tr>\n",
       "      <th>75%</th>\n",
       "      <td>2.578329e+11</td>\n",
       "      <td>846.000000</td>\n",
       "      <td>12.000000</td>\n",
       "      <td>3.732000e+04</td>\n",
       "    </tr>\n",
       "    <tr>\n",
       "      <th>max</th>\n",
       "      <td>2.613000e+11</td>\n",
       "      <td>1774.000000</td>\n",
       "      <td>2541.000000</td>\n",
       "      <td>3.831377e+07</td>\n",
       "    </tr>\n",
       "  </tbody>\n",
       "</table>\n",
       "</div>"
      ],
      "text/plain": [
       "       customer_mobile       Recency     Frequency      Monetary\n",
       "count     1.317700e+04  13177.000000  13177.000000  1.317700e+04\n",
       "mean      2.476358e+11    612.698338     26.448205  7.871226e+04\n",
       "std       1.789424e+10    564.872876     89.194342  4.234391e+05\n",
       "min       1.620746e+11      0.000000      1.000000  1.000000e+00\n",
       "25%       2.435965e+11    133.000000      1.000000  5.000000e+03\n",
       "50%       2.565988e+11    374.000000      2.000000  8.897000e+03\n",
       "75%       2.578329e+11    846.000000     12.000000  3.732000e+04\n",
       "max       2.613000e+11   1774.000000   2541.000000  3.831377e+07"
      ]
     },
     "execution_count": 92,
     "metadata": {},
     "output_type": "execute_result"
    }
   ],
   "source": [
    "RFM_DF.describe()"
   ]
  },
  {
   "cell_type": "markdown",
   "metadata": {},
   "source": [
    "### Determining the skewness of Data"
   ]
  },
  {
   "cell_type": "code",
   "execution_count": 93,
   "metadata": {},
   "outputs": [
    {
     "data": {
      "text/plain": [
       "customer_mobile    -1.922550\n",
       "Recency             0.849419\n",
       "Frequency           9.955357\n",
       "Monetary           58.887020\n",
       "dtype: float64"
      ]
     },
     "execution_count": 93,
     "metadata": {},
     "output_type": "execute_result"
    }
   ],
   "source": [
    "RFM_DF.skew()"
   ]
  },
  {
   "cell_type": "code",
   "execution_count": 94,
   "metadata": {},
   "outputs": [
    {
     "data": {
      "text/plain": [
       "<matplotlib.axes._subplots.AxesSubplot at 0x2b8a5bc0eb8>"
      ]
     },
     "execution_count": 94,
     "metadata": {},
     "output_type": "execute_result"
    },
    {
     "data": {
      "image/png": "[encoded data removed]",
      "text/plain": [
       "<Figure size 432x288 with 1 Axes>"
      ]
     },
     "metadata": {
      "needs_background": "light"
     },
     "output_type": "display_data"
    }
   ],
   "source": [
    "sns.distplot(RFM_DF['Recency'])\n"
   ]
  },
  {
   "cell_type": "code",
   "execution_count": 95,
   "metadata": {},
   "outputs": [
    {
     "data": {
      "text/plain": [
       "<matplotlib.axes._subplots.AxesSubplot at 0x2b8a52d8cc0>"
      ]
     },
     "execution_count": 95,
     "metadata": {},
     "output_type": "execute_result"
    },
    {
     "data": {
      "image/png": "[encoded data removed]",
      "text/plain": [
       "<Figure size 432x288 with 1 Axes>"
      ]
     },
     "metadata": {
      "needs_background": "light"
     },
     "output_type": "display_data"
    }
   ],
   "source": [
    "sns.distplot(RFM_DF['Frequency'])"
   ]
  },
  {
   "cell_type": "code",
   "execution_count": 96,
   "metadata": {},
   "outputs": [
    {
     "data": {
      "text/plain": [
       "<matplotlib.axes._subplots.AxesSubplot at 0x2b8a535f358>"
      ]
     },
     "execution_count": 96,
     "metadata": {},
     "output_type": "execute_result"
    },
    {
     "data": {
      "image/png": "[encoded data removed]",
      "text/plain": [
       "<Figure size 432x288 with 1 Axes>"
      ]
     },
     "metadata": {
      "needs_background": "light"
     },
     "output_type": "display_data"
    }
   ],
   "source": [
    "sns.distplot(RFM_DF['Monetary'])"
   ]
  },
  {
   "cell_type": "markdown",
   "metadata": {},
   "source": [
    "### Split into four quantiles"
   ]
  },
  {
   "cell_type": "code",
   "execution_count": 97,
   "metadata": {},
   "outputs": [],
   "source": [
    "quantiles=RFM_DF.quantile(q=[0.25,0.5,0.75])\n",
    "quantiles=quantiles.to_dict()"
   ]
  },
  {
   "cell_type": "markdown",
   "metadata": {},
   "source": [
    "### Creating Method to Split R,F,M values into range 1 to 4"
   ]
  },
  {
   "cell_type": "code",
   "execution_count": 98,
   "metadata": {},
   "outputs": [],
   "source": [
    "def RMethod(x,value,quantile_dict):\n",
    "    if x<=quantile_dict[value][0.25]:\n",
    "        return 1;\n",
    "    elif x<=quantile_dict[value][0.5]:\n",
    "        return 2;\n",
    "    elif x<=quantile_dict[value][0.75]:\n",
    "        return 3;\n",
    "    else:\n",
    "        return 4;\n",
    "def FnMmethod(x,value,quantile_dict):\n",
    "    if x<=quantile_dict[value][0.25]:\n",
    "        return 4;\n",
    "    elif x<=quantile_dict[value][0.5]:\n",
    "        return 3;\n",
    "    elif x<=quantile_dict[value][0.75]:\n",
    "        return 2;\n",
    "    else:\n",
    "        return 1;\n",
    "    "
   ]
  },
  {
   "cell_type": "code",
   "execution_count": 99,
   "metadata": {},
   "outputs": [],
   "source": [
    "RFM_DF['R']=RFM_DF['Recency'].apply(RMethod,args=('Recency',quantiles))\n",
    "RFM_DF['F']=RFM_DF['Frequency'].apply(RMethod,args=('Frequency',quantiles))\n",
    "RFM_DF['M']=RFM_DF['Monetary'].apply(RMethod,args=('Monetary',quantiles))"
   ]
  },
  {
   "cell_type": "code",
   "execution_count": 100,
   "metadata": {},
   "outputs": [
    {
     "data": {
      "text/html": [
       "<div>\n",
       "<style scoped>\n",
       "    .dataframe tbody tr th:only-of-type {\n",
       "        vertical-align: middle;\n",
       "    }\n",
       "\n",
       "    .dataframe tbody tr th {\n",
       "        vertical-align: top;\n",
       "    }\n",
       "\n",
       "    .dataframe thead th {\n",
       "        text-align: right;\n",
       "    }\n",
       "</style>\n",
       "<table border=\"1\" class=\"dataframe\">\n",
       "  <thead>\n",
       "    <tr style=\"text-align: right;\">\n",
       "      <th></th>\n",
       "      <th>customer_mobile</th>\n",
       "      <th>Recency</th>\n",
       "      <th>Frequency</th>\n",
       "      <th>Monetary</th>\n",
       "      <th>R</th>\n",
       "      <th>F</th>\n",
       "      <th>M</th>\n",
       "    </tr>\n",
       "  </thead>\n",
       "  <tbody>\n",
       "    <tr>\n",
       "      <th>0</th>\n",
       "      <td>162074559143</td>\n",
       "      <td>59</td>\n",
       "      <td>1</td>\n",
       "      <td>1.0</td>\n",
       "      <td>1</td>\n",
       "      <td>1</td>\n",
       "      <td>1</td>\n",
       "    </tr>\n",
       "    <tr>\n",
       "      <th>1</th>\n",
       "      <td>162082081317</td>\n",
       "      <td>430</td>\n",
       "      <td>1</td>\n",
       "      <td>54419.0</td>\n",
       "      <td>3</td>\n",
       "      <td>1</td>\n",
       "      <td>4</td>\n",
       "    </tr>\n",
       "    <tr>\n",
       "      <th>2</th>\n",
       "      <td>163623918706</td>\n",
       "      <td>68</td>\n",
       "      <td>1</td>\n",
       "      <td>1078.8</td>\n",
       "      <td>1</td>\n",
       "      <td>1</td>\n",
       "      <td>1</td>\n",
       "    </tr>\n",
       "    <tr>\n",
       "      <th>3</th>\n",
       "      <td>164381930905</td>\n",
       "      <td>82</td>\n",
       "      <td>1</td>\n",
       "      <td>2473.5</td>\n",
       "      <td>1</td>\n",
       "      <td>1</td>\n",
       "      <td>1</td>\n",
       "    </tr>\n",
       "    <tr>\n",
       "      <th>4</th>\n",
       "      <td>182929244726</td>\n",
       "      <td>97</td>\n",
       "      <td>1</td>\n",
       "      <td>7995.0</td>\n",
       "      <td>1</td>\n",
       "      <td>1</td>\n",
       "      <td>2</td>\n",
       "    </tr>\n",
       "  </tbody>\n",
       "</table>\n",
       "</div>"
      ],
      "text/plain": [
       "   customer_mobile  Recency  Frequency  Monetary  R  F  M\n",
       "0     162074559143       59          1       1.0  1  1  1\n",
       "1     162082081317      430          1   54419.0  3  1  4\n",
       "2     163623918706       68          1    1078.8  1  1  1\n",
       "3     164381930905       82          1    2473.5  1  1  1\n",
       "4     182929244726       97          1    7995.0  1  1  2"
      ]
     },
     "execution_count": 100,
     "metadata": {},
     "output_type": "execute_result"
    }
   ],
   "source": [
    "RFM_DF.head(5)"
   ]
  },
  {
   "cell_type": "markdown",
   "metadata": {},
   "source": [
    "### K-means Clustering"
   ]
  },
  {
   "cell_type": "markdown",
   "metadata": {},
   "source": [
    "<p>Since the skewness for dataset is high, performing logarithmic tranformation</p>\n",
    "<p>We need to convert the 0 value in Recency to 1 since if becomes infinity on Log Transformation</p>"
   ]
  },
  {
   "cell_type": "code",
   "execution_count": 101,
   "metadata": {},
   "outputs": [],
   "source": [
    "    def nonzero(x):\n",
    "        if(x==0):\n",
    "            return 1;\n",
    "        else:\n",
    "            return x;\n",
    "    RFM_DF['Recency']=RFM_DF['Recency'].apply(nonzero)\n",
    "    "
   ]
  },
  {
   "cell_type": "markdown",
   "metadata": {},
   "source": [
    "### Applying logarithmic tranformation"
   ]
  },
  {
   "cell_type": "code",
   "execution_count": 102,
   "metadata": {},
   "outputs": [],
   "source": [
    "RFM_DF_Algo = RFM_DF[['Recency', 'Frequency', 'Monetary']].apply(np.log, axis = 1).round(3)"
   ]
  },
  {
   "cell_type": "code",
   "execution_count": 103,
   "metadata": {},
   "outputs": [
    {
     "data": {
      "text/html": [
       "<div>\n",
       "<style scoped>\n",
       "    .dataframe tbody tr th:only-of-type {\n",
       "        vertical-align: middle;\n",
       "    }\n",
       "\n",
       "    .dataframe tbody tr th {\n",
       "        vertical-align: top;\n",
       "    }\n",
       "\n",
       "    .dataframe thead th {\n",
       "        text-align: right;\n",
       "    }\n",
       "</style>\n",
       "<table border=\"1\" class=\"dataframe\">\n",
       "  <thead>\n",
       "    <tr style=\"text-align: right;\">\n",
       "      <th></th>\n",
       "      <th>Recency</th>\n",
       "      <th>Frequency</th>\n",
       "      <th>Monetary</th>\n",
       "    </tr>\n",
       "  </thead>\n",
       "  <tbody>\n",
       "    <tr>\n",
       "      <th>0</th>\n",
       "      <td>4.078</td>\n",
       "      <td>0.0</td>\n",
       "      <td>0.000</td>\n",
       "    </tr>\n",
       "    <tr>\n",
       "      <th>1</th>\n",
       "      <td>6.064</td>\n",
       "      <td>0.0</td>\n",
       "      <td>10.904</td>\n",
       "    </tr>\n",
       "    <tr>\n",
       "      <th>2</th>\n",
       "      <td>4.220</td>\n",
       "      <td>0.0</td>\n",
       "      <td>6.984</td>\n",
       "    </tr>\n",
       "    <tr>\n",
       "      <th>3</th>\n",
       "      <td>4.407</td>\n",
       "      <td>0.0</td>\n",
       "      <td>7.813</td>\n",
       "    </tr>\n",
       "    <tr>\n",
       "      <th>4</th>\n",
       "      <td>4.575</td>\n",
       "      <td>0.0</td>\n",
       "      <td>8.987</td>\n",
       "    </tr>\n",
       "  </tbody>\n",
       "</table>\n",
       "</div>"
      ],
      "text/plain": [
       "   Recency  Frequency  Monetary\n",
       "0    4.078        0.0     0.000\n",
       "1    6.064        0.0    10.904\n",
       "2    4.220        0.0     6.984\n",
       "3    4.407        0.0     7.813\n",
       "4    4.575        0.0     8.987"
      ]
     },
     "execution_count": 103,
     "metadata": {},
     "output_type": "execute_result"
    }
   ],
   "source": [
    "RFM_DF_Algo.head()"
   ]
  },
  {
   "cell_type": "markdown",
   "metadata": {},
   "source": [
    "### Determing Skewness for Logarithmic tranformed data"
   ]
  },
  {
   "cell_type": "code",
   "execution_count": 104,
   "metadata": {},
   "outputs": [
    {
     "data": {
      "text/plain": [
       "Recency     -1.141208\n",
       "Frequency    1.043656\n",
       "Monetary     0.525554\n",
       "dtype: float64"
      ]
     },
     "execution_count": 104,
     "metadata": {},
     "output_type": "execute_result"
    }
   ],
   "source": [
    "RFM_DF_Algo.skew()"
   ]
  },
  {
   "cell_type": "markdown",
   "metadata": {},
   "source": [
    "### Normalizing the Data to reduce further skewness"
   ]
  },
  {
   "cell_type": "code",
   "execution_count": 105,
   "metadata": {},
   "outputs": [],
   "source": [
    "# def normalize(column):\n",
    "#     upper = column.max()\n",
    "#     lower = column.min()\n",
    "#     y = (column - lower)/(upper-lower)\n",
    "#     return y\n",
    "# RFM_DF_Algo['Recency']=normalize(RFM_DF['Recency'])\n",
    "# RFM_DF_Algo['Frequency']=normalize(RFM_DF['Frequency'])\n",
    "# RFM_DF_Algo['Monetary']=normalize(RFM_DF['Monetary'])"
   ]
  },
  {
   "cell_type": "markdown",
   "metadata": {},
   "source": [
    "### Finding Skewness after Normalizing"
   ]
  },
  {
   "cell_type": "code",
   "execution_count": 106,
   "metadata": {},
   "outputs": [
    {
     "data": {
      "text/plain": [
       "Recency     -1.141208\n",
       "Frequency    1.043656\n",
       "Monetary     0.525554\n",
       "dtype: float64"
      ]
     },
     "execution_count": 106,
     "metadata": {},
     "output_type": "execute_result"
    }
   ],
   "source": [
    "RFM_DF_Algo.skew()"
   ]
  },
  {
   "cell_type": "code",
   "execution_count": 107,
   "metadata": {},
   "outputs": [
    {
     "data": {
      "text/plain": [
       "<matplotlib.axes._subplots.AxesSubplot at 0x2b8a2019b70>"
      ]
     },
     "execution_count": 107,
     "metadata": {},
     "output_type": "execute_result"
    },
    {
     "data": {
      "image/png": "[encoded data removed]",
      "text/plain": [
       "<Figure size 432x288 with 1 Axes>"
      ]
     },
     "metadata": {
      "needs_background": "light"
     },
     "output_type": "display_data"
    }
   ],
   "source": [
    "sns.distplot(RFM_DF_Algo['Recency'])"
   ]
  },
  {
   "cell_type": "code",
   "execution_count": 108,
   "metadata": {},
   "outputs": [
    {
     "data": {
      "text/plain": [
       "<matplotlib.axes._subplots.AxesSubplot at 0x2b8a4b43f60>"
      ]
     },
     "execution_count": 108,
     "metadata": {},
     "output_type": "execute_result"
    },
    {
     "data": {
      "image/png": "[encoded data removed]",
      "text/plain": [
       "<Figure size 432x288 with 1 Axes>"
      ]
     },
     "metadata": {
      "needs_background": "light"
     },
     "output_type": "display_data"
    }
   ],
   "source": [
    "sns.distplot(RFM_DF_Algo['Frequency'])\n"
   ]
  },
  {
   "cell_type": "code",
   "execution_count": 109,
   "metadata": {
    "scrolled": true
   },
   "outputs": [
    {
     "data": {
      "text/plain": [
       "<matplotlib.axes._subplots.AxesSubplot at 0x2b8a23947b8>"
      ]
     },
     "execution_count": 109,
     "metadata": {},
     "output_type": "execute_result"
    },
    {
     "data": {
      "image/png": "[encoded data removed]",
      "text/plain": [
       "<Figure size 432x288 with 1 Axes>"
      ]
     },
     "metadata": {
      "needs_background": "light"
     },
     "output_type": "display_data"
    }
   ],
   "source": [
    "sns.distplot(RFM_DF_Algo['Monetary'])"
   ]
  },
  {
   "cell_type": "markdown",
   "metadata": {},
   "source": [
    "### Scaling the Data "
   ]
  },
  {
   "cell_type": "code",
   "execution_count": 110,
   "metadata": {},
   "outputs": [],
   "source": [
    "from sklearn.preprocessing import StandardScaler\n",
    "scaleobj = StandardScaler()\n",
    "RFM_DF_Algo_Scaled = scaleobj.fit_transform(RFM_DF_Algo)"
   ]
  },
  {
   "cell_type": "code",
   "execution_count": 111,
   "metadata": {},
   "outputs": [
    {
     "data": {
      "text/html": [
       "<div>\n",
       "<style scoped>\n",
       "    .dataframe tbody tr th:only-of-type {\n",
       "        vertical-align: middle;\n",
       "    }\n",
       "\n",
       "    .dataframe tbody tr th {\n",
       "        vertical-align: top;\n",
       "    }\n",
       "\n",
       "    .dataframe thead th {\n",
       "        text-align: right;\n",
       "    }\n",
       "</style>\n",
       "<table border=\"1\" class=\"dataframe\">\n",
       "  <thead>\n",
       "    <tr style=\"text-align: right;\">\n",
       "      <th></th>\n",
       "      <th>Recency</th>\n",
       "      <th>Frequency</th>\n",
       "      <th>Monetary</th>\n",
       "    </tr>\n",
       "  </thead>\n",
       "  <tbody>\n",
       "    <tr>\n",
       "      <th>0</th>\n",
       "      <td>-1.096325</td>\n",
       "      <td>-0.865279</td>\n",
       "      <td>-5.480765</td>\n",
       "    </tr>\n",
       "    <tr>\n",
       "      <th>1</th>\n",
       "      <td>0.229025</td>\n",
       "      <td>-0.865279</td>\n",
       "      <td>0.815757</td>\n",
       "    </tr>\n",
       "    <tr>\n",
       "      <th>2</th>\n",
       "      <td>-1.001562</td>\n",
       "      <td>-0.865279</td>\n",
       "      <td>-1.447850</td>\n",
       "    </tr>\n",
       "    <tr>\n",
       "      <th>3</th>\n",
       "      <td>-0.876768</td>\n",
       "      <td>-0.865279</td>\n",
       "      <td>-0.969143</td>\n",
       "    </tr>\n",
       "    <tr>\n",
       "      <th>4</th>\n",
       "      <td>-0.764654</td>\n",
       "      <td>-0.865279</td>\n",
       "      <td>-0.291216</td>\n",
       "    </tr>\n",
       "  </tbody>\n",
       "</table>\n",
       "</div>"
      ],
      "text/plain": [
       "    Recency  Frequency  Monetary\n",
       "0 -1.096325  -0.865279 -5.480765\n",
       "1  0.229025  -0.865279  0.815757\n",
       "2 -1.001562  -0.865279 -1.447850\n",
       "3 -0.876768  -0.865279 -0.969143\n",
       "4 -0.764654  -0.865279 -0.291216"
      ]
     },
     "execution_count": 111,
     "metadata": {},
     "output_type": "execute_result"
    }
   ],
   "source": [
    "RFM_DF_Algo_Scaled=pd.DataFrame(RFM_DF_Algo_Scaled,columns=RFM_DF_Algo.columns)\n",
    "RFM_DF_Algo_Scaled.head()"
   ]
  },
  {
   "cell_type": "code",
   "execution_count": 112,
   "metadata": {},
   "outputs": [],
   "source": [
    "from sklearn.cluster import KMeans\n",
    "\n",
    "sum_of_sq_dist = {}\n",
    "for k in range(1,15):\n",
    "    km = KMeans(n_clusters= k, init= 'k-means++', max_iter= 1000)\n",
    "    km = km.fit(RFM_DF_Algo_Scaled)\n",
    "    sum_of_sq_dist[k] = km.inertia_\n",
    "    \n"
   ]
  },
  {
   "cell_type": "code",
   "execution_count": 113,
   "metadata": {},
   "outputs": [
    {
     "data": {
      "image/png": "[encoded data removed]",
      "text/plain": [
       "<Figure size 432x288 with 1 Axes>"
      ]
     },
     "metadata": {
      "needs_background": "light"
     },
     "output_type": "display_data"
    }
   ],
   "source": [
    "#Plot the graph for the sum of square distance values and Number of Clusters\n",
    "sns.pointplot(x = [keys for keys in sum_of_sq_dist.keys()], y = [values for values in sum_of_sq_dist.values()])\n",
    "plt.xlabel('Number of Clusters(k)')\n",
    "plt.ylabel('Sum of Square Distances')\n",
    "plt.title('Elbow Method For Optimal k')\n",
    "plt.show()\n"
   ]
  },
  {
   "cell_type": "code",
   "execution_count": 114,
   "metadata": {},
   "outputs": [
    {
     "data": {
      "text/html": [
       "<div>\n",
       "<style scoped>\n",
       "    .dataframe tbody tr th:only-of-type {\n",
       "        vertical-align: middle;\n",
       "    }\n",
       "\n",
       "    .dataframe tbody tr th {\n",
       "        vertical-align: top;\n",
       "    }\n",
       "\n",
       "    .dataframe thead th {\n",
       "        text-align: right;\n",
       "    }\n",
       "</style>\n",
       "<table border=\"1\" class=\"dataframe\">\n",
       "  <thead>\n",
       "    <tr style=\"text-align: right;\">\n",
       "      <th></th>\n",
       "      <th>customer_mobile</th>\n",
       "      <th>Recency</th>\n",
       "      <th>Frequency</th>\n",
       "      <th>Monetary</th>\n",
       "      <th>R</th>\n",
       "      <th>F</th>\n",
       "      <th>M</th>\n",
       "      <th>Cluster</th>\n",
       "    </tr>\n",
       "  </thead>\n",
       "  <tbody>\n",
       "    <tr>\n",
       "      <th>0</th>\n",
       "      <td>162074559143</td>\n",
       "      <td>59</td>\n",
       "      <td>1</td>\n",
       "      <td>1.0</td>\n",
       "      <td>1</td>\n",
       "      <td>1</td>\n",
       "      <td>1</td>\n",
       "      <td>0</td>\n",
       "    </tr>\n",
       "    <tr>\n",
       "      <th>1</th>\n",
       "      <td>162082081317</td>\n",
       "      <td>430</td>\n",
       "      <td>1</td>\n",
       "      <td>54419.0</td>\n",
       "      <td>3</td>\n",
       "      <td>1</td>\n",
       "      <td>4</td>\n",
       "      <td>3</td>\n",
       "    </tr>\n",
       "    <tr>\n",
       "      <th>2</th>\n",
       "      <td>163623918706</td>\n",
       "      <td>68</td>\n",
       "      <td>1</td>\n",
       "      <td>1078.8</td>\n",
       "      <td>1</td>\n",
       "      <td>1</td>\n",
       "      <td>1</td>\n",
       "      <td>0</td>\n",
       "    </tr>\n",
       "    <tr>\n",
       "      <th>3</th>\n",
       "      <td>164381930905</td>\n",
       "      <td>82</td>\n",
       "      <td>1</td>\n",
       "      <td>2473.5</td>\n",
       "      <td>1</td>\n",
       "      <td>1</td>\n",
       "      <td>1</td>\n",
       "      <td>0</td>\n",
       "    </tr>\n",
       "    <tr>\n",
       "      <th>4</th>\n",
       "      <td>182929244726</td>\n",
       "      <td>97</td>\n",
       "      <td>1</td>\n",
       "      <td>7995.0</td>\n",
       "      <td>1</td>\n",
       "      <td>1</td>\n",
       "      <td>2</td>\n",
       "      <td>0</td>\n",
       "    </tr>\n",
       "  </tbody>\n",
       "</table>\n",
       "</div>"
      ],
      "text/plain": [
       "   customer_mobile  Recency  Frequency  Monetary  R  F  M  Cluster\n",
       "0     162074559143       59          1       1.0  1  1  1        0\n",
       "1     162082081317      430          1   54419.0  3  1  4        3\n",
       "2     163623918706       68          1    1078.8  1  1  1        0\n",
       "3     164381930905       82          1    2473.5  1  1  1        0\n",
       "4     182929244726       97          1    7995.0  1  1  2        0"
      ]
     },
     "execution_count": 114,
     "metadata": {},
     "output_type": "execute_result"
    }
   ],
   "source": [
    "#Perform K-Mean Clustering or build the K-Means clustering model\n",
    "KMean_clust = KMeans(n_clusters=4, init= 'k-means++', max_iter= 1000)\n",
    "KMean_clust.fit(RFM_DF_Algo_Scaled)\n",
    "\n",
    "#Find the clusters for the observation given in the dataset\n",
    "RFM_DF['Cluster'] = KMean_clust.labels_\n",
    "RFM_DF.head()"
   ]
  },
  {
   "cell_type": "code",
   "execution_count": 115,
   "metadata": {},
   "outputs": [
    {
     "data": {
      "text/plain": [
       "3    5750\n",
       "0    2971\n",
       "2    2810\n",
       "1    1646\n",
       "Name: Cluster, dtype: int64"
      ]
     },
     "execution_count": 115,
     "metadata": {},
     "output_type": "execute_result"
    }
   ],
   "source": [
    "RFM_DF['Cluster'].value_counts()"
   ]
  },
  {
   "cell_type": "code",
   "execution_count": 123,
   "metadata": {},
   "outputs": [
    {
     "data": {
      "text/plain": [
       "(0, 400000)"
      ]
     },
     "execution_count": 123,
     "metadata": {},
     "output_type": "execute_result"
    },
    {
     "data": {
      "text/plain": [
       "<Figure size 720x720 with 0 Axes>"
      ]
     },
     "metadata": {},
     "output_type": "display_data"
    },
    {
     "data": {
      "image/png": "[encoded data removed]",
      "text/plain": [
       "<Figure size 720x576 with 1 Axes>"
      ]
     },
     "metadata": {
      "needs_background": "light"
     },
     "output_type": "display_data"
    }
   ],
   "source": [
    "plt.figure(figsize=(10,10))\n",
    "\n",
    "##Scatter Plot Frequency Vs Recency\n",
    "Colors = [\"red\", \"green\", \"blue\",'Yellow']\n",
    "RFM_DF['Color'] = RFM_DF['Cluster'].map(lambda p: Colors[p])\n",
    "ax = RFM_DF.plot(    \n",
    "    kind=\"scatter\", \n",
    "    y=\"Monetary\", x=\"Recency\",\n",
    "    figsize=(10,8),\n",
    "    c = RFM_DF['Color'],\n",
    "    legend=True\n",
    ")\n",
    "ax.set_ylim([0,400000])\n"
   ]
  },
  {
   "cell_type": "code",
   "execution_count": 125,
   "metadata": {},
   "outputs": [
    {
     "data": {
      "text/plain": [
       "<Figure size 504x504 with 0 Axes>"
      ]
     },
     "metadata": {},
     "output_type": "display_data"
    },
    {
     "data": {
      "image/png": "[encoded data removed]",
      "text/plain": [
       "<Figure size 720x360 with 1 Axes>"
      ]
     },
     "metadata": {
      "needs_background": "light"
     },
     "output_type": "display_data"
    }
   ],
   "source": [
    "plt.figure(figsize=(7,7))\n",
    "##Scatter Plot Frequency Vs Recency\n",
    "Colors = [\"red\", \"green\", \"blue\",'Yellow']\n",
    "#RFM_DF['Color'] = RFM_DF['Cluster'].map(lambda p: Colors[p])\n",
    "ax = RFM_DF.plot(    \n",
    "    kind=\"scatter\", \n",
    "    y=\"Monetary\", x=\"Frequency\",\n",
    "    figsize=(10,5),\n",
    "    c = RFM_DF['Color']\n",
    ")"
   ]
  },
  {
   "cell_type": "code",
   "execution_count": 126,
   "metadata": {
    "scrolled": true
   },
   "outputs": [
    {
     "data": {
      "text/plain": [
       "<Figure size 504x504 with 0 Axes>"
      ]
     },
     "metadata": {},
     "output_type": "display_data"
    },
    {
     "data": {
      "image/png": "[encoded data removed]",
      "text/plain": [
       "<Figure size 720x360 with 1 Axes>"
      ]
     },
     "metadata": {
      "needs_background": "light"
     },
     "output_type": "display_data"
    }
   ],
   "source": [
    "plt.figure(figsize=(7,7))\n",
    "\n",
    "##Scatter Plot Frequency Vs Recency\n",
    "Colors = [\"red\", \"green\", \"blue\",'Yellow']\n",
    "#RFM_DF['Color'] = RFM_DF['Cluster'].map(lambda p: Colors[p])\n",
    "ax = RFM_DF.plot(    \n",
    "    kind=\"scatter\", \n",
    "    y=\"Recency\", x=\"Frequency\",\n",
    "    figsize=(10,5),\n",
    "    c = RFM_DF['Color']\n",
    ")"
   ]
  },
  {
   "cell_type": "code",
   "execution_count": 127,
   "metadata": {},
   "outputs": [
    {
     "data": {
      "text/html": [
       "<div>\n",
       "<style scoped>\n",
       "    .dataframe tbody tr th:only-of-type {\n",
       "        vertical-align: middle;\n",
       "    }\n",
       "\n",
       "    .dataframe tbody tr th {\n",
       "        vertical-align: top;\n",
       "    }\n",
       "\n",
       "    .dataframe thead th {\n",
       "        text-align: right;\n",
       "    }\n",
       "</style>\n",
       "<table border=\"1\" class=\"dataframe\">\n",
       "  <thead>\n",
       "    <tr style=\"text-align: right;\">\n",
       "      <th></th>\n",
       "      <th>customer_mobile</th>\n",
       "      <th>Recency</th>\n",
       "      <th>Frequency</th>\n",
       "      <th>Monetary</th>\n",
       "      <th>R</th>\n",
       "      <th>F</th>\n",
       "      <th>M</th>\n",
       "      <th>Cluster</th>\n",
       "      <th>Color</th>\n",
       "      <th>RFMGroup</th>\n",
       "      <th>RFMScore</th>\n",
       "    </tr>\n",
       "  </thead>\n",
       "  <tbody>\n",
       "    <tr>\n",
       "      <th>0</th>\n",
       "      <td>162074559143</td>\n",
       "      <td>59</td>\n",
       "      <td>1</td>\n",
       "      <td>1.0</td>\n",
       "      <td>1</td>\n",
       "      <td>1</td>\n",
       "      <td>1</td>\n",
       "      <td>0</td>\n",
       "      <td>red</td>\n",
       "      <td>111</td>\n",
       "      <td>3</td>\n",
       "    </tr>\n",
       "    <tr>\n",
       "      <th>1</th>\n",
       "      <td>162082081317</td>\n",
       "      <td>430</td>\n",
       "      <td>1</td>\n",
       "      <td>54419.0</td>\n",
       "      <td>3</td>\n",
       "      <td>1</td>\n",
       "      <td>4</td>\n",
       "      <td>3</td>\n",
       "      <td>Yellow</td>\n",
       "      <td>314</td>\n",
       "      <td>8</td>\n",
       "    </tr>\n",
       "    <tr>\n",
       "      <th>2</th>\n",
       "      <td>163623918706</td>\n",
       "      <td>68</td>\n",
       "      <td>1</td>\n",
       "      <td>1078.8</td>\n",
       "      <td>1</td>\n",
       "      <td>1</td>\n",
       "      <td>1</td>\n",
       "      <td>0</td>\n",
       "      <td>red</td>\n",
       "      <td>111</td>\n",
       "      <td>3</td>\n",
       "    </tr>\n",
       "    <tr>\n",
       "      <th>3</th>\n",
       "      <td>164381930905</td>\n",
       "      <td>82</td>\n",
       "      <td>1</td>\n",
       "      <td>2473.5</td>\n",
       "      <td>1</td>\n",
       "      <td>1</td>\n",
       "      <td>1</td>\n",
       "      <td>0</td>\n",
       "      <td>red</td>\n",
       "      <td>111</td>\n",
       "      <td>3</td>\n",
       "    </tr>\n",
       "    <tr>\n",
       "      <th>4</th>\n",
       "      <td>182929244726</td>\n",
       "      <td>97</td>\n",
       "      <td>1</td>\n",
       "      <td>7995.0</td>\n",
       "      <td>1</td>\n",
       "      <td>1</td>\n",
       "      <td>2</td>\n",
       "      <td>0</td>\n",
       "      <td>red</td>\n",
       "      <td>112</td>\n",
       "      <td>4</td>\n",
       "    </tr>\n",
       "  </tbody>\n",
       "</table>\n",
       "</div>"
      ],
      "text/plain": [
       "   customer_mobile  Recency  Frequency  Monetary  R  F  M  Cluster   Color  \\\n",
       "0     162074559143       59          1       1.0  1  1  1        0     red   \n",
       "1     162082081317      430          1   54419.0  3  1  4        3  Yellow   \n",
       "2     163623918706       68          1    1078.8  1  1  1        0     red   \n",
       "3     164381930905       82          1    2473.5  1  1  1        0     red   \n",
       "4     182929244726       97          1    7995.0  1  1  2        0     red   \n",
       "\n",
       "  RFMGroup  RFMScore  \n",
       "0      111         3  \n",
       "1      314         8  \n",
       "2      111         3  \n",
       "3      111         3  \n",
       "4      112         4  "
      ]
     },
     "execution_count": 127,
     "metadata": {},
     "output_type": "execute_result"
    }
   ],
   "source": []
  },
  {
   "cell_type": "code",
   "execution_count": 130,
   "metadata": {},
   "outputs": [
    {
     "data": {
      "text/html": [
       "<div>\n",
       "<style scoped>\n",
       "    .dataframe tbody tr th:only-of-type {\n",
       "        vertical-align: middle;\n",
       "    }\n",
       "\n",
       "    .dataframe tbody tr th {\n",
       "        vertical-align: top;\n",
       "    }\n",
       "\n",
       "    .dataframe thead th {\n",
       "        text-align: right;\n",
       "    }\n",
       "</style>\n",
       "<table border=\"1\" class=\"dataframe\">\n",
       "  <thead>\n",
       "    <tr style=\"text-align: right;\">\n",
       "      <th></th>\n",
       "      <th>index</th>\n",
       "      <th>customer_mobile</th>\n",
       "      <th>Recency</th>\n",
       "      <th>Frequency</th>\n",
       "      <th>Monetary</th>\n",
       "      <th>R</th>\n",
       "      <th>F</th>\n",
       "      <th>M</th>\n",
       "      <th>Cluster</th>\n",
       "      <th>Color</th>\n",
       "      <th>RFMGroup</th>\n",
       "      <th>RFMScore</th>\n",
       "      <th>RFM_Customer_Segment</th>\n",
       "      <th>Customer_Segment</th>\n",
       "    </tr>\n",
       "  </thead>\n",
       "  <tbody>\n",
       "    <tr>\n",
       "      <th>0</th>\n",
       "      <td>0</td>\n",
       "      <td>162074559143</td>\n",
       "      <td>59</td>\n",
       "      <td>1</td>\n",
       "      <td>1.0</td>\n",
       "      <td>1</td>\n",
       "      <td>1</td>\n",
       "      <td>1</td>\n",
       "      <td>0</td>\n",
       "      <td>red</td>\n",
       "      <td>111</td>\n",
       "      <td>3</td>\n",
       "      <td>Most Valuable</td>\n",
       "      <td>Most Valuable</td>\n",
       "    </tr>\n",
       "    <tr>\n",
       "      <th>1</th>\n",
       "      <td>1</td>\n",
       "      <td>162082081317</td>\n",
       "      <td>430</td>\n",
       "      <td>1</td>\n",
       "      <td>54419.0</td>\n",
       "      <td>3</td>\n",
       "      <td>1</td>\n",
       "      <td>4</td>\n",
       "      <td>3</td>\n",
       "      <td>Yellow</td>\n",
       "      <td>314</td>\n",
       "      <td>8</td>\n",
       "      <td>Significant</td>\n",
       "      <td>Significant</td>\n",
       "    </tr>\n",
       "    <tr>\n",
       "      <th>2</th>\n",
       "      <td>2</td>\n",
       "      <td>163623918706</td>\n",
       "      <td>68</td>\n",
       "      <td>1</td>\n",
       "      <td>1078.8</td>\n",
       "      <td>1</td>\n",
       "      <td>1</td>\n",
       "      <td>1</td>\n",
       "      <td>0</td>\n",
       "      <td>red</td>\n",
       "      <td>111</td>\n",
       "      <td>3</td>\n",
       "      <td>Most Valuable</td>\n",
       "      <td>Most Valuable</td>\n",
       "    </tr>\n",
       "    <tr>\n",
       "      <th>3</th>\n",
       "      <td>3</td>\n",
       "      <td>164381930905</td>\n",
       "      <td>82</td>\n",
       "      <td>1</td>\n",
       "      <td>2473.5</td>\n",
       "      <td>1</td>\n",
       "      <td>1</td>\n",
       "      <td>1</td>\n",
       "      <td>0</td>\n",
       "      <td>red</td>\n",
       "      <td>111</td>\n",
       "      <td>3</td>\n",
       "      <td>Most Valuable</td>\n",
       "      <td>Most Valuable</td>\n",
       "    </tr>\n",
       "    <tr>\n",
       "      <th>4</th>\n",
       "      <td>4</td>\n",
       "      <td>182929244726</td>\n",
       "      <td>97</td>\n",
       "      <td>1</td>\n",
       "      <td>7995.0</td>\n",
       "      <td>1</td>\n",
       "      <td>1</td>\n",
       "      <td>2</td>\n",
       "      <td>0</td>\n",
       "      <td>red</td>\n",
       "      <td>112</td>\n",
       "      <td>4</td>\n",
       "      <td>Most Valuable</td>\n",
       "      <td>Most Valuable</td>\n",
       "    </tr>\n",
       "  </tbody>\n",
       "</table>\n",
       "</div>"
      ],
      "text/plain": [
       "   index  customer_mobile  Recency  Frequency  Monetary  R  F  M  Cluster  \\\n",
       "0      0     162074559143       59          1       1.0  1  1  1        0   \n",
       "1      1     162082081317      430          1   54419.0  3  1  4        3   \n",
       "2      2     163623918706       68          1    1078.8  1  1  1        0   \n",
       "3      3     164381930905       82          1    2473.5  1  1  1        0   \n",
       "4      4     182929244726       97          1    7995.0  1  1  2        0   \n",
       "\n",
       "    Color RFMGroup  RFMScore RFM_Customer_Segment Customer_Segment  \n",
       "0     red      111         3        Most Valuable    Most Valuable  \n",
       "1  Yellow      314         8          Significant      Significant  \n",
       "2     red      111         3        Most Valuable    Most Valuable  \n",
       "3     red      111         3        Most Valuable    Most Valuable  \n",
       "4     red      112         4        Most Valuable    Most Valuable  "
      ]
     },
     "execution_count": 130,
     "metadata": {},
     "output_type": "execute_result"
    }
   ],
   "source": []
  },
  {
   "cell_type": "code",
   "execution_count": null,
   "metadata": {},
   "outputs": [],
   "source": []
  },
  {
   "cell_type": "code",
   "execution_count": 136,
   "metadata": {},
   "outputs": [
    {
     "data": {
      "text/html": [
       "<div>\n",
       "<style scoped>\n",
       "    .dataframe tbody tr th:only-of-type {\n",
       "        vertical-align: middle;\n",
       "    }\n",
       "\n",
       "    .dataframe tbody tr th {\n",
       "        vertical-align: top;\n",
       "    }\n",
       "\n",
       "    .dataframe thead th {\n",
       "        text-align: right;\n",
       "    }\n",
       "</style>\n",
       "<table border=\"1\" class=\"dataframe\">\n",
       "  <thead>\n",
       "    <tr style=\"text-align: right;\">\n",
       "      <th>Cluster</th>\n",
       "      <th>0</th>\n",
       "      <th>1</th>\n",
       "      <th>2</th>\n",
       "      <th>3</th>\n",
       "    </tr>\n",
       "    <tr>\n",
       "      <th>RFMScore</th>\n",
       "      <th></th>\n",
       "      <th></th>\n",
       "      <th></th>\n",
       "      <th></th>\n",
       "    </tr>\n",
       "  </thead>\n",
       "  <tbody>\n",
       "    <tr>\n",
       "      <th>3</th>\n",
       "      <td>1002</td>\n",
       "      <td>0</td>\n",
       "      <td>0</td>\n",
       "      <td>0</td>\n",
       "    </tr>\n",
       "    <tr>\n",
       "      <th>4</th>\n",
       "      <td>1016</td>\n",
       "      <td>0</td>\n",
       "      <td>0</td>\n",
       "      <td>1</td>\n",
       "    </tr>\n",
       "    <tr>\n",
       "      <th>5</th>\n",
       "      <td>522</td>\n",
       "      <td>0</td>\n",
       "      <td>0</td>\n",
       "      <td>1872</td>\n",
       "    </tr>\n",
       "    <tr>\n",
       "      <th>6</th>\n",
       "      <td>251</td>\n",
       "      <td>0</td>\n",
       "      <td>4</td>\n",
       "      <td>719</td>\n",
       "    </tr>\n",
       "    <tr>\n",
       "      <th>7</th>\n",
       "      <td>165</td>\n",
       "      <td>32</td>\n",
       "      <td>89</td>\n",
       "      <td>806</td>\n",
       "    </tr>\n",
       "    <tr>\n",
       "      <th>8</th>\n",
       "      <td>15</td>\n",
       "      <td>113</td>\n",
       "      <td>399</td>\n",
       "      <td>983</td>\n",
       "    </tr>\n",
       "    <tr>\n",
       "      <th>9</th>\n",
       "      <td>0</td>\n",
       "      <td>1276</td>\n",
       "      <td>522</td>\n",
       "      <td>776</td>\n",
       "    </tr>\n",
       "    <tr>\n",
       "      <th>10</th>\n",
       "      <td>0</td>\n",
       "      <td>208</td>\n",
       "      <td>908</td>\n",
       "      <td>586</td>\n",
       "    </tr>\n",
       "    <tr>\n",
       "      <th>11</th>\n",
       "      <td>0</td>\n",
       "      <td>17</td>\n",
       "      <td>612</td>\n",
       "      <td>7</td>\n",
       "    </tr>\n",
       "    <tr>\n",
       "      <th>12</th>\n",
       "      <td>0</td>\n",
       "      <td>0</td>\n",
       "      <td>276</td>\n",
       "      <td>0</td>\n",
       "    </tr>\n",
       "  </tbody>\n",
       "</table>\n",
       "</div>"
      ],
      "text/plain": [
       "Cluster      0     1    2     3\n",
       "RFMScore                       \n",
       "3         1002     0    0     0\n",
       "4         1016     0    0     1\n",
       "5          522     0    0  1872\n",
       "6          251     0    4   719\n",
       "7          165    32   89   806\n",
       "8           15   113  399   983\n",
       "9            0  1276  522   776\n",
       "10           0   208  908   586\n",
       "11           0    17  612     7\n",
       "12           0     0  276     0"
      ]
     },
     "execution_count": 136,
     "metadata": {},
     "output_type": "execute_result"
    }
   ],
   "source": []
  },
  {
   "cell_type": "markdown",
   "metadata": {},
   "source": [
    "### Predict the Purchase Date of Customer"
   ]
  },
  {
   "cell_type": "code",
   "execution_count": 138,
   "metadata": {},
   "outputs": [],
   "source": [
    "Predict_PD=Data_Merged.groupby('customer_mobile')"
   ]
  },
  {
   "cell_type": "code",
   "execution_count": 196,
   "metadata": {},
   "outputs": [
    {
     "data": {
      "text/html": [
       "<div>\n",
       "<style scoped>\n",
       "    .dataframe tbody tr th:only-of-type {\n",
       "        vertical-align: middle;\n",
       "    }\n",
       "\n",
       "    .dataframe tbody tr th {\n",
       "        vertical-align: top;\n",
       "    }\n",
       "\n",
       "    .dataframe thead th {\n",
       "        text-align: right;\n",
       "    }\n",
       "</style>\n",
       "<table border=\"1\" class=\"dataframe\">\n",
       "  <thead>\n",
       "    <tr style=\"text-align: right;\">\n",
       "      <th></th>\n",
       "      <th>customer_mobile</th>\n",
       "      <th>Predicted Next Purchase Date</th>\n",
       "    </tr>\n",
       "  </thead>\n",
       "  <tbody>\n",
       "    <tr>\n",
       "      <th>0</th>\n",
       "      <td>162074559143</td>\n",
       "      <td>2019-07-02</td>\n",
       "    </tr>\n",
       "    <tr>\n",
       "      <th>1</th>\n",
       "      <td>162082081317</td>\n",
       "      <td>2018-06-26</td>\n",
       "    </tr>\n",
       "    <tr>\n",
       "      <th>2</th>\n",
       "      <td>163623918706</td>\n",
       "      <td>2019-06-23</td>\n",
       "    </tr>\n",
       "    <tr>\n",
       "      <th>3</th>\n",
       "      <td>164381930905</td>\n",
       "      <td>2019-06-09</td>\n",
       "    </tr>\n",
       "    <tr>\n",
       "      <th>4</th>\n",
       "      <td>182929244726</td>\n",
       "      <td>2019-05-25</td>\n",
       "    </tr>\n",
       "    <tr>\n",
       "      <th>5</th>\n",
       "      <td>182973872100</td>\n",
       "      <td>2018-01-18</td>\n",
       "    </tr>\n",
       "    <tr>\n",
       "      <th>6</th>\n",
       "      <td>182975639455</td>\n",
       "      <td>2019-05-26</td>\n",
       "    </tr>\n",
       "    <tr>\n",
       "      <th>7</th>\n",
       "      <td>182984622165</td>\n",
       "      <td>2019-05-23</td>\n",
       "    </tr>\n",
       "    <tr>\n",
       "      <th>8</th>\n",
       "      <td>183017849518</td>\n",
       "      <td>2018-03-06</td>\n",
       "    </tr>\n",
       "    <tr>\n",
       "      <th>9</th>\n",
       "      <td>183031349112</td>\n",
       "      <td>2019-06-06</td>\n",
       "    </tr>\n",
       "    <tr>\n",
       "      <th>10</th>\n",
       "      <td>183116132731</td>\n",
       "      <td>2017-06-30</td>\n",
       "    </tr>\n",
       "    <tr>\n",
       "      <th>11</th>\n",
       "      <td>183137356457</td>\n",
       "      <td>2019-09-20</td>\n",
       "    </tr>\n",
       "    <tr>\n",
       "      <th>12</th>\n",
       "      <td>183151886305</td>\n",
       "      <td>2019-06-04</td>\n",
       "    </tr>\n",
       "    <tr>\n",
       "      <th>13</th>\n",
       "      <td>183156812855</td>\n",
       "      <td>2019-07-19</td>\n",
       "    </tr>\n",
       "    <tr>\n",
       "      <th>14</th>\n",
       "      <td>183163865447</td>\n",
       "      <td>2019-06-09</td>\n",
       "    </tr>\n",
       "    <tr>\n",
       "      <th>15</th>\n",
       "      <td>183209613642</td>\n",
       "      <td>2019-05-24</td>\n",
       "    </tr>\n",
       "    <tr>\n",
       "      <th>16</th>\n",
       "      <td>183232290745</td>\n",
       "      <td>2017-07-15</td>\n",
       "    </tr>\n",
       "    <tr>\n",
       "      <th>17</th>\n",
       "      <td>183232843264</td>\n",
       "      <td>2017-09-07</td>\n",
       "    </tr>\n",
       "    <tr>\n",
       "      <th>18</th>\n",
       "      <td>183249238324</td>\n",
       "      <td>2017-12-01</td>\n",
       "    </tr>\n",
       "    <tr>\n",
       "      <th>19</th>\n",
       "      <td>183338820273</td>\n",
       "      <td>2019-08-30</td>\n",
       "    </tr>\n",
       "    <tr>\n",
       "      <th>20</th>\n",
       "      <td>183344572296</td>\n",
       "      <td>2018-08-09</td>\n",
       "    </tr>\n",
       "    <tr>\n",
       "      <th>21</th>\n",
       "      <td>183443804838</td>\n",
       "      <td>2018-09-03</td>\n",
       "    </tr>\n",
       "    <tr>\n",
       "      <th>22</th>\n",
       "      <td>183445630097</td>\n",
       "      <td>2019-05-23</td>\n",
       "    </tr>\n",
       "    <tr>\n",
       "      <th>23</th>\n",
       "      <td>183446550918</td>\n",
       "      <td>2018-12-04</td>\n",
       "    </tr>\n",
       "    <tr>\n",
       "      <th>24</th>\n",
       "      <td>183449612231</td>\n",
       "      <td>2017-05-25</td>\n",
       "    </tr>\n",
       "    <tr>\n",
       "      <th>25</th>\n",
       "      <td>183459004738</td>\n",
       "      <td>2019-08-31</td>\n",
       "    </tr>\n",
       "    <tr>\n",
       "      <th>26</th>\n",
       "      <td>183460634074</td>\n",
       "      <td>2019-05-25</td>\n",
       "    </tr>\n",
       "    <tr>\n",
       "      <th>27</th>\n",
       "      <td>183461018028</td>\n",
       "      <td>2019-08-25</td>\n",
       "    </tr>\n",
       "    <tr>\n",
       "      <th>28</th>\n",
       "      <td>183461416014</td>\n",
       "      <td>2019-09-03</td>\n",
       "    </tr>\n",
       "    <tr>\n",
       "      <th>29</th>\n",
       "      <td>183462452931</td>\n",
       "      <td>2017-12-30</td>\n",
       "    </tr>\n",
       "    <tr>\n",
       "      <th>...</th>\n",
       "      <td>...</td>\n",
       "      <td>...</td>\n",
       "    </tr>\n",
       "    <tr>\n",
       "      <th>13147</th>\n",
       "      <td>261178892787</td>\n",
       "      <td>2017-06-26</td>\n",
       "    </tr>\n",
       "    <tr>\n",
       "      <th>13148</th>\n",
       "      <td>261181024002</td>\n",
       "      <td>2018-09-09</td>\n",
       "    </tr>\n",
       "    <tr>\n",
       "      <th>13149</th>\n",
       "      <td>261183425976</td>\n",
       "      <td>2017-09-13</td>\n",
       "    </tr>\n",
       "    <tr>\n",
       "      <th>13150</th>\n",
       "      <td>261183934257</td>\n",
       "      <td>2017-07-24</td>\n",
       "    </tr>\n",
       "    <tr>\n",
       "      <th>13151</th>\n",
       "      <td>261184420667</td>\n",
       "      <td>2017-11-18</td>\n",
       "    </tr>\n",
       "    <tr>\n",
       "      <th>13152</th>\n",
       "      <td>261189906164</td>\n",
       "      <td>2017-05-17</td>\n",
       "    </tr>\n",
       "    <tr>\n",
       "      <th>13153</th>\n",
       "      <td>261190459206</td>\n",
       "      <td>2017-07-15</td>\n",
       "    </tr>\n",
       "    <tr>\n",
       "      <th>13154</th>\n",
       "      <td>261192568080</td>\n",
       "      <td>2017-11-08</td>\n",
       "    </tr>\n",
       "    <tr>\n",
       "      <th>13155</th>\n",
       "      <td>261193677376</td>\n",
       "      <td>2017-09-04</td>\n",
       "    </tr>\n",
       "    <tr>\n",
       "      <th>13156</th>\n",
       "      <td>261193823861</td>\n",
       "      <td>2017-07-15</td>\n",
       "    </tr>\n",
       "    <tr>\n",
       "      <th>13157</th>\n",
       "      <td>261243485337</td>\n",
       "      <td>2017-11-01</td>\n",
       "    </tr>\n",
       "    <tr>\n",
       "      <th>13158</th>\n",
       "      <td>261247793077</td>\n",
       "      <td>2019-06-10</td>\n",
       "    </tr>\n",
       "    <tr>\n",
       "      <th>13159</th>\n",
       "      <td>261249078333</td>\n",
       "      <td>2019-05-26</td>\n",
       "    </tr>\n",
       "    <tr>\n",
       "      <th>13160</th>\n",
       "      <td>261255673467</td>\n",
       "      <td>2018-11-16</td>\n",
       "    </tr>\n",
       "    <tr>\n",
       "      <th>13161</th>\n",
       "      <td>261261124185</td>\n",
       "      <td>2014-10-21</td>\n",
       "    </tr>\n",
       "    <tr>\n",
       "      <th>13162</th>\n",
       "      <td>261263959760</td>\n",
       "      <td>2019-09-29</td>\n",
       "    </tr>\n",
       "    <tr>\n",
       "      <th>13163</th>\n",
       "      <td>261273181899</td>\n",
       "      <td>2019-01-04</td>\n",
       "    </tr>\n",
       "    <tr>\n",
       "      <th>13164</th>\n",
       "      <td>261274764803</td>\n",
       "      <td>2018-11-26</td>\n",
       "    </tr>\n",
       "    <tr>\n",
       "      <th>13165</th>\n",
       "      <td>261276305636</td>\n",
       "      <td>2018-12-09</td>\n",
       "    </tr>\n",
       "    <tr>\n",
       "      <th>13166</th>\n",
       "      <td>261279109438</td>\n",
       "      <td>2020-10-04</td>\n",
       "    </tr>\n",
       "    <tr>\n",
       "      <th>13167</th>\n",
       "      <td>261285678493</td>\n",
       "      <td>2017-05-27</td>\n",
       "    </tr>\n",
       "    <tr>\n",
       "      <th>13168</th>\n",
       "      <td>261286886222</td>\n",
       "      <td>2019-05-25</td>\n",
       "    </tr>\n",
       "    <tr>\n",
       "      <th>13169</th>\n",
       "      <td>261292660952</td>\n",
       "      <td>2017-06-06</td>\n",
       "    </tr>\n",
       "    <tr>\n",
       "      <th>13170</th>\n",
       "      <td>261295255348</td>\n",
       "      <td>2019-05-19</td>\n",
       "    </tr>\n",
       "    <tr>\n",
       "      <th>13171</th>\n",
       "      <td>261295825687</td>\n",
       "      <td>2019-08-15</td>\n",
       "    </tr>\n",
       "    <tr>\n",
       "      <th>13172</th>\n",
       "      <td>261295934701</td>\n",
       "      <td>2015-03-27</td>\n",
       "    </tr>\n",
       "    <tr>\n",
       "      <th>13173</th>\n",
       "      <td>261296990719</td>\n",
       "      <td>2019-06-06</td>\n",
       "    </tr>\n",
       "    <tr>\n",
       "      <th>13174</th>\n",
       "      <td>261297005012</td>\n",
       "      <td>2019-09-16</td>\n",
       "    </tr>\n",
       "    <tr>\n",
       "      <th>13175</th>\n",
       "      <td>261299039442</td>\n",
       "      <td>2018-09-21</td>\n",
       "    </tr>\n",
       "    <tr>\n",
       "      <th>13176</th>\n",
       "      <td>261300000320</td>\n",
       "      <td>2019-05-30</td>\n",
       "    </tr>\n",
       "  </tbody>\n",
       "</table>\n",
       "<p>13177 rows × 2 columns</p>\n",
       "</div>"
      ],
      "text/plain": [
       "       customer_mobile Predicted Next Purchase Date\n",
       "0         162074559143                   2019-07-02\n",
       "1         162082081317                   2018-06-26\n",
       "2         163623918706                   2019-06-23\n",
       "3         164381930905                   2019-06-09\n",
       "4         182929244726                   2019-05-25\n",
       "5         182973872100                   2018-01-18\n",
       "6         182975639455                   2019-05-26\n",
       "7         182984622165                   2019-05-23\n",
       "8         183017849518                   2018-03-06\n",
       "9         183031349112                   2019-06-06\n",
       "10        183116132731                   2017-06-30\n",
       "11        183137356457                   2019-09-20\n",
       "12        183151886305                   2019-06-04\n",
       "13        183156812855                   2019-07-19\n",
       "14        183163865447                   2019-06-09\n",
       "15        183209613642                   2019-05-24\n",
       "16        183232290745                   2017-07-15\n",
       "17        183232843264                   2017-09-07\n",
       "18        183249238324                   2017-12-01\n",
       "19        183338820273                   2019-08-30\n",
       "20        183344572296                   2018-08-09\n",
       "21        183443804838                   2018-09-03\n",
       "22        183445630097                   2019-05-23\n",
       "23        183446550918                   2018-12-04\n",
       "24        183449612231                   2017-05-25\n",
       "25        183459004738                   2019-08-31\n",
       "26        183460634074                   2019-05-25\n",
       "27        183461018028                   2019-08-25\n",
       "28        183461416014                   2019-09-03\n",
       "29        183462452931                   2017-12-30\n",
       "...                ...                          ...\n",
       "13147     261178892787                   2017-06-26\n",
       "13148     261181024002                   2018-09-09\n",
       "13149     261183425976                   2017-09-13\n",
       "13150     261183934257                   2017-07-24\n",
       "13151     261184420667                   2017-11-18\n",
       "13152     261189906164                   2017-05-17\n",
       "13153     261190459206                   2017-07-15\n",
       "13154     261192568080                   2017-11-08\n",
       "13155     261193677376                   2017-09-04\n",
       "13156     261193823861                   2017-07-15\n",
       "13157     261243485337                   2017-11-01\n",
       "13158     261247793077                   2019-06-10\n",
       "13159     261249078333                   2019-05-26\n",
       "13160     261255673467                   2018-11-16\n",
       "13161     261261124185                   2014-10-21\n",
       "13162     261263959760                   2019-09-29\n",
       "13163     261273181899                   2019-01-04\n",
       "13164     261274764803                   2018-11-26\n",
       "13165     261276305636                   2018-12-09\n",
       "13166     261279109438                   2020-10-04\n",
       "13167     261285678493                   2017-05-27\n",
       "13168     261286886222                   2019-05-25\n",
       "13169     261292660952                   2017-06-06\n",
       "13170     261295255348                   2019-05-19\n",
       "13171     261295825687                   2019-08-15\n",
       "13172     261295934701                   2015-03-27\n",
       "13173     261296990719                   2019-06-06\n",
       "13174     261297005012                   2019-09-16\n",
       "13175     261299039442                   2018-09-21\n",
       "13176     261300000320                   2019-05-30\n",
       "\n",
       "[13177 rows x 2 columns]"
      ]
     },
     "execution_count": 196,
     "metadata": {},
     "output_type": "execute_result"
    }
   ],
   "source": [
    "from datetime import timedelta\n",
    "def next_purchaseDate(x):\n",
    "    x=x.tolist()\n",
    "    x.sort()\n",
    "    list_diff=[]\n",
    "    length=0\n",
    "    if(len(x)>1):\n",
    "        for i in range(len(x)-1):\n",
    "            diff=(x[i+1]-x[i]).days\n",
    "            list_diff.append(diff)\n",
    "            if(diff!=0):\n",
    "                length=length+1\n",
    "        if(sum(list_diff)>0):\n",
    "            avg_=sum(list_diff)/length\n",
    "        else:\n",
    "            return 1 \n",
    "        return avg_\n",
    "    else:\n",
    "        return 1\n",
    "        \n",
    "        \n",
    "    \n",
    "Predict_PD_DF=Predict_PD.agg({\"billing_date\":lambda x : (str(x.max()+timedelta(days=next_purchaseDate(x)))).split(' ')[0]})\n",
    "Predict_PD_DF.rename(columns={\"billing_date\":\"Predicted Next Purchase Date\"},inplace=True)\n",
    "Predict_PD_DF=Predict_PD_DF.reset_index()\n",
    "Predict_PD_DF"
   ]
  },
  {
   "cell_type": "code",
   "execution_count": null,
   "metadata": {},
   "outputs": [],
   "source": []
  },
  {
   "cell_type": "code",
   "execution_count": 172,
   "metadata": {},
   "outputs": [
    {
     "data": {
      "text/plain": [
       "348508"
      ]
     },
     "execution_count": 172,
     "metadata": {},
     "output_type": "execute_result"
    }
   ],
   "source": [
    "len(Data_Merged['billing_date'].tolist())"
   ]
  }
 ],
 "metadata": {
  "kernelspec": {
   "display_name": "Python 3",
   "language": "python",
   "name": "python3"
  },
  "language_info": {
   "codemirror_mode": {
    "name": "ipython",
    "version": 3
   },
   "file_extension": ".py",
   "mimetype": "text/x-python",
   "name": "python",
   "nbconvert_exporter": "python",
   "pygments_lexer": "ipython3",
   "version": "3.8.8"
  }
 },
 "nbformat": 4,
 "nbformat_minor": 2
}
